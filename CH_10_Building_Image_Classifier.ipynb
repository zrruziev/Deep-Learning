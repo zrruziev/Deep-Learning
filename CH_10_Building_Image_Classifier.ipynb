{
  "nbformat": 4,
  "nbformat_minor": 0,
  "metadata": {
    "colab": {
      "name": "CH_10_Building_Image_Classifier.ipynb",
      "provenance": [],
      "collapsed_sections": [],
      "toc_visible": true,
      "authorship_tag": "ABX9TyPRVnGCWGB9dAbHJmxuZVag",
      "include_colab_link": true
    },
    "kernelspec": {
      "name": "python3",
      "display_name": "Python 3"
    },
    "language_info": {
      "name": "python"
    },
    "accelerator": "GPU"
  },
  "cells": [
    {
      "cell_type": "markdown",
      "metadata": {
        "id": "view-in-github",
        "colab_type": "text"
      },
      "source": [
        "<a href=\"https://colab.research.google.com/github/zrruziev/Machine_Learning_Practice/blob/main/CH_10_Building_Image_Classifier.ipynb\" target=\"_parent\"><img src=\"https://colab.research.google.com/assets/colab-badge.svg\" alt=\"Open In Colab\"/></a>"
      ]
    },
    {
      "cell_type": "markdown",
      "source": [
        "# Building an Image Classifier"
      ],
      "metadata": {
        "id": "ytTjWgyKyuGW"
      }
    },
    {
      "cell_type": "code",
      "execution_count": null,
      "metadata": {
        "colab": {
          "base_uri": "https://localhost:8080/"
        },
        "id": "1jWp2Kxax3t_",
        "outputId": "c315c204-d2d3-4649-b145-ebace62008f2"
      },
      "outputs": [
        {
          "output_type": "stream",
          "name": "stdout",
          "text": [
            "tf = 2.7.0\n",
            "keras = 2.7.0\n"
          ]
        }
      ],
      "source": [
        "import tensorflow as tf\n",
        "from tensorflow import keras\n",
        "\n",
        "# Show versions of tensorflow and keras\n",
        "print(f'tf = {tf.__version__}')\n",
        "print(f'keras = {keras.__version__}')"
      ]
    },
    {
      "cell_type": "markdown",
      "source": [
        "Load Dataset"
      ],
      "metadata": {
        "id": "CQGejAygzlE8"
      }
    },
    {
      "cell_type": "code",
      "source": [
        "fashion_mnist = keras.datasets.fashion_mnist\n",
        "(X_train_full, y_train_full), (X_test, y_test) = fashion_mnist.load_data()\n",
        "\n",
        "# Show the shape and type of training data\n",
        "print(f'train_data_shape: {X_train_full.shape}')\n",
        "print(f'train_data_type: {X_train_full.dtype}')"
      ],
      "metadata": {
        "colab": {
          "base_uri": "https://localhost:8080/"
        },
        "id": "s9lEgRZwzLwS",
        "outputId": "7c74104d-71c5-4e2d-bdf3-7f1757873f4d"
      },
      "execution_count": null,
      "outputs": [
        {
          "output_type": "stream",
          "name": "stdout",
          "text": [
            "Downloading data from https://storage.googleapis.com/tensorflow/tf-keras-datasets/train-labels-idx1-ubyte.gz\n",
            "32768/29515 [=================================] - 0s 0us/step\n",
            "40960/29515 [=========================================] - 0s 0us/step\n",
            "Downloading data from https://storage.googleapis.com/tensorflow/tf-keras-datasets/train-images-idx3-ubyte.gz\n",
            "26427392/26421880 [==============================] - 0s 0us/step\n",
            "26435584/26421880 [==============================] - 0s 0us/step\n",
            "Downloading data from https://storage.googleapis.com/tensorflow/tf-keras-datasets/t10k-labels-idx1-ubyte.gz\n",
            "16384/5148 [===============================================================================================] - 0s 0us/step\n",
            "Downloading data from https://storage.googleapis.com/tensorflow/tf-keras-datasets/t10k-images-idx3-ubyte.gz\n",
            "4423680/4422102 [==============================] - 0s 0us/step\n",
            "4431872/4422102 [==============================] - 0s 0us/step\n",
            "train_data_shape: (60000, 28, 28)\n",
            "train_data_type: uint8\n"
          ]
        }
      ]
    },
    {
      "cell_type": "markdown",
      "source": [
        "Let's split the full training data set into a validation and a (smaller) training set. Also scale the pixel intensities down to the range of [0:1] by dividing by 255 and convert them to floats(float_num = 255., int_num = 255)"
      ],
      "metadata": {
        "id": "AVQhtUT_1IC2"
      }
    },
    {
      "cell_type": "code",
      "source": [
        "import numpy as np\n",
        "\n",
        "# If I don't use \"np.float32\", dtypes will be float64.  \n",
        "X_valid, X_train = np.float32(X_train_full[:5000] / 255.), np.float32(X_train_full[5000:] / 255.)\n",
        "y_valid, y_train = y_train_full[:5000], y_train_full[5000:]\n",
        "X_test = np.float32(X_test / 255.)\n",
        "\n",
        "# Show the scaled and converted data\n",
        "print(f'X_valid_shape: {X_valid.shape} {X_valid.dtype}\\nX_train_shape: {X_train.shape} {X_valid.dtype}\\nX_test_shape: {X_test.shape} {X_test.dtype}')"
      ],
      "metadata": {
        "colab": {
          "base_uri": "https://localhost:8080/"
        },
        "id": "znhv5Q7zz7nk",
        "outputId": "c1fe1563-ec62-429c-fdda-e27c3ec581d9"
      },
      "execution_count": null,
      "outputs": [
        {
          "output_type": "stream",
          "name": "stdout",
          "text": [
            "X_valid_shape: (5000, 28, 28) float32\n",
            "X_train_shape: (55000, 28, 28) float32\n",
            "X_test_shape: (10000, 28, 28) float32\n"
          ]
        }
      ]
    },
    {
      "cell_type": "markdown",
      "source": [
        "Let's plot some images"
      ],
      "metadata": {
        "id": "RGDUs4kAF_pq"
      }
    },
    {
      "cell_type": "code",
      "source": [
        "# %matplotlib inline\n",
        "import matplotlib.pyplot as plt\n",
        "\n",
        "plt.imshow(X_train[0], cmap=\"binary\")\n",
        "plt.axis('off')\n",
        "plt.show()"
      ],
      "metadata": {
        "colab": {
          "base_uri": "https://localhost:8080/",
          "height": 248
        },
        "id": "x3_ZlSin2hIf",
        "outputId": "dac29c1b-7448-4d63-d95d-cdea5ab122f0"
      },
      "execution_count": null,
      "outputs": [
        {
          "output_type": "display_data",
          "data": {
            "image/png": "[encoded data removed]",
            "text/plain": [
              "<Figure size 432x288 with 1 Axes>"
            ]
          },
          "metadata": {
            "needs_background": "light"
          }
        }
      ]
    },
    {
      "cell_type": "markdown",
      "source": [
        "The labels are the class IDs (represented as uint8), from 0 to 9:"
      ],
      "metadata": {
        "id": "Mwmeu_W9Gi8i"
      }
    },
    {
      "cell_type": "code",
      "source": [
        "y_train"
      ],
      "metadata": {
        "colab": {
          "base_uri": "https://localhost:8080/"
        },
        "id": "y-hL5_Q12lqE",
        "outputId": "4ab249c2-222a-45f6-deb9-0226f94f526c"
      },
      "execution_count": null,
      "outputs": [
        {
          "output_type": "execute_result",
          "data": {
            "text/plain": [
              "array([4, 0, 7, ..., 3, 0, 5], dtype=uint8)"
            ]
          },
          "metadata": {},
          "execution_count": 5
        }
      ]
    },
    {
      "cell_type": "markdown",
      "source": [
        "Here are the corresponding class names:"
      ],
      "metadata": {
        "id": "Kr07760AHDEA"
      }
    },
    {
      "cell_type": "code",
      "source": [
        "class_names = [\"T-shirt/top\", \"Trouser\", \"Pullover\", \"Dress\", \"Coat\",\n",
        "               \"Sandal\", \"Shirt\", \"Sneaker\", \"Bag\", \"Ankle boot\"]"
      ],
      "metadata": {
        "id": "bXlxr6QlGlfl"
      },
      "execution_count": null,
      "outputs": []
    },
    {
      "cell_type": "markdown",
      "source": [
        "So the first image in the training set is a coat:"
      ],
      "metadata": {
        "id": "nWOlxB3JHM0x"
      }
    },
    {
      "cell_type": "code",
      "source": [
        "class_names[y_train[0]]"
      ],
      "metadata": {
        "colab": {
          "base_uri": "https://localhost:8080/",
          "height": 35
        },
        "id": "KASm8SiWHHcL",
        "outputId": "f9a4e729-5669-4506-ca14-77fea36e1ffb"
      },
      "execution_count": null,
      "outputs": [
        {
          "output_type": "execute_result",
          "data": {
            "application/vnd.google.colaboratory.intrinsic+json": {
              "type": "string"
            },
            "text/plain": [
              "'Coat'"
            ]
          },
          "metadata": {},
          "execution_count": 7
        }
      ]
    },
    {
      "cell_type": "markdown",
      "source": [
        "The validation set contains 5,000 images, and the test set contains 10,000 images:"
      ],
      "metadata": {
        "id": "TAnwcVUVHh2l"
      }
    },
    {
      "cell_type": "code",
      "source": [
        "X_valid.shape"
      ],
      "metadata": {
        "colab": {
          "base_uri": "https://localhost:8080/"
        },
        "id": "UuutCHobHS4N",
        "outputId": "45e86cbb-e317-4366-ec21-bb6d6754b9ea"
      },
      "execution_count": null,
      "outputs": [
        {
          "output_type": "execute_result",
          "data": {
            "text/plain": [
              "(5000, 28, 28)"
            ]
          },
          "metadata": {},
          "execution_count": 8
        }
      ]
    },
    {
      "cell_type": "code",
      "source": [
        "X_test.shape"
      ],
      "metadata": {
        "colab": {
          "base_uri": "https://localhost:8080/"
        },
        "id": "SxfPUEyXHkyN",
        "outputId": "e7062554-8e60-4f78-ab20-222806558264"
      },
      "execution_count": null,
      "outputs": [
        {
          "output_type": "execute_result",
          "data": {
            "text/plain": [
              "(10000, 28, 28)"
            ]
          },
          "metadata": {},
          "execution_count": 9
        }
      ]
    },
    {
      "cell_type": "markdown",
      "source": [
        "Let's take a look at a sample of the images in the dataset:"
      ],
      "metadata": {
        "id": "DE-RDOszHrK1"
      }
    },
    {
      "cell_type": "code",
      "source": [
        "n_rows = 4\n",
        "n_cols = 10\n",
        "plt.figure(figsize=(n_cols * 1.5, n_rows * 1.5))\n",
        "for row in range(n_rows):\n",
        "  for col in range(n_cols):\n",
        "    index = n_cols * row + col\n",
        "    plt.subplot(n_rows, n_cols, index + 1)\n",
        "    plt.imshow(X_train[index], cmap='binary', interpolation=\"nearest\")\n",
        "    plt.axis('off')\n",
        "    plt.title(class_names[y_train[index]], fontsize=12)\n",
        "plt.subplots_adjust(wspace=.3, hspace=.5)\n",
        "plt.show()\n"
      ],
      "metadata": {
        "colab": {
          "base_uri": "https://localhost:8080/",
          "height": 355
        },
        "id": "MVWq17epHnYO",
        "outputId": "ebfe3e79-7c6c-45b8-a23c-c7ebf54c5346"
      },
      "execution_count": null,
      "outputs": [
        {
          "output_type": "display_data",
          "data": {
            "image/png": "[encoded data removed]",
            "text/plain": [
              "<Figure size 1080x432 with 40 Axes>"
            ]
          },
          "metadata": {
            "needs_background": "light"
          }
        }
      ]
    },
    {
      "cell_type": "markdown",
      "source": [
        "_______________________________________________________________\n",
        "Create a Model"
      ],
      "metadata": {
        "id": "cUDBm5J6XcxK"
      }
    },
    {
      "cell_type": "code",
      "source": [
        "model = keras.models.Sequential()\n",
        "model.add(keras.layers.Flatten(input_shape=[28,28]))\n",
        "model.add(keras.layers.Dense(300, activation=\"relu\"))\n",
        "model.add(keras.layers.Dense(100, activation=\"relu\"))\n",
        "model.add(keras.layers.Dense(10, activation=\"softmax\"))\n",
        "\n",
        "\n",
        "############# We may write like this: #############\n",
        "##-----------------------------------------------##\n",
        "# model = keras.models.Sequential([\n",
        "#     keras.layers.Flatten(input_shape=[28, 28]),\n",
        "#     keras.layers.Dense(300, activation=\"relu\"),\n",
        "#     keras.layers.Dense(100, activation=\"relu\"),\n",
        "#     keras.layers.Dense(10, activation=\"softmax\")\n",
        "# ])"
      ],
      "metadata": {
        "id": "0bep3YbaXcj6"
      },
      "execution_count": null,
      "outputs": []
    },
    {
      "cell_type": "code",
      "source": [
        "keras.backend.clear_session() \n",
        "np.random.seed(42)\n",
        "tf.random.set_seed(42)"
      ],
      "metadata": {
        "id": "c3zeLrBPJZi2"
      },
      "execution_count": null,
      "outputs": []
    },
    {
      "cell_type": "code",
      "source": [
        "model.layers"
      ],
      "metadata": {
        "colab": {
          "base_uri": "https://localhost:8080/"
        },
        "id": "7B-IQqTCYgbk",
        "outputId": "046544b8-722a-4aae-f110-c03b4fb90b95"
      },
      "execution_count": null,
      "outputs": [
        {
          "output_type": "execute_result",
          "data": {
            "text/plain": [
              "[<keras.layers.core.flatten.Flatten at 0x7f66127ca8d0>,\n",
              " <keras.layers.core.dense.Dense at 0x7f66127d3490>,\n",
              " <keras.layers.core.dense.Dense at 0x7f661174d890>,\n",
              " <keras.layers.core.dense.Dense at 0x7f660028c410>]"
            ]
          },
          "metadata": {},
          "execution_count": 13
        }
      ]
    },
    {
      "cell_type": "code",
      "source": [
        "model.summary()"
      ],
      "metadata": {
        "colab": {
          "base_uri": "https://localhost:8080/"
        },
        "id": "SAcQ4a0lZGhM",
        "outputId": "b415ab68-a0dc-4162-cd78-b864f915ff69"
      },
      "execution_count": null,
      "outputs": [
        {
          "output_type": "stream",
          "name": "stdout",
          "text": [
            "Model: \"sequential\"\n",
            "_________________________________________________________________\n",
            " Layer (type)                Output Shape              Param #   \n",
            "=================================================================\n",
            " flatten (Flatten)           (None, 784)               0         \n",
            "                                                                 \n",
            " dense (Dense)               (None, 300)               235500    \n",
            "                                                                 \n",
            " dense_1 (Dense)             (None, 100)               30100     \n",
            "                                                                 \n",
            " dense_2 (Dense)             (None, 10)                1010      \n",
            "                                                                 \n",
            "=================================================================\n",
            "Total params: 266,610\n",
            "Trainable params: 266,610\n",
            "Non-trainable params: 0\n",
            "_________________________________________________________________\n"
          ]
        }
      ]
    },
    {
      "cell_type": "code",
      "source": [
        "keras.utils.plot_model(model, \"classification_model.png\", show_shapes=True, show_dtype=True)"
      ],
      "metadata": {
        "colab": {
          "base_uri": "https://localhost:8080/",
          "height": 533
        },
        "id": "uTscRRliZOdi",
        "outputId": "898fcf6f-227a-43d7-dfbe-511731fd6039"
      },
      "execution_count": null,
      "outputs": [
        {
          "output_type": "execute_result",
          "data": {
            "image/png": "[encoded data removed]",
            "text/plain": [
              "<IPython.core.display.Image object>"
            ]
          },
          "metadata": {},
          "execution_count": 15
        }
      ]
    },
    {
      "cell_type": "code",
      "source": [
        "hidden1 = model.layers[1]\n",
        "hidden1.name"
      ],
      "metadata": {
        "colab": {
          "base_uri": "https://localhost:8080/",
          "height": 35
        },
        "id": "oZ1MjDFZZiGg",
        "outputId": "a79cfbd7-734a-4fdd-fca7-bfa9b4a04b32"
      },
      "execution_count": null,
      "outputs": [
        {
          "output_type": "execute_result",
          "data": {
            "application/vnd.google.colaboratory.intrinsic+json": {
              "type": "string"
            },
            "text/plain": [
              "'dense'"
            ]
          },
          "metadata": {},
          "execution_count": 16
        }
      ]
    },
    {
      "cell_type": "code",
      "source": [
        "model.get_layer(hidden1.name) is hidden1"
      ],
      "metadata": {
        "colab": {
          "base_uri": "https://localhost:8080/"
        },
        "id": "fzLM14oZZ20L",
        "outputId": "7f4369b5-66b3-45ba-a37a-de3412d42b3a"
      },
      "execution_count": null,
      "outputs": [
        {
          "output_type": "execute_result",
          "data": {
            "text/plain": [
              "True"
            ]
          },
          "metadata": {},
          "execution_count": 17
        }
      ]
    },
    {
      "cell_type": "code",
      "source": [
        "weights, biases = hidden1.get_weights()"
      ],
      "metadata": {
        "id": "tgz6n6__abEr"
      },
      "execution_count": null,
      "outputs": []
    },
    {
      "cell_type": "code",
      "source": [
        "weights"
      ],
      "metadata": {
        "colab": {
          "base_uri": "https://localhost:8080/"
        },
        "id": "NX6_-YRzaf61",
        "outputId": "1b3c1198-2d5e-442a-ce79-fb916ccac505"
      },
      "execution_count": null,
      "outputs": [
        {
          "output_type": "execute_result",
          "data": {
            "text/plain": [
              "array([[-0.07197521, -0.03870127,  0.05023946, ...,  0.06510498,\n",
              "        -0.05642511, -0.01073641],\n",
              "       [-0.05223197, -0.04943354,  0.05587764, ..., -0.01928981,\n",
              "        -0.03636342,  0.03530301],\n",
              "       [ 0.06598572,  0.00785623, -0.05662647, ..., -0.00100086,\n",
              "         0.05470523, -0.00080468],\n",
              "       ...,\n",
              "       [-0.05677069, -0.0557704 , -0.04549497, ..., -0.0325344 ,\n",
              "         0.00352219,  0.01187817],\n",
              "       [-0.06310208,  0.07094184, -0.01065329, ...,  0.03343743,\n",
              "        -0.02026968, -0.03680253],\n",
              "       [ 0.00809752,  0.03809218,  0.06735979, ..., -0.0134617 ,\n",
              "        -0.03606478, -0.03677396]], dtype=float32)"
            ]
          },
          "metadata": {},
          "execution_count": 19
        }
      ]
    },
    {
      "cell_type": "code",
      "source": [
        "weights.shape"
      ],
      "metadata": {
        "colab": {
          "base_uri": "https://localhost:8080/"
        },
        "id": "j0VqlEz4aiat",
        "outputId": "7c328322-f429-4018-c1f1-a8f5b6d02d6c"
      },
      "execution_count": null,
      "outputs": [
        {
          "output_type": "execute_result",
          "data": {
            "text/plain": [
              "(784, 300)"
            ]
          },
          "metadata": {},
          "execution_count": 20
        }
      ]
    },
    {
      "cell_type": "code",
      "source": [
        "biases"
      ],
      "metadata": {
        "colab": {
          "base_uri": "https://localhost:8080/"
        },
        "id": "NK5FSq8UasHc",
        "outputId": "b6f5fb4a-6874-4b1e-f643-f1912aeeccff"
      },
      "execution_count": null,
      "outputs": [
        {
          "output_type": "execute_result",
          "data": {
            "text/plain": [
              "array([0., 0., 0., 0., 0., 0., 0., 0., 0., 0., 0., 0., 0., 0., 0., 0., 0.,\n",
              "       0., 0., 0., 0., 0., 0., 0., 0., 0., 0., 0., 0., 0., 0., 0., 0., 0.,\n",
              "       0., 0., 0., 0., 0., 0., 0., 0., 0., 0., 0., 0., 0., 0., 0., 0., 0.,\n",
              "       0., 0., 0., 0., 0., 0., 0., 0., 0., 0., 0., 0., 0., 0., 0., 0., 0.,\n",
              "       0., 0., 0., 0., 0., 0., 0., 0., 0., 0., 0., 0., 0., 0., 0., 0., 0.,\n",
              "       0., 0., 0., 0., 0., 0., 0., 0., 0., 0., 0., 0., 0., 0., 0., 0., 0.,\n",
              "       0., 0., 0., 0., 0., 0., 0., 0., 0., 0., 0., 0., 0., 0., 0., 0., 0.,\n",
              "       0., 0., 0., 0., 0., 0., 0., 0., 0., 0., 0., 0., 0., 0., 0., 0., 0.,\n",
              "       0., 0., 0., 0., 0., 0., 0., 0., 0., 0., 0., 0., 0., 0., 0., 0., 0.,\n",
              "       0., 0., 0., 0., 0., 0., 0., 0., 0., 0., 0., 0., 0., 0., 0., 0., 0.,\n",
              "       0., 0., 0., 0., 0., 0., 0., 0., 0., 0., 0., 0., 0., 0., 0., 0., 0.,\n",
              "       0., 0., 0., 0., 0., 0., 0., 0., 0., 0., 0., 0., 0., 0., 0., 0., 0.,\n",
              "       0., 0., 0., 0., 0., 0., 0., 0., 0., 0., 0., 0., 0., 0., 0., 0., 0.,\n",
              "       0., 0., 0., 0., 0., 0., 0., 0., 0., 0., 0., 0., 0., 0., 0., 0., 0.,\n",
              "       0., 0., 0., 0., 0., 0., 0., 0., 0., 0., 0., 0., 0., 0., 0., 0., 0.,\n",
              "       0., 0., 0., 0., 0., 0., 0., 0., 0., 0., 0., 0., 0., 0., 0., 0., 0.,\n",
              "       0., 0., 0., 0., 0., 0., 0., 0., 0., 0., 0., 0., 0., 0., 0., 0., 0.,\n",
              "       0., 0., 0., 0., 0., 0., 0., 0., 0., 0., 0.], dtype=float32)"
            ]
          },
          "metadata": {},
          "execution_count": 21
        }
      ]
    },
    {
      "cell_type": "code",
      "source": [
        "biases.shape"
      ],
      "metadata": {
        "colab": {
          "base_uri": "https://localhost:8080/"
        },
        "id": "fuCSM6t4atYU",
        "outputId": "430a92af-fd43-4b4c-94ed-c01b7933a370"
      },
      "execution_count": null,
      "outputs": [
        {
          "output_type": "execute_result",
          "data": {
            "text/plain": [
              "(300,)"
            ]
          },
          "metadata": {},
          "execution_count": 22
        }
      ]
    },
    {
      "cell_type": "code",
      "source": [
        "model.compile(loss=\"sparse_categorical_crossentropy\",\n",
        "              optimizer=\"sgd\",\n",
        "              metrics=[\"accuracy\"])\n",
        "\n",
        "\n",
        "############ This equivalent to: ############\n",
        "# model.compile(loss=keras.losses.sparse_categorical_crossentropy,\n",
        "#               optimizer=keras.optimizers.SGD(),\n",
        "#               metrics=[keras.metrics.sparse_categorical_accuracy])\n"
      ],
      "metadata": {
        "id": "7WLPZsE1avOT"
      },
      "execution_count": null,
      "outputs": []
    },
    {
      "cell_type": "markdown",
      "source": [
        "Training Process"
      ],
      "metadata": {
        "id": "LNXCZKMgblc0"
      }
    },
    {
      "cell_type": "code",
      "source": [
        "history = model.fit(X_train, y_train, epochs=30,\n",
        "                    validation_data=(X_valid, y_valid),\n",
        "                    verbose=1)"
      ],
      "metadata": {
        "colab": {
          "base_uri": "https://localhost:8080/"
        },
        "id": "3apUsyUWbFwY",
        "outputId": "ceda036a-84f7-4e95-9aae-775a17f4acb6"
      },
      "execution_count": null,
      "outputs": [
        {
          "output_type": "stream",
          "name": "stdout",
          "text": [
            "Epoch 1/30\n",
            "1719/1719 [==============================] - 13s 6ms/step - loss: 0.7194 - accuracy: 0.7648 - val_loss: 0.5167 - val_accuracy: 0.8216\n",
            "Epoch 2/30\n",
            "1719/1719 [==============================] - 10s 6ms/step - loss: 0.4872 - accuracy: 0.8296 - val_loss: 0.4335 - val_accuracy: 0.8548\n",
            "Epoch 3/30\n",
            "1719/1719 [==============================] - 6s 3ms/step - loss: 0.4424 - accuracy: 0.8447 - val_loss: 0.5122 - val_accuracy: 0.8114\n",
            "Epoch 4/30\n",
            "1719/1719 [==============================] - 6s 3ms/step - loss: 0.4168 - accuracy: 0.8544 - val_loss: 0.3982 - val_accuracy: 0.8644\n",
            "Epoch 5/30\n",
            "1719/1719 [==============================] - 6s 3ms/step - loss: 0.3989 - accuracy: 0.8603 - val_loss: 0.3741 - val_accuracy: 0.8708\n",
            "Epoch 6/30\n",
            "1719/1719 [==============================] - 6s 3ms/step - loss: 0.3799 - accuracy: 0.8675 - val_loss: 0.3712 - val_accuracy: 0.8724\n",
            "Epoch 7/30\n",
            "1719/1719 [==============================] - 6s 3ms/step - loss: 0.3678 - accuracy: 0.8705 - val_loss: 0.3676 - val_accuracy: 0.8752\n",
            "Epoch 8/30\n",
            "1719/1719 [==============================] - 6s 4ms/step - loss: 0.3561 - accuracy: 0.8735 - val_loss: 0.3918 - val_accuracy: 0.8572\n",
            "Epoch 9/30\n",
            "1719/1719 [==============================] - 6s 4ms/step - loss: 0.3456 - accuracy: 0.8778 - val_loss: 0.3584 - val_accuracy: 0.8758\n",
            "Epoch 10/30\n",
            "1719/1719 [==============================] - 6s 3ms/step - loss: 0.3366 - accuracy: 0.8805 - val_loss: 0.3529 - val_accuracy: 0.8772\n",
            "Epoch 11/30\n",
            "1719/1719 [==============================] - 6s 4ms/step - loss: 0.3279 - accuracy: 0.8836 - val_loss: 0.3555 - val_accuracy: 0.8746\n",
            "Epoch 12/30\n",
            "1719/1719 [==============================] - 6s 3ms/step - loss: 0.3188 - accuracy: 0.8859 - val_loss: 0.3357 - val_accuracy: 0.8814\n",
            "Epoch 13/30\n",
            "1719/1719 [==============================] - 6s 3ms/step - loss: 0.3119 - accuracy: 0.8879 - val_loss: 0.3301 - val_accuracy: 0.8852\n",
            "Epoch 14/30\n",
            "1719/1719 [==============================] - 6s 3ms/step - loss: 0.3054 - accuracy: 0.8903 - val_loss: 0.3511 - val_accuracy: 0.8710\n",
            "Epoch 15/30\n",
            "1719/1719 [==============================] - 6s 3ms/step - loss: 0.2977 - accuracy: 0.8931 - val_loss: 0.3225 - val_accuracy: 0.8850\n",
            "Epoch 16/30\n",
            "1719/1719 [==============================] - 6s 3ms/step - loss: 0.2924 - accuracy: 0.8960 - val_loss: 0.3129 - val_accuracy: 0.8872\n",
            "Epoch 17/30\n",
            "1719/1719 [==============================] - 6s 3ms/step - loss: 0.2873 - accuracy: 0.8965 - val_loss: 0.3577 - val_accuracy: 0.8724\n",
            "Epoch 18/30\n",
            "1719/1719 [==============================] - 7s 4ms/step - loss: 0.2805 - accuracy: 0.8990 - val_loss: 0.3120 - val_accuracy: 0.8916\n",
            "Epoch 19/30\n",
            "1719/1719 [==============================] - 6s 4ms/step - loss: 0.2762 - accuracy: 0.9006 - val_loss: 0.3139 - val_accuracy: 0.8882\n",
            "Epoch 20/30\n",
            "1719/1719 [==============================] - 6s 3ms/step - loss: 0.2707 - accuracy: 0.9022 - val_loss: 0.3353 - val_accuracy: 0.8798\n",
            "Epoch 21/30\n",
            "1719/1719 [==============================] - 6s 3ms/step - loss: 0.2659 - accuracy: 0.9047 - val_loss: 0.3077 - val_accuracy: 0.8920\n",
            "Epoch 22/30\n",
            "1719/1719 [==============================] - 6s 3ms/step - loss: 0.2608 - accuracy: 0.9059 - val_loss: 0.2987 - val_accuracy: 0.8950\n",
            "Epoch 23/30\n",
            "1719/1719 [==============================] - 6s 3ms/step - loss: 0.2566 - accuracy: 0.9075 - val_loss: 0.3018 - val_accuracy: 0.8950\n",
            "Epoch 24/30\n",
            "1719/1719 [==============================] - 6s 3ms/step - loss: 0.2523 - accuracy: 0.9092 - val_loss: 0.3075 - val_accuracy: 0.8894\n",
            "Epoch 25/30\n",
            "1719/1719 [==============================] - 6s 3ms/step - loss: 0.2480 - accuracy: 0.9103 - val_loss: 0.3031 - val_accuracy: 0.8942\n",
            "Epoch 26/30\n",
            "1719/1719 [==============================] - 6s 3ms/step - loss: 0.2438 - accuracy: 0.9122 - val_loss: 0.2983 - val_accuracy: 0.8920\n",
            "Epoch 27/30\n",
            "1719/1719 [==============================] - 6s 3ms/step - loss: 0.2402 - accuracy: 0.9135 - val_loss: 0.3006 - val_accuracy: 0.8932\n",
            "Epoch 28/30\n",
            "1719/1719 [==============================] - 6s 3ms/step - loss: 0.2363 - accuracy: 0.9139 - val_loss: 0.3021 - val_accuracy: 0.8916\n",
            "Epoch 29/30\n",
            "1719/1719 [==============================] - 6s 3ms/step - loss: 0.2317 - accuracy: 0.9166 - val_loss: 0.3160 - val_accuracy: 0.8868\n",
            "Epoch 30/30\n",
            "1719/1719 [==============================] - 6s 3ms/step - loss: 0.2278 - accuracy: 0.9181 - val_loss: 0.3088 - val_accuracy: 0.8912\n"
          ]
        }
      ]
    },
    {
      "cell_type": "code",
      "source": [
        "history.params"
      ],
      "metadata": {
        "colab": {
          "base_uri": "https://localhost:8080/"
        },
        "id": "_wYIr71vb5l3",
        "outputId": "68774091-9279-4d7e-c8e9-96e4f024b9e2"
      },
      "execution_count": null,
      "outputs": [
        {
          "output_type": "execute_result",
          "data": {
            "text/plain": [
              "{'epochs': 30, 'steps': 1719, 'verbose': 1}"
            ]
          },
          "metadata": {},
          "execution_count": 25
        }
      ]
    },
    {
      "cell_type": "code",
      "source": [
        "print(history.epoch)"
      ],
      "metadata": {
        "colab": {
          "base_uri": "https://localhost:8080/"
        },
        "id": "2kfH7nlTfDYO",
        "outputId": "673d22b7-b8ea-4790-b76a-96fc9bcf9d3a"
      },
      "execution_count": null,
      "outputs": [
        {
          "output_type": "stream",
          "name": "stdout",
          "text": [
            "[0, 1, 2, 3, 4, 5, 6, 7, 8, 9, 10, 11, 12, 13, 14, 15, 16, 17, 18, 19, 20, 21, 22, 23, 24, 25, 26, 27, 28, 29]\n"
          ]
        }
      ]
    },
    {
      "cell_type": "code",
      "source": [
        "history.history.keys()"
      ],
      "metadata": {
        "colab": {
          "base_uri": "https://localhost:8080/"
        },
        "id": "UT7rpHiIfcc8",
        "outputId": "d5ff1002-863a-4778-ec18-c2ff3e38728d"
      },
      "execution_count": null,
      "outputs": [
        {
          "output_type": "execute_result",
          "data": {
            "text/plain": [
              "dict_keys(['loss', 'accuracy', 'val_loss', 'val_accuracy'])"
            ]
          },
          "metadata": {},
          "execution_count": 27
        }
      ]
    },
    {
      "cell_type": "code",
      "source": [
        "from IPython.core.pylabtools import figsize\n",
        "import pandas as pd\n",
        "\n",
        "pd.DataFrame(history.history).plot(figsize=(8,5))\n",
        "plt.grid(True)\n",
        "plt.gca().set_ylim(0,1)\n",
        "plt.show()"
      ],
      "metadata": {
        "colab": {
          "base_uri": "https://localhost:8080/",
          "height": 324
        },
        "id": "6Vu1veUVfj57",
        "outputId": "90fc62d4-e6ab-4d13-e3de-3188caac2fa4"
      },
      "execution_count": null,
      "outputs": [
        {
          "output_type": "display_data",
          "data": {
            "image/png": "[encoded data removed]",
            "text/plain": [
              "<Figure size 576x360 with 1 Axes>"
            ]
          },
          "metadata": {
            "needs_background": "light"
          }
        }
      ]
    },
    {
      "cell_type": "code",
      "source": [
        "model.evaluate(X_test, y_test)"
      ],
      "metadata": {
        "colab": {
          "base_uri": "https://localhost:8080/"
        },
        "id": "4bxayAuOgLEy",
        "outputId": "b7075ce9-60e6-42e6-b8bf-a1e0a45a3037"
      },
      "execution_count": null,
      "outputs": [
        {
          "output_type": "stream",
          "name": "stdout",
          "text": [
            "313/313 [==============================] - 1s 3ms/step - loss: 0.3386 - accuracy: 0.8783\n"
          ]
        },
        {
          "output_type": "execute_result",
          "data": {
            "text/plain": [
              "[0.33862200379371643, 0.8783000111579895]"
            ]
          },
          "metadata": {},
          "execution_count": 29
        }
      ]
    },
    {
      "cell_type": "markdown",
      "source": [
        "# Make some predictions"
      ],
      "metadata": {
        "id": "oq7E8PfK39vL"
      }
    },
    {
      "cell_type": "code",
      "source": [
        "X_new = X_test[:3]\n",
        "y_proba = model.predict(X_new)\n",
        "y_proba.round(2)"
      ],
      "metadata": {
        "colab": {
          "base_uri": "https://localhost:8080/"
        },
        "id": "-MGBe6sSgg_s",
        "outputId": "2a2700db-24c3-4728-a99b-8235af352146"
      },
      "execution_count": null,
      "outputs": [
        {
          "output_type": "execute_result",
          "data": {
            "text/plain": [
              "array([[0.  , 0.  , 0.  , 0.  , 0.  , 0.01, 0.  , 0.02, 0.  , 0.98],\n",
              "       [0.  , 0.  , 0.97, 0.  , 0.03, 0.  , 0.  , 0.  , 0.  , 0.  ],\n",
              "       [0.  , 1.  , 0.  , 0.  , 0.  , 0.  , 0.  , 0.  , 0.  , 0.  ]],\n",
              "      dtype=float32)"
            ]
          },
          "metadata": {},
          "execution_count": 30
        }
      ]
    },
    {
      "cell_type": "markdown",
      "metadata": {
        "id": "6wA2_Fc8kX7A"
      },
      "source": [
        "**Warning**: `model.predict_classes(X_new)` is deprecated. It is replaced with `np.argmax(model.predict(X_new), axis=-1)`."
      ]
    },
    {
      "cell_type": "code",
      "source": [
        "# y_pred = model.predict_classes(X_new) #DEPRECATED\n",
        "y_pred = np.argmax(model.predict(X_new), axis=-1)\n",
        "y_pred"
      ],
      "metadata": {
        "colab": {
          "base_uri": "https://localhost:8080/"
        },
        "id": "bqSGAm0Kg0em",
        "outputId": "d954392b-6a34-4fa6-e7e8-d89b3d5e6dc2"
      },
      "execution_count": null,
      "outputs": [
        {
          "output_type": "execute_result",
          "data": {
            "text/plain": [
              "array([9, 2, 1])"
            ]
          },
          "metadata": {},
          "execution_count": 31
        }
      ]
    },
    {
      "cell_type": "code",
      "source": [
        "y_pred_percent = model.predict(X_new)\n",
        "percents = []\n",
        "for percent in y_pred_percent:\n",
        "  percent = max(percent)\n",
        "  a = percent.round(3)\n",
        "  print(a)\n",
        "  percents.append(a)\n",
        "print(percents)"
      ],
      "metadata": {
        "colab": {
          "base_uri": "https://localhost:8080/"
        },
        "id": "Zg6vuufioIbJ",
        "outputId": "b8085eae-c299-475a-9f00-e3d348e537c3"
      },
      "execution_count": null,
      "outputs": [
        {
          "output_type": "stream",
          "name": "stdout",
          "text": [
            "0.976\n",
            "0.969\n",
            "1.0\n",
            "[0.976, 0.969, 1.0]\n"
          ]
        }
      ]
    },
    {
      "cell_type": "code",
      "source": [
        "np.array(class_names)[y_pred]"
      ],
      "metadata": {
        "colab": {
          "base_uri": "https://localhost:8080/"
        },
        "id": "5N0vSUimhrba",
        "outputId": "8a33a4a4-8a9e-4806-bac6-73bb1f634e32"
      },
      "execution_count": null,
      "outputs": [
        {
          "output_type": "execute_result",
          "data": {
            "text/plain": [
              "array(['Ankle boot', 'Pullover', 'Trouser'], dtype='<U11')"
            ]
          },
          "metadata": {},
          "execution_count": 33
        }
      ]
    },
    {
      "cell_type": "code",
      "source": [
        "y_new = y_test[:3]\n",
        "y_new\n"
      ],
      "metadata": {
        "colab": {
          "base_uri": "https://localhost:8080/"
        },
        "id": "30C3uARkiW5L",
        "outputId": "063595c7-769a-4ed6-add9-98098dd40054"
      },
      "execution_count": null,
      "outputs": [
        {
          "output_type": "execute_result",
          "data": {
            "text/plain": [
              "array([9, 2, 1], dtype=uint8)"
            ]
          },
          "metadata": {},
          "execution_count": 34
        }
      ]
    },
    {
      "cell_type": "code",
      "source": [
        "print(percents)"
      ],
      "metadata": {
        "colab": {
          "base_uri": "https://localhost:8080/"
        },
        "id": "zlPAO051qM6S",
        "outputId": "47f62505-ecec-4e4a-feab-764a0d3654f6"
      },
      "execution_count": null,
      "outputs": [
        {
          "output_type": "stream",
          "name": "stdout",
          "text": [
            "[0.976, 0.969, 1.0]\n"
          ]
        }
      ]
    },
    {
      "cell_type": "markdown",
      "source": [
        "# **We should learn why it is happening!...**"
      ],
      "metadata": {
        "id": "3Tc1eWY1yQ40"
      }
    },
    {
      "cell_type": "code",
      "source": [
        "# There is somesthing WIERD Happened!\n",
        "print(percents[0])\n",
        "print(f'{percents[0]}')\n",
        "print(\"{:.3f}\".format(percents[0]))"
      ],
      "metadata": {
        "colab": {
          "base_uri": "https://localhost:8080/"
        },
        "id": "wIFWk_T6sC5R",
        "outputId": "11f8573b-68bd-443c-a6a7-39004b5948e5"
      },
      "execution_count": null,
      "outputs": [
        {
          "output_type": "stream",
          "name": "stdout",
          "text": [
            "0.976\n",
            "0.9760000109672546\n",
            "0.976\n"
          ]
        }
      ]
    },
    {
      "cell_type": "code",
      "source": [
        "plt.figure(figsize=(8, 4))\n",
        "for index, image in enumerate(X_new):\n",
        "  plt.subplot(1, 3, index +1)\n",
        "  plt.imshow(image, cmap=\"binary\", interpolation=\"nearest\")\n",
        "  plt.axis('off')\n",
        "  perc = percents[index]\n",
        "  print(perc, type(perc))\n",
        "  text1 = class_names[y_test[index]] + \" = \"\n",
        "  plt.title(text1, fontsize=12, loc='left')\n",
        "  plt.title(perc, loc='right')\n",
        "plt.subplots_adjust(wspace=.5, hspace=.6)\n",
        "plt.show()"
      ],
      "metadata": {
        "colab": {
          "base_uri": "https://localhost:8080/",
          "height": 214
        },
        "id": "YRJdKDJUiji3",
        "outputId": "49f101e3-5d20-4457-b3a0-5c6276f2cf6f"
      },
      "execution_count": null,
      "outputs": [
        {
          "output_type": "stream",
          "name": "stdout",
          "text": [
            "0.976 <class 'numpy.float32'>\n",
            "0.969 <class 'numpy.float32'>\n",
            "1.0 <class 'numpy.float32'>\n"
          ]
        },
        {
          "output_type": "display_data",
          "data": {
            "image/png": "[encoded data removed]",
            "text/plain": [
              "<Figure size 576x288 with 3 Axes>"
            ]
          },
          "metadata": {
            "needs_background": "light"
          }
        }
      ]
    }
  ]
}