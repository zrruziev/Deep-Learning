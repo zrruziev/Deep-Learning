{
  "nbformat": 4,
  "nbformat_minor": 0,
  "metadata": {
    "colab": {
      "name": "C4_W4_Assignment.ipynb",
      "provenance": [],
      "authorship_tag": "ABX9TyMcgRwXLxuvjWEhYdJyW22R",
      "include_colab_link": true
    },
    "kernelspec": {
      "name": "python3",
      "display_name": "Python 3"
    },
    "language_info": {
      "name": "python"
    },
    "accelerator": "GPU"
  },
  "cells": [
    {
      "cell_type": "markdown",
      "metadata": {
        "id": "view-in-github",
        "colab_type": "text"
      },
      "source": [
        "<a href=\"https://colab.research.google.com/github/zrruziev/Deep_Learning_Practice/blob/main/TDC/C4_W4_Assignment.ipynb\" target=\"_parent\"><img src=\"https://colab.research.google.com/assets/colab-badge.svg\" alt=\"Open In Colab\"/></a>"
      ]
    },
    {
      "cell_type": "markdown",
      "source": [
        "##Imports"
      ],
      "metadata": {
        "id": "D36iGXbKo4gv"
      }
    },
    {
      "cell_type": "code",
      "execution_count": 1,
      "metadata": {
        "id": "BwQY6_zPoxb_"
      },
      "outputs": [],
      "source": [
        "import csv\n",
        "import pickle\n",
        "import numpy as np\n",
        "import tensorflow as tf\n",
        "import matplotlib.pyplot as plt\n",
        "from dataclasses import dataclass"
      ]
    },
    {
      "cell_type": "markdown",
      "source": [
        "##Download the dataset "
      ],
      "metadata": {
        "id": "K-x_yfcDrB-E"
      }
    },
    {
      "cell_type": "code",
      "source": [
        "!wget --no-check-certificate \\\n",
        "    https://raw.githubusercontent.com/jbrownlee/Datasets/master/daily-min-temperatures.csv"
      ],
      "metadata": {
        "colab": {
          "base_uri": "https://localhost:8080/"
        },
        "id": "YPQDDSw_o7hZ",
        "outputId": "c15f08c2-6257-48bd-9062-97ad603563ce"
      },
      "execution_count": 2,
      "outputs": [
        {
          "output_type": "stream",
          "name": "stdout",
          "text": [
            "--2022-05-02 07:29:32--  https://raw.githubusercontent.com/jbrownlee/Datasets/master/daily-min-temperatures.csv\n",
            "Resolving raw.githubusercontent.com (raw.githubusercontent.com)... 185.199.108.133, 185.199.109.133, 185.199.110.133, ...\n",
            "Connecting to raw.githubusercontent.com (raw.githubusercontent.com)|185.199.108.133|:443... connected.\n",
            "HTTP request sent, awaiting response... 200 OK\n",
            "Length: 67921 (66K) [text/plain]\n",
            "Saving to: ‘daily-min-temperatures.csv’\n",
            "\n",
            "daily-min-temperatu 100%[===================>]  66.33K  --.-KB/s    in 0.01s   \n",
            "\n",
            "2022-05-02 07:29:33 (4.39 MB/s) - ‘daily-min-temperatures.csv’ saved [67921/67921]\n",
            "\n"
          ]
        }
      ]
    },
    {
      "cell_type": "code",
      "source": [
        "TEMPERATURES_CSV = './daily-min-temperatures.csv'\n",
        "\n",
        "with open(TEMPERATURES_CSV, 'r') as csvfile:\n",
        "    print(f\"Header looks like this:\\n\\n{csvfile.readline()}\")    \n",
        "    print(f\"First data point looks like this:\\n\\n{csvfile.readline()}\")\n",
        "    print(f\"Second data point looks like this:\\n\\n{csvfile.readline()}\")"
      ],
      "metadata": {
        "colab": {
          "base_uri": "https://localhost:8080/"
        },
        "id": "Sv3h4rShrKZO",
        "outputId": "38be4fb2-0611-4d3f-a36d-1d4f98dbcd7c"
      },
      "execution_count": 4,
      "outputs": [
        {
          "output_type": "stream",
          "name": "stdout",
          "text": [
            "Header looks like this:\n",
            "\n",
            "\"Date\",\"Temp\"\n",
            "\n",
            "First data point looks like this:\n",
            "\n",
            "\"1981-01-01\",20.7\n",
            "\n",
            "Second data point looks like this:\n",
            "\n",
            "\"1981-01-02\",17.9\n",
            "\n"
          ]
        }
      ]
    },
    {
      "cell_type": "markdown",
      "source": [
        "In the first exercise you will code a function to read the data from the csv but for now run the next cell to load a helper function to plot the time series.\n",
        "\n"
      ],
      "metadata": {
        "id": "EPGA0rn7rnyJ"
      }
    },
    {
      "cell_type": "code",
      "source": [
        "def plot_series(time, series, format=\"-\", start=0, end=None):\n",
        "    plt.plot(time[start:end], series[start:end], format)\n",
        "    plt.xlabel(\"Time\")\n",
        "    plt.ylabel(\"Value\")\n",
        "    plt.grid(True)"
      ],
      "metadata": {
        "id": "Z3fpUWkOrRRR"
      },
      "execution_count": 5,
      "outputs": []
    },
    {
      "cell_type": "code",
      "source": [
        "with open('./daily-min-temperatures.csv') as csvfile:\n",
        "        reader = csv.reader(csvfile, delimiter=',')\n",
        "        next(reader)\n",
        "        x = []\n",
        "        for row in reader:\n",
        "            x.append(row)\n",
        "        print(f'The number of timeseries data: {len(x)} ')\n"
      ],
      "metadata": {
        "colab": {
          "base_uri": "https://localhost:8080/"
        },
        "id": "koibyN75tlVD",
        "outputId": "0ba0e97f-e73a-4f18-a3a9-2dfb6577fd75"
      },
      "execution_count": 20,
      "outputs": [
        {
          "output_type": "stream",
          "name": "stdout",
          "text": [
            "The number of timeseries data: 3650 \n"
          ]
        }
      ]
    },
    {
      "cell_type": "markdown",
      "source": [
        "##Parsing the raw data\n"
      ],
      "metadata": {
        "id": "S8smoelFrrm-"
      }
    },
    {
      "cell_type": "code",
      "source": [
        "def parse_data_from(filename):\n",
        "    times = []\n",
        "    temperatures = []\n",
        "\n",
        "    with open(filename) as csvfile:\n",
        "        reader = csv.reader(csvfile, delimiter=',')\n",
        "        next(reader)\n",
        "        for index, row in enumerate(reader):\n",
        "            times.append(index)\n",
        "            temperatures.append(float(row[1]))\n",
        "\n",
        "    return times, temperatures\n"
      ],
      "metadata": {
        "id": "eu9AH1NirqJ-"
      },
      "execution_count": 30,
      "outputs": []
    },
    {
      "cell_type": "code",
      "source": [
        "# Test the function\n",
        "@dataclass\n",
        "class G:\n",
        "    TEMPERATURES_CSV = './daily-min-temperatures.csv'\n",
        "    times, temperatures = parse_data_from(TEMPERATURES_CSV)\n",
        "    TIME = np.array(times)\n",
        "    SERIES = np.array(temperatures)\n",
        "    SPLIT_TIME = 2500\n",
        "    WINDOW_SIZE = 64\n",
        "    BATCH_SIZE = 256\n",
        "    SHUFFLE_BUFFER_SIZE = 1000\n",
        "\n",
        "\n",
        "plt.figure(figsize=(10,6))\n",
        "plot_series(G.TIME, G.SERIES)\n",
        "plt.show()\n",
        "\n",
        "print(G.TIME[:10])\n",
        "print(G.SERIES[:10])\n"
      ],
      "metadata": {
        "colab": {
          "base_uri": "https://localhost:8080/",
          "height": 425
        },
        "id": "2wci3wvOszWP",
        "outputId": "0c0acc7f-f8a7-4a8c-a7c2-924fd1653362"
      },
      "execution_count": 31,
      "outputs": [
        {
          "output_type": "display_data",
          "data": {
            "text/plain": [
              "<Figure size 720x432 with 1 Axes>"
            ],
            "image/png": "[encoded data removed]"
          },
          "metadata": {
            "needs_background": "light"
          }
        },
        {
          "output_type": "stream",
          "name": "stdout",
          "text": [
            "[0 1 2 3 4 5 6 7 8 9]\n",
            "[20.7 17.9 18.8 14.6 15.8 15.8 15.8 17.4 21.8 20. ]\n"
          ]
        }
      ]
    },
    {
      "cell_type": "markdown",
      "source": [
        "##Processing the data\n"
      ],
      "metadata": {
        "id": "7sdBdx_vwL_6"
      }
    },
    {
      "cell_type": "code",
      "source": [
        "def train_val_split(time, series, time_step=G.SPLIT_TIME):\n",
        "\n",
        "    time_train = time[:time_step]\n",
        "    series_train = series[:time_step]\n",
        "    time_valid = time[time_step:]\n",
        "    series_valid = series[time_step:]\n",
        "\n",
        "    return time_train, series_train, time_valid, series_valid\n",
        "\n",
        "\n",
        "# Split the dataset\n",
        "time_train, series_train, time_valid, series_valid = train_val_split(G.TIME, G.SERIES)"
      ],
      "metadata": {
        "id": "VPvM9wYSvVUX"
      },
      "execution_count": 32,
      "outputs": []
    },
    {
      "cell_type": "code",
      "source": [
        "def windowed_dataset(series, window_size=G.WINDOW_SIZE, batch_size=G.BATCH_SIZE, shuffle_buffer=G.SHUFFLE_BUFFER_SIZE):\n",
        "    ds = tf.data.Dataset.from_tensor_slices(series)\n",
        "    ds = ds.window(window_size + 1, shift=1, drop_remainder=True)\n",
        "    ds = ds.flat_map(lambda w: w.batch(window_size + 1))\n",
        "    ds = ds.shuffle(shuffle_buffer)\n",
        "    ds = ds.map(lambda w: (w[:-1], w[-1]))\n",
        "    ds = ds.batch(batch_size).prefetch(1)\n",
        "    return ds\n",
        "\n",
        "\n",
        "# Apply the transformation to the training set\n",
        "train_set = windowed_dataset(series_train)"
      ],
      "metadata": {
        "id": "9N66C4Yhwa23"
      },
      "execution_count": 33,
      "outputs": []
    },
    {
      "cell_type": "markdown",
      "source": [
        "##Defining the model architecture\n"
      ],
      "metadata": {
        "id": "GDfzMRWaw3lT"
      }
    },
    {
      "cell_type": "code",
      "source": [
        "def create_uncompiled_model():\n",
        "    tf.keras.backend.clear_session()\n",
        "    tf.random.set_seed(51)\n",
        "    np.random.seed(51)\n",
        "\n",
        "    model = tf.keras.models.Sequential([\n",
        "            tf.keras.layers.Conv1D(64, kernel_size=3, padding='causal', activation='relu', input_shape=[G.WINDOW_SIZE, 1]),\n",
        "            tf.keras.layers.LSTM(64, return_sequences=True),\n",
        "            tf.keras.layers.LSTM(64),\n",
        "            tf.keras.layers.Dense(32),\n",
        "            tf.keras.layers.Dense(16),\n",
        "            tf.keras.layers.Dense(1, activation='relu'),\n",
        "            tf.keras.layers.Lambda(lambda x: x*100.0)\n",
        "            ])\n",
        "    \n",
        "    return model\n"
      ],
      "metadata": {
        "id": "7Md0h4gLw4Rk"
      },
      "execution_count": 42,
      "outputs": []
    },
    {
      "cell_type": "code",
      "source": [
        "# Test your uncompiled model\n",
        "uncompiled_model = create_uncompiled_model()\n",
        "\n",
        "try:\n",
        "    uncompiled_model.predict(train_set)\n",
        "except:\n",
        "    print(\"Your current architecture is incompatible with the windowed dataset, try adjusting it.\")\n",
        "else:\n",
        "    print(\"Your current architecture is compatible with the windowed dataset! :)\")"
      ],
      "metadata": {
        "colab": {
          "base_uri": "https://localhost:8080/"
        },
        "id": "Ni9ceCqiy4Tj",
        "outputId": "cb279560-7495-4ecb-af1e-5a8277a57dd1"
      },
      "execution_count": 43,
      "outputs": [
        {
          "output_type": "stream",
          "name": "stdout",
          "text": [
            "Your current architecture is compatible with the windowed dataset! :)\n"
          ]
        }
      ]
    },
    {
      "cell_type": "markdown",
      "source": [
        "##Adjusting the learning rate - (Optional Exercise)"
      ],
      "metadata": {
        "id": "b0Om_LKfzMLT"
      }
    },
    {
      "cell_type": "code",
      "source": [
        "def adjust_learning_rate(dataset):\n",
        "    \n",
        "    model = create_uncompiled_model()\n",
        "    \n",
        "    lr_schedule = tf.keras.callbacks.LearningRateScheduler(lambda epoch: 1e-7 * 10**(epoch / 20))\n",
        "    \n",
        "    ### START CODE HERE\n",
        "    \n",
        "    # Select your optimizer\n",
        "    optimizer = tf.keras.optimizers.SGD(momentum=.9)\n",
        "    \n",
        "    # Compile the model passing in the appropriate loss\n",
        "    model.compile(loss=tf.keras.losses.Huber(),\n",
        "                  optimizer=optimizer, \n",
        "                  metrics=[\"mae\"]) \n",
        "    \n",
        "    ### END CODE HERE\n",
        "    \n",
        "    history = model.fit(dataset, epochs=100, callbacks=[lr_schedule])\n",
        "    \n",
        "    return history"
      ],
      "metadata": {
        "id": "n_uZMH9Ty6Vb"
      },
      "execution_count": 44,
      "outputs": []
    },
    {
      "cell_type": "code",
      "source": [
        "# Run the training with dynamic LR\n",
        "lr_history = adjust_learning_rate(train_set)"
      ],
      "metadata": {
        "colab": {
          "base_uri": "https://localhost:8080/"
        },
        "id": "NFZ-z9S7zfQU",
        "outputId": "4e7bdc91-37f5-413e-ebd0-7f0cefd39d59"
      },
      "execution_count": 45,
      "outputs": [
        {
          "output_type": "stream",
          "name": "stdout",
          "text": [
            "Epoch 1/100\n",
            "10/10 [==============================] - 7s 47ms/step - loss: 3.3884 - mae: 3.8590 - lr: 1.0000e-07\n",
            "Epoch 2/100\n",
            "10/10 [==============================] - 1s 55ms/step - loss: 3.2323 - mae: 3.7013 - lr: 1.1220e-07\n",
            "Epoch 3/100\n",
            "10/10 [==============================] - 1s 55ms/step - loss: 3.1952 - mae: 3.6646 - lr: 1.2589e-07\n",
            "Epoch 4/100\n",
            "10/10 [==============================] - 1s 51ms/step - loss: 3.1271 - mae: 3.5955 - lr: 1.4125e-07\n",
            "Epoch 5/100\n",
            "10/10 [==============================] - 1s 51ms/step - loss: 3.0637 - mae: 3.5307 - lr: 1.5849e-07\n",
            "Epoch 6/100\n",
            "10/10 [==============================] - 1s 49ms/step - loss: 2.9966 - mae: 3.4636 - lr: 1.7783e-07\n",
            "Epoch 7/100\n",
            "10/10 [==============================] - 1s 52ms/step - loss: 2.9153 - mae: 3.3808 - lr: 1.9953e-07\n",
            "Epoch 8/100\n",
            "10/10 [==============================] - 1s 51ms/step - loss: 2.8360 - mae: 3.3011 - lr: 2.2387e-07\n",
            "Epoch 9/100\n",
            "10/10 [==============================] - 1s 53ms/step - loss: 2.7545 - mae: 3.2183 - lr: 2.5119e-07\n",
            "Epoch 10/100\n",
            "10/10 [==============================] - 1s 52ms/step - loss: 2.6688 - mae: 3.1316 - lr: 2.8184e-07\n",
            "Epoch 11/100\n",
            "10/10 [==============================] - 1s 53ms/step - loss: 2.5843 - mae: 3.0473 - lr: 3.1623e-07\n",
            "Epoch 12/100\n",
            "10/10 [==============================] - 1s 52ms/step - loss: 2.5038 - mae: 2.9659 - lr: 3.5481e-07\n",
            "Epoch 13/100\n",
            "10/10 [==============================] - 1s 51ms/step - loss: 2.4250 - mae: 2.8861 - lr: 3.9811e-07\n",
            "Epoch 14/100\n",
            "10/10 [==============================] - 1s 51ms/step - loss: 2.3517 - mae: 2.8125 - lr: 4.4668e-07\n",
            "Epoch 15/100\n",
            "10/10 [==============================] - 1s 53ms/step - loss: 2.2803 - mae: 2.7389 - lr: 5.0119e-07\n",
            "Epoch 16/100\n",
            "10/10 [==============================] - 1s 51ms/step - loss: 2.2209 - mae: 2.6782 - lr: 5.6234e-07\n",
            "Epoch 17/100\n",
            "10/10 [==============================] - 1s 51ms/step - loss: 2.1854 - mae: 2.6436 - lr: 6.3096e-07\n",
            "Epoch 18/100\n",
            "10/10 [==============================] - 1s 51ms/step - loss: 2.1389 - mae: 2.6001 - lr: 7.0795e-07\n",
            "Epoch 19/100\n",
            "10/10 [==============================] - 1s 54ms/step - loss: 2.0790 - mae: 2.5351 - lr: 7.9433e-07\n",
            "Epoch 20/100\n",
            "10/10 [==============================] - 1s 52ms/step - loss: 2.0555 - mae: 2.5114 - lr: 8.9125e-07\n",
            "Epoch 21/100\n",
            "10/10 [==============================] - 1s 51ms/step - loss: 2.0248 - mae: 2.4788 - lr: 1.0000e-06\n",
            "Epoch 22/100\n",
            "10/10 [==============================] - 1s 53ms/step - loss: 2.0073 - mae: 2.4648 - lr: 1.1220e-06\n",
            "Epoch 23/100\n",
            "10/10 [==============================] - 1s 53ms/step - loss: 1.9957 - mae: 2.4506 - lr: 1.2589e-06\n",
            "Epoch 24/100\n",
            "10/10 [==============================] - 1s 51ms/step - loss: 1.9345 - mae: 2.3871 - lr: 1.4125e-06\n",
            "Epoch 25/100\n",
            "10/10 [==============================] - 1s 52ms/step - loss: 1.8983 - mae: 2.3510 - lr: 1.5849e-06\n",
            "Epoch 26/100\n",
            "10/10 [==============================] - 1s 55ms/step - loss: 1.8526 - mae: 2.3065 - lr: 1.7783e-06\n",
            "Epoch 27/100\n",
            "10/10 [==============================] - 1s 53ms/step - loss: 1.8247 - mae: 2.2780 - lr: 1.9953e-06\n",
            "Epoch 28/100\n",
            "10/10 [==============================] - 1s 52ms/step - loss: 1.8413 - mae: 2.2935 - lr: 2.2387e-06\n",
            "Epoch 29/100\n",
            "10/10 [==============================] - 1s 53ms/step - loss: 1.8223 - mae: 2.2729 - lr: 2.5119e-06\n",
            "Epoch 30/100\n",
            "10/10 [==============================] - 1s 52ms/step - loss: 1.7975 - mae: 2.2498 - lr: 2.8184e-06\n",
            "Epoch 31/100\n",
            "10/10 [==============================] - 1s 52ms/step - loss: 1.7437 - mae: 2.1936 - lr: 3.1623e-06\n",
            "Epoch 32/100\n",
            "10/10 [==============================] - 1s 52ms/step - loss: 1.7297 - mae: 2.1815 - lr: 3.5481e-06\n",
            "Epoch 33/100\n",
            "10/10 [==============================] - 1s 53ms/step - loss: 1.7163 - mae: 2.1669 - lr: 3.9811e-06\n",
            "Epoch 34/100\n",
            "10/10 [==============================] - 1s 53ms/step - loss: 1.7081 - mae: 2.1588 - lr: 4.4668e-06\n",
            "Epoch 35/100\n",
            "10/10 [==============================] - 1s 53ms/step - loss: 1.6912 - mae: 2.1410 - lr: 5.0119e-06\n",
            "Epoch 36/100\n",
            "10/10 [==============================] - 1s 53ms/step - loss: 1.6808 - mae: 2.1316 - lr: 5.6234e-06\n",
            "Epoch 37/100\n",
            "10/10 [==============================] - 1s 53ms/step - loss: 1.6747 - mae: 2.1231 - lr: 6.3096e-06\n",
            "Epoch 38/100\n",
            "10/10 [==============================] - 1s 53ms/step - loss: 1.6899 - mae: 2.1395 - lr: 7.0795e-06\n",
            "Epoch 39/100\n",
            "10/10 [==============================] - 1s 50ms/step - loss: 1.7221 - mae: 2.1725 - lr: 7.9433e-06\n",
            "Epoch 40/100\n",
            "10/10 [==============================] - 1s 53ms/step - loss: 1.6714 - mae: 2.1205 - lr: 8.9125e-06\n",
            "Epoch 41/100\n",
            "10/10 [==============================] - 1s 53ms/step - loss: 1.7109 - mae: 2.1577 - lr: 1.0000e-05\n",
            "Epoch 42/100\n",
            "10/10 [==============================] - 1s 51ms/step - loss: 1.9481 - mae: 2.4032 - lr: 1.1220e-05\n",
            "Epoch 43/100\n",
            "10/10 [==============================] - 1s 53ms/step - loss: 1.6479 - mae: 2.0970 - lr: 1.2589e-05\n",
            "Epoch 44/100\n",
            "10/10 [==============================] - 1s 50ms/step - loss: 1.6720 - mae: 2.1196 - lr: 1.4125e-05\n",
            "Epoch 45/100\n",
            "10/10 [==============================] - 1s 53ms/step - loss: 1.9466 - mae: 2.4030 - lr: 1.5849e-05\n",
            "Epoch 46/100\n",
            "10/10 [==============================] - 1s 55ms/step - loss: 2.4577 - mae: 2.9220 - lr: 1.7783e-05\n",
            "Epoch 47/100\n",
            "10/10 [==============================] - 1s 56ms/step - loss: 2.2468 - mae: 2.7056 - lr: 1.9953e-05\n",
            "Epoch 48/100\n",
            "10/10 [==============================] - 1s 54ms/step - loss: 1.7921 - mae: 2.2420 - lr: 2.2387e-05\n",
            "Epoch 49/100\n",
            "10/10 [==============================] - 1s 56ms/step - loss: 2.2715 - mae: 2.7342 - lr: 2.5119e-05\n",
            "Epoch 50/100\n",
            "10/10 [==============================] - 1s 53ms/step - loss: 2.2452 - mae: 2.7077 - lr: 2.8184e-05\n",
            "Epoch 51/100\n",
            "10/10 [==============================] - 1s 52ms/step - loss: 2.4461 - mae: 2.9115 - lr: 3.1623e-05\n",
            "Epoch 52/100\n",
            "10/10 [==============================] - 1s 53ms/step - loss: 2.7216 - mae: 3.1923 - lr: 3.5481e-05\n",
            "Epoch 53/100\n",
            "10/10 [==============================] - 1s 52ms/step - loss: 2.3511 - mae: 2.8174 - lr: 3.9811e-05\n",
            "Epoch 54/100\n",
            "10/10 [==============================] - 1s 53ms/step - loss: 2.4743 - mae: 2.9427 - lr: 4.4668e-05\n",
            "Epoch 55/100\n",
            "10/10 [==============================] - 1s 55ms/step - loss: 3.0456 - mae: 3.5241 - lr: 5.0119e-05\n",
            "Epoch 56/100\n",
            "10/10 [==============================] - 1s 53ms/step - loss: 3.0352 - mae: 3.5115 - lr: 5.6234e-05\n",
            "Epoch 57/100\n",
            "10/10 [==============================] - 1s 52ms/step - loss: 2.8458 - mae: 3.3176 - lr: 6.3096e-05\n",
            "Epoch 58/100\n",
            "10/10 [==============================] - 1s 53ms/step - loss: 3.6870 - mae: 4.1590 - lr: 7.0795e-05\n",
            "Epoch 59/100\n",
            "10/10 [==============================] - 1s 50ms/step - loss: 5.4343 - mae: 5.9179 - lr: 7.9433e-05\n",
            "Epoch 60/100\n",
            "10/10 [==============================] - 1s 55ms/step - loss: 10.2629 - mae: 10.7619 - lr: 8.9125e-05\n",
            "Epoch 61/100\n",
            "10/10 [==============================] - 1s 51ms/step - loss: 10.2632 - mae: 10.7622 - lr: 1.0000e-04\n",
            "Epoch 62/100\n",
            "10/10 [==============================] - 1s 53ms/step - loss: 10.2632 - mae: 10.7622 - lr: 1.1220e-04\n",
            "Epoch 63/100\n",
            "10/10 [==============================] - 1s 53ms/step - loss: 10.2632 - mae: 10.7622 - lr: 1.2589e-04\n",
            "Epoch 64/100\n",
            "10/10 [==============================] - 1s 51ms/step - loss: 10.2632 - mae: 10.7622 - lr: 1.4125e-04\n",
            "Epoch 65/100\n",
            "10/10 [==============================] - 1s 54ms/step - loss: 10.2632 - mae: 10.7622 - lr: 1.5849e-04\n",
            "Epoch 66/100\n",
            "10/10 [==============================] - 1s 52ms/step - loss: 10.2632 - mae: 10.7622 - lr: 1.7783e-04\n",
            "Epoch 67/100\n",
            "10/10 [==============================] - 1s 52ms/step - loss: 10.2632 - mae: 10.7622 - lr: 1.9953e-04\n",
            "Epoch 68/100\n",
            "10/10 [==============================] - 1s 51ms/step - loss: 10.2632 - mae: 10.7622 - lr: 2.2387e-04\n",
            "Epoch 69/100\n",
            "10/10 [==============================] - 1s 54ms/step - loss: 10.2632 - mae: 10.7622 - lr: 2.5119e-04\n",
            "Epoch 70/100\n",
            "10/10 [==============================] - 1s 54ms/step - loss: 10.2632 - mae: 10.7622 - lr: 2.8184e-04\n",
            "Epoch 71/100\n",
            "10/10 [==============================] - 1s 50ms/step - loss: 10.2632 - mae: 10.7622 - lr: 3.1623e-04\n",
            "Epoch 72/100\n",
            "10/10 [==============================] - 1s 52ms/step - loss: 10.2632 - mae: 10.7622 - lr: 3.5481e-04\n",
            "Epoch 73/100\n",
            "10/10 [==============================] - 1s 53ms/step - loss: 10.2632 - mae: 10.7622 - lr: 3.9811e-04\n",
            "Epoch 74/100\n",
            "10/10 [==============================] - 1s 53ms/step - loss: 10.2632 - mae: 10.7622 - lr: 4.4668e-04\n",
            "Epoch 75/100\n",
            "10/10 [==============================] - 1s 53ms/step - loss: 10.2632 - mae: 10.7622 - lr: 5.0119e-04\n",
            "Epoch 76/100\n",
            "10/10 [==============================] - 1s 55ms/step - loss: 10.2632 - mae: 10.7622 - lr: 5.6234e-04\n",
            "Epoch 77/100\n",
            "10/10 [==============================] - 1s 52ms/step - loss: 10.2632 - mae: 10.7622 - lr: 6.3096e-04\n",
            "Epoch 78/100\n",
            "10/10 [==============================] - 1s 56ms/step - loss: 10.2632 - mae: 10.7622 - lr: 7.0795e-04\n",
            "Epoch 79/100\n",
            "10/10 [==============================] - 1s 51ms/step - loss: 10.2632 - mae: 10.7622 - lr: 7.9433e-04\n",
            "Epoch 80/100\n",
            "10/10 [==============================] - 1s 52ms/step - loss: 10.2632 - mae: 10.7622 - lr: 8.9125e-04\n",
            "Epoch 81/100\n",
            "10/10 [==============================] - 1s 52ms/step - loss: 10.2632 - mae: 10.7622 - lr: 0.0010\n",
            "Epoch 82/100\n",
            "10/10 [==============================] - 1s 51ms/step - loss: 10.2632 - mae: 10.7622 - lr: 0.0011\n",
            "Epoch 83/100\n",
            "10/10 [==============================] - 1s 53ms/step - loss: 10.2632 - mae: 10.7622 - lr: 0.0013\n",
            "Epoch 84/100\n",
            "10/10 [==============================] - 1s 53ms/step - loss: 10.2632 - mae: 10.7622 - lr: 0.0014\n",
            "Epoch 85/100\n",
            "10/10 [==============================] - 1s 52ms/step - loss: 10.2632 - mae: 10.7622 - lr: 0.0016\n",
            "Epoch 86/100\n",
            "10/10 [==============================] - 1s 53ms/step - loss: 10.2632 - mae: 10.7622 - lr: 0.0018\n",
            "Epoch 87/100\n",
            "10/10 [==============================] - 1s 54ms/step - loss: 10.2632 - mae: 10.7622 - lr: 0.0020\n",
            "Epoch 88/100\n",
            "10/10 [==============================] - 1s 52ms/step - loss: 10.2632 - mae: 10.7622 - lr: 0.0022\n",
            "Epoch 89/100\n",
            "10/10 [==============================] - 1s 55ms/step - loss: 10.2632 - mae: 10.7622 - lr: 0.0025\n",
            "Epoch 90/100\n",
            "10/10 [==============================] - 1s 53ms/step - loss: 10.2632 - mae: 10.7622 - lr: 0.0028\n",
            "Epoch 91/100\n",
            "10/10 [==============================] - 1s 50ms/step - loss: 10.2632 - mae: 10.7622 - lr: 0.0032\n",
            "Epoch 92/100\n",
            "10/10 [==============================] - 1s 52ms/step - loss: 10.2632 - mae: 10.7622 - lr: 0.0035\n",
            "Epoch 93/100\n",
            "10/10 [==============================] - 1s 53ms/step - loss: 10.2632 - mae: 10.7622 - lr: 0.0040\n",
            "Epoch 94/100\n",
            "10/10 [==============================] - 1s 51ms/step - loss: 10.2632 - mae: 10.7622 - lr: 0.0045\n",
            "Epoch 95/100\n",
            "10/10 [==============================] - 1s 54ms/step - loss: 10.2632 - mae: 10.7622 - lr: 0.0050\n",
            "Epoch 96/100\n",
            "10/10 [==============================] - 1s 55ms/step - loss: 10.2632 - mae: 10.7622 - lr: 0.0056\n",
            "Epoch 97/100\n",
            "10/10 [==============================] - 1s 54ms/step - loss: 10.2632 - mae: 10.7622 - lr: 0.0063\n",
            "Epoch 98/100\n",
            "10/10 [==============================] - 1s 53ms/step - loss: 10.2632 - mae: 10.7622 - lr: 0.0071\n",
            "Epoch 99/100\n",
            "10/10 [==============================] - 1s 56ms/step - loss: 10.2632 - mae: 10.7622 - lr: 0.0079\n",
            "Epoch 100/100\n",
            "10/10 [==============================] - 1s 53ms/step - loss: 10.2632 - mae: 10.7622 - lr: 0.0089\n"
          ]
        }
      ]
    },
    {
      "cell_type": "code",
      "source": [
        "plt.figure(figsize=(10,6))\n",
        "plt.grid(True)\n",
        "plt.semilogx(lr_history.history[\"lr\"], lr_history.history[\"loss\"])\n",
        "plt.axis([1e-7, 1e-4, 0, 10])"
      ],
      "metadata": {
        "colab": {
          "base_uri": "https://localhost:8080/",
          "height": 400
        },
        "id": "5xReZkmNziau",
        "outputId": "97dc8532-e38e-4f3d-afc0-cfd2cbc8e610"
      },
      "execution_count": 49,
      "outputs": [
        {
          "output_type": "execute_result",
          "data": {
            "text/plain": [
              "(1e-07, 0.0001, 0.0, 10.0)"
            ]
          },
          "metadata": {},
          "execution_count": 49
        },
        {
          "output_type": "display_data",
          "data": {
            "text/plain": [
              "<Figure size 720x432 with 1 Axes>"
            ],
            "image/png": "[encoded data removed]"
          },
          "metadata": {
            "needs_background": "light"
          }
        }
      ]
    },
    {
      "cell_type": "markdown",
      "source": [
        "##Compile the model with choosen Learning Rate\n"
      ],
      "metadata": {
        "id": "R7GCp3PO34YY"
      }
    },
    {
      "cell_type": "code",
      "source": [
        "model = create_uncompiled_model()\n",
        "\n",
        "model.compile(loss=tf.keras.losses.Huber(),\n",
        "             optimizer=tf.keras.optimizers.SGD(learning_rate=9e-6, momentum=.9),\n",
        "             metrics=['mae'])\n",
        "\n",
        "# Train it\n",
        "history = model.fit(train_set, epochs=50)"
      ],
      "metadata": {
        "colab": {
          "base_uri": "https://localhost:8080/"
        },
        "id": "THneAuXV3Fi2",
        "outputId": "0c9e6b0e-8b1e-44a3-9d90-7453bd17ee4e"
      },
      "execution_count": 50,
      "outputs": [
        {
          "output_type": "stream",
          "name": "stdout",
          "text": [
            "Epoch 1/50\n",
            "10/10 [==============================] - 4s 45ms/step - loss: 2.8664 - mae: 3.3337\n",
            "Epoch 2/50\n",
            "10/10 [==============================] - 1s 54ms/step - loss: 2.0854 - mae: 2.5430\n",
            "Epoch 3/50\n",
            "10/10 [==============================] - 1s 53ms/step - loss: 2.0673 - mae: 2.5278\n",
            "Epoch 4/50\n",
            "10/10 [==============================] - 1s 51ms/step - loss: 1.9250 - mae: 2.3780\n",
            "Epoch 5/50\n",
            "10/10 [==============================] - 1s 53ms/step - loss: 1.9473 - mae: 2.4021\n",
            "Epoch 6/50\n",
            "10/10 [==============================] - 1s 53ms/step - loss: 2.2534 - mae: 2.7145\n",
            "Epoch 7/50\n",
            "10/10 [==============================] - 1s 52ms/step - loss: 1.9330 - mae: 2.3869\n",
            "Epoch 8/50\n",
            "10/10 [==============================] - 1s 54ms/step - loss: 1.7314 - mae: 2.1818\n",
            "Epoch 9/50\n",
            "10/10 [==============================] - 1s 52ms/step - loss: 1.7458 - mae: 2.1953\n",
            "Epoch 10/50\n",
            "10/10 [==============================] - 1s 52ms/step - loss: 1.6656 - mae: 2.1117\n",
            "Epoch 11/50\n",
            "10/10 [==============================] - 1s 52ms/step - loss: 1.6778 - mae: 2.1273\n",
            "Epoch 12/50\n",
            "10/10 [==============================] - 1s 56ms/step - loss: 1.6025 - mae: 2.0511\n",
            "Epoch 13/50\n",
            "10/10 [==============================] - 1s 53ms/step - loss: 1.6187 - mae: 2.0692\n",
            "Epoch 14/50\n",
            "10/10 [==============================] - 1s 55ms/step - loss: 1.6200 - mae: 2.0687\n",
            "Epoch 15/50\n",
            "10/10 [==============================] - 1s 53ms/step - loss: 1.5865 - mae: 2.0332\n",
            "Epoch 16/50\n",
            "10/10 [==============================] - 1s 53ms/step - loss: 1.6746 - mae: 2.1239\n",
            "Epoch 17/50\n",
            "10/10 [==============================] - 1s 52ms/step - loss: 1.6542 - mae: 2.0999\n",
            "Epoch 18/50\n",
            "10/10 [==============================] - 1s 54ms/step - loss: 1.5608 - mae: 2.0044\n",
            "Epoch 19/50\n",
            "10/10 [==============================] - 1s 54ms/step - loss: 1.5575 - mae: 2.0033\n",
            "Epoch 20/50\n",
            "10/10 [==============================] - 1s 50ms/step - loss: 1.7106 - mae: 2.1593\n",
            "Epoch 21/50\n",
            "10/10 [==============================] - 1s 54ms/step - loss: 1.7353 - mae: 2.1857\n",
            "Epoch 22/50\n",
            "10/10 [==============================] - 1s 52ms/step - loss: 1.9571 - mae: 2.4133\n",
            "Epoch 23/50\n",
            "10/10 [==============================] - 1s 55ms/step - loss: 1.8078 - mae: 2.2623\n",
            "Epoch 24/50\n",
            "10/10 [==============================] - 1s 70ms/step - loss: 1.7948 - mae: 2.2470\n",
            "Epoch 25/50\n",
            "10/10 [==============================] - 1s 51ms/step - loss: 1.7964 - mae: 2.2511\n",
            "Epoch 26/50\n",
            "10/10 [==============================] - 1s 51ms/step - loss: 1.5503 - mae: 1.9954\n",
            "Epoch 27/50\n",
            "10/10 [==============================] - 1s 58ms/step - loss: 1.6221 - mae: 2.0668\n",
            "Epoch 28/50\n",
            "10/10 [==============================] - 1s 54ms/step - loss: 1.5791 - mae: 2.0249\n",
            "Epoch 29/50\n",
            "10/10 [==============================] - 1s 53ms/step - loss: 1.6011 - mae: 2.0515\n",
            "Epoch 30/50\n",
            "10/10 [==============================] - 1s 53ms/step - loss: 1.6371 - mae: 2.0846\n",
            "Epoch 31/50\n",
            "10/10 [==============================] - 1s 55ms/step - loss: 1.7271 - mae: 2.1786\n",
            "Epoch 32/50\n",
            "10/10 [==============================] - 1s 56ms/step - loss: 1.6553 - mae: 2.1022\n",
            "Epoch 33/50\n",
            "10/10 [==============================] - 1s 54ms/step - loss: 1.5539 - mae: 1.9978\n",
            "Epoch 34/50\n",
            "10/10 [==============================] - 1s 54ms/step - loss: 1.5418 - mae: 1.9882\n",
            "Epoch 35/50\n",
            "10/10 [==============================] - 1s 53ms/step - loss: 1.5252 - mae: 1.9693\n",
            "Epoch 36/50\n",
            "10/10 [==============================] - 1s 55ms/step - loss: 1.5700 - mae: 2.0163\n",
            "Epoch 37/50\n",
            "10/10 [==============================] - 1s 53ms/step - loss: 1.5380 - mae: 1.9820\n",
            "Epoch 38/50\n",
            "10/10 [==============================] - 1s 52ms/step - loss: 1.5380 - mae: 1.9807\n",
            "Epoch 39/50\n",
            "10/10 [==============================] - 1s 54ms/step - loss: 1.5216 - mae: 1.9666\n",
            "Epoch 40/50\n",
            "10/10 [==============================] - 1s 50ms/step - loss: 1.5623 - mae: 2.0077\n",
            "Epoch 41/50\n",
            "10/10 [==============================] - 1s 51ms/step - loss: 1.5605 - mae: 2.0077\n",
            "Epoch 42/50\n",
            "10/10 [==============================] - 1s 52ms/step - loss: 1.6135 - mae: 2.0637\n",
            "Epoch 43/50\n",
            "10/10 [==============================] - 1s 51ms/step - loss: 1.5444 - mae: 1.9873\n",
            "Epoch 44/50\n",
            "10/10 [==============================] - 1s 53ms/step - loss: 1.5771 - mae: 2.0218\n",
            "Epoch 45/50\n",
            "10/10 [==============================] - 1s 54ms/step - loss: 1.5983 - mae: 2.0468\n",
            "Epoch 46/50\n",
            "10/10 [==============================] - 1s 54ms/step - loss: 1.5973 - mae: 2.0453\n",
            "Epoch 47/50\n",
            "10/10 [==============================] - 1s 54ms/step - loss: 1.5971 - mae: 2.0447\n",
            "Epoch 48/50\n",
            "10/10 [==============================] - 1s 54ms/step - loss: 1.5538 - mae: 2.0001\n",
            "Epoch 49/50\n",
            "10/10 [==============================] - 1s 54ms/step - loss: 1.5336 - mae: 1.9776\n",
            "Epoch 50/50\n",
            "10/10 [==============================] - 1s 54ms/step - loss: 1.5189 - mae: 1.9606\n"
          ]
        }
      ]
    },
    {
      "cell_type": "markdown",
      "source": [
        "##Evaluating the forecast"
      ],
      "metadata": {
        "id": "JTeRDe3k4GN_"
      }
    },
    {
      "cell_type": "markdown",
      "source": [
        "#####Faster model forecasts"
      ],
      "metadata": {
        "id": "Pv7PMabD4Tuk"
      }
    },
    {
      "cell_type": "code",
      "source": [
        "def model_forecast(model, series, window_size):\n",
        "    ds = tf.data.Dataset.from_tensor_slices(series)\n",
        "    ds = ds.window(window_size, shift=1, drop_remainder=True)\n",
        "    ds = ds.flat_map(lambda w: w.batch(window_size))\n",
        "    ds = ds.batch(32).prefetch(1)\n",
        "    forecast = model.predict(ds)\n",
        "    return forecast"
      ],
      "metadata": {
        "id": "1YslFxya39tC"
      },
      "execution_count": 51,
      "outputs": []
    },
    {
      "cell_type": "code",
      "source": [
        "# Compute the forecast for all the series\n",
        "rnn_forecast = model_forecast(model, G.SERIES, G.WINDOW_SIZE).squeeze()\n",
        "\n",
        "# Slice the forecast to get only the predictions for the validation set\n",
        "rnn_forecast = rnn_forecast[G.SPLIT_TIME - G.WINDOW_SIZE:-1]\n",
        "\n",
        "\n",
        "# Plot the forecast\n",
        "plt.figure(figsize=(10, 6))\n",
        "plot_series(time_valid, series_valid)\n",
        "plot_series(time_valid, rnn_forecast)"
      ],
      "metadata": {
        "colab": {
          "base_uri": "https://localhost:8080/",
          "height": 389
        },
        "id": "YgDTLqy14W-4",
        "outputId": "eda3b31d-787f-4b76-9660-409792d5dcd2"
      },
      "execution_count": 52,
      "outputs": [
        {
          "output_type": "display_data",
          "data": {
            "text/plain": [
              "<Figure size 720x432 with 1 Axes>"
            ],
            "image/png": "[encoded data removed]"
          },
          "metadata": {
            "needs_background": "light"
          }
        }
      ]
    },
    {
      "cell_type": "code",
      "source": [
        "def compute_metrics(true_series, forecast):\n",
        "    \n",
        "    mse = tf.keras.metrics.mean_squared_error(true_series, forecast).numpy()\n",
        "    mae = tf.keras.metrics.mean_absolute_error(true_series, forecast).numpy()\n",
        "\n",
        "    return mse, mae"
      ],
      "metadata": {
        "id": "z6fbonkt4YlX"
      },
      "execution_count": 53,
      "outputs": []
    },
    {
      "cell_type": "code",
      "source": [
        "mse, mae = compute_metrics(series_valid, rnn_forecast)\n",
        "\n",
        "print(f\"mse: {mse:.2f}, mae: {mae:.2f} for forecast\")"
      ],
      "metadata": {
        "colab": {
          "base_uri": "https://localhost:8080/"
        },
        "id": "Kq2PC-F94bU3",
        "outputId": "ad23a6cc-1d11-4790-951a-93cf393de1dd"
      },
      "execution_count": 54,
      "outputs": [
        {
          "output_type": "stream",
          "name": "stdout",
          "text": [
            "mse: 5.40, mae: 1.81 for forecast\n"
          ]
        }
      ]
    }
  ]
}