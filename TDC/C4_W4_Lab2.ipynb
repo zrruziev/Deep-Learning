{
  "nbformat": 4,
  "nbformat_minor": 0,
  "metadata": {
    "colab": {
      "name": "C4_W4_Lab2.ipynb",
      "provenance": [],
      "authorship_tag": "ABX9TyPFLu22Kdj+JeRgToG4BLtI",
      "include_colab_link": true
    },
    "kernelspec": {
      "name": "python3",
      "display_name": "Python 3"
    },
    "language_info": {
      "name": "python"
    },
    "accelerator": "GPU"
  },
  "cells": [
    {
      "cell_type": "markdown",
      "metadata": {
        "id": "view-in-github",
        "colab_type": "text"
      },
      "source": [
        "<a href=\"https://colab.research.google.com/github/zrruziev/Deep_Learning_Practice/blob/main/TDC/C4_W4_Lab2.ipynb\" target=\"_parent\"><img src=\"https://colab.research.google.com/assets/colab-badge.svg\" alt=\"Open In Colab\"/></a>"
      ]
    },
    {
      "cell_type": "markdown",
      "source": [
        "##Imports"
      ],
      "metadata": {
        "id": "w7rl5QzloXJF"
      }
    },
    {
      "cell_type": "code",
      "source": [
        "import tensorflow as tf\n",
        "import numpy as np\n",
        "import matplotlib.pyplot as plt\n",
        "import csv"
      ],
      "metadata": {
        "id": "LYNfkWo2oaSR"
      },
      "execution_count": 41,
      "outputs": []
    },
    {
      "cell_type": "markdown",
      "source": [
        "##Utilities"
      ],
      "metadata": {
        "id": "txPjwzKZog41"
      }
    },
    {
      "cell_type": "code",
      "source": [
        "def plot_series(x, y, format=\"-\", start=0, end=None, \n",
        "                title=None, xlabel=None, ylabel=None, legend=None ):\n",
        "    \"\"\"\n",
        "    Visualizes time series data\n",
        "\n",
        "    Args:\n",
        "      x (array of int) - contains values for the x-axis\n",
        "      y (array of int or tuple of arrays) - contains the values for the y-axis\n",
        "      format (string) - line style when plotting the graph\n",
        "      label (string) - tag for the line\n",
        "      start (int) - first time step to plot\n",
        "      end (int) - last time step to plot\n",
        "      title (string) - title of the plot\n",
        "      xlabel (string) - label for the x-axis\n",
        "      ylabel (string) - label for the y-axis\n",
        "      legend (list of strings) - legend for the plot\n",
        "    \"\"\"\n",
        "\n",
        "    # Setup dimensions of the graph figure\n",
        "    plt.figure(figsize=(10, 6))\n",
        "    \n",
        "    # Check if there are more than two series to plot\n",
        "    if type(y) is tuple:\n",
        "\n",
        "      # Loop over the y elements\n",
        "      for y_curr in y:\n",
        "\n",
        "        # Plot the x and current y values\n",
        "        plt.plot(x[start:end], y_curr[start:end], format)\n",
        "\n",
        "    else:\n",
        "      # Plot the x and y values\n",
        "      plt.plot(x[start:end], y[start:end], format)\n",
        "\n",
        "    # Label the x-axis\n",
        "    plt.xlabel(xlabel)\n",
        "\n",
        "    # Label the y-axis\n",
        "    plt.ylabel(ylabel)\n",
        "\n",
        "    # Set the legend\n",
        "    if legend:\n",
        "      plt.legend(legend)\n",
        "\n",
        "    # Set the title\n",
        "    plt.title(title)\n",
        "\n",
        "    # Overlay a grid on the graph\n",
        "    plt.grid(True)\n",
        "\n",
        "    # Draw the graph on screen\n",
        "    plt.show()"
      ],
      "metadata": {
        "id": "_hDIQJWboioo"
      },
      "execution_count": 42,
      "outputs": []
    },
    {
      "cell_type": "markdown",
      "source": [
        "##Download and Preview the Dataset"
      ],
      "metadata": {
        "id": "FwRYDLrRooXB"
      }
    },
    {
      "cell_type": "code",
      "source": [
        "# Wownload the dataset\n",
        "!wget https://storage.googleapis.com/tensorflow-1-public/course4/Sunspots.csv\n"
      ],
      "metadata": {
        "colab": {
          "base_uri": "https://localhost:8080/"
        },
        "id": "VIIly8aOom65",
        "outputId": "8ac944c0-5b82-4990-e119-f36466dafcb8"
      },
      "execution_count": 43,
      "outputs": [
        {
          "output_type": "stream",
          "name": "stdout",
          "text": [
            "--2022-05-01 08:38:19--  https://storage.googleapis.com/tensorflow-1-public/course4/Sunspots.csv\n",
            "Resolving storage.googleapis.com (storage.googleapis.com)... 209.85.147.128, 142.250.125.128, 209.85.146.128, ...\n",
            "Connecting to storage.googleapis.com (storage.googleapis.com)|209.85.147.128|:443... connected.\n",
            "HTTP request sent, awaiting response... 200 OK\n",
            "Length: 70827 (69K) [text/csv]\n",
            "Saving to: ‘Sunspots.csv’\n",
            "\n",
            "\rSunspots.csv          0%[                    ]       0  --.-KB/s               \rSunspots.csv        100%[===================>]  69.17K  --.-KB/s    in 0.001s  \n",
            "\n",
            "2022-05-01 08:38:19 (80.7 MB/s) - ‘Sunspots.csv’ saved [70827/70827]\n",
            "\n"
          ]
        }
      ]
    },
    {
      "cell_type": "code",
      "source": [
        "# Preview the dataset\n",
        "!head Sunspots.csv"
      ],
      "metadata": {
        "colab": {
          "base_uri": "https://localhost:8080/"
        },
        "id": "y9EXwFtootg6",
        "outputId": "8cb29d11-8a0d-47ec-db4d-a3ca6b2495f7"
      },
      "execution_count": 44,
      "outputs": [
        {
          "output_type": "stream",
          "name": "stdout",
          "text": [
            ",Date,Monthly Mean Total Sunspot Number\r\n",
            "0,1749-01-31,96.7\r\n",
            "1,1749-02-28,104.3\r\n",
            "2,1749-03-31,116.7\r\n",
            "3,1749-04-30,92.8\r\n",
            "4,1749-05-31,141.7\r\n",
            "5,1749-06-30,139.2\r\n",
            "6,1749-07-31,158.0\r\n",
            "7,1749-08-31,110.5\r\n",
            "8,1749-09-30,126.5\r\n"
          ]
        }
      ]
    },
    {
      "cell_type": "code",
      "source": [
        "time_step = []\n",
        "sunspots = []\n",
        "\n",
        "with open('./Sunspots.csv') as csvfile:\n",
        "    reader = csv.reader(csvfile, delimiter=',')\n",
        "    next(reader)\n",
        "    for row in reader:\n",
        "        time_step.append(int(row[0]))\n",
        "        sunspots.append(float(row[2]))\n",
        "\n",
        "time = np.array(time_step)\n",
        "series = np.array(sunspots)\n",
        "\n",
        "plot_series(time, series, xlabel='Month',ylabel='Monthly Mean  Total Sunspot Number')"
      ],
      "metadata": {
        "colab": {
          "base_uri": "https://localhost:8080/",
          "height": 388
        },
        "id": "iAF_VQC-oyMQ",
        "outputId": "64d5bc37-cd5f-4a50-e876-b95d6fcb4aec"
      },
      "execution_count": 45,
      "outputs": [
        {
          "output_type": "display_data",
          "data": {
            "text/plain": [
              "<Figure size 720x432 with 1 Axes>"
            ],
            "image/png": "[encoded data removed]"
          },
          "metadata": {
            "needs_background": "light"
          }
        }
      ]
    },
    {
      "cell_type": "markdown",
      "source": [
        "##Split the dataset"
      ],
      "metadata": {
        "id": "zGj7ArGPqC4f"
      }
    },
    {
      "cell_type": "code",
      "source": [
        "# Define the split time\n",
        "split_time = 3000\n",
        "\n",
        "# Get the train set \n",
        "time_train = time[:split_time]\n",
        "x_train = series[:split_time]\n",
        "\n",
        "# Get the validation set\n",
        "time_valid = time[split_time:]\n",
        "x_valid = series[split_time:]"
      ],
      "metadata": {
        "id": "Wn-icOJLp4Dg"
      },
      "execution_count": 46,
      "outputs": []
    },
    {
      "cell_type": "markdown",
      "source": [
        "##Prepare Features and Labels"
      ],
      "metadata": {
        "id": "VEITaSlCqSsJ"
      }
    },
    {
      "cell_type": "code",
      "source": [
        "def windowed_dataset(series, window_size, batch_size, shuffle_buffer):\n",
        "    \"\"\"Generates dataset windows\n",
        "\n",
        "    Args:\n",
        "      series (array of float) - contains the values of the time series\n",
        "      window_size (int) - the number of time steps to include in the feature\n",
        "      batch_size (int) - the batch size\n",
        "      shuffle_buffer(int) - buffer size to use for the shuffle method\n",
        "\n",
        "    Returns:\n",
        "      dataset (TF Dataset) - TF Dataset containing time windows\n",
        "    \"\"\"\n",
        "  \n",
        "    # Generate a TF Dataset from the series values\n",
        "    dataset = tf.data.Dataset.from_tensor_slices(series)\n",
        "    \n",
        "    # Window the data but only take those with the specified size\n",
        "    dataset = dataset.window(window_size + 1, shift=1, drop_remainder=True)\n",
        "    \n",
        "    # Flatten the windows by putting its elements in a single batch\n",
        "    dataset = dataset.flat_map(lambda window: window.batch(window_size + 1))\n",
        "\n",
        "    # Create tuples with features and labels \n",
        "    dataset = dataset.map(lambda window: (window[:-1], window[-1]))\n",
        "\n",
        "    # Shuffle the windows\n",
        "    dataset = dataset.shuffle(shuffle_buffer)\n",
        "    \n",
        "    # Create batches of windows\n",
        "    dataset = dataset.batch(batch_size).prefetch(1)\n",
        "    \n",
        "    return dataset"
      ],
      "metadata": {
        "id": "U6yG2xVLqL9W"
      },
      "execution_count": 47,
      "outputs": []
    },
    {
      "cell_type": "code",
      "source": [
        "# Parameters\n",
        "window_size = 30\n",
        "batch_size = 32\n",
        "shuffle_buffer_size = 1000\n",
        "\n",
        "# Generate the dataset windows\n",
        "train_set = windowed_dataset(x_train, window_size, batch_size, shuffle_buffer_size)"
      ],
      "metadata": {
        "id": "jdTv0nWTqVbV"
      },
      "execution_count": 48,
      "outputs": []
    },
    {
      "cell_type": "markdown",
      "source": [
        "##Build the Model\n"
      ],
      "metadata": {
        "id": "6PAvJ2w3q7VB"
      }
    },
    {
      "cell_type": "code",
      "source": [
        "# Build the model\n",
        "model = tf.keras.models.Sequential([\n",
        "    tf.keras.layers.Dense(32, input_shape=[window_size], activation=\"relu\"), \n",
        "    tf.keras.layers.Dense(16, activation=\"relu\"),\n",
        "    tf.keras.layers.Dense(1)\n",
        "])\n",
        "\n",
        "# Print the model summary\n",
        "model.summary()"
      ],
      "metadata": {
        "colab": {
          "base_uri": "https://localhost:8080/"
        },
        "id": "aHOo_wABqvbu",
        "outputId": "09cdff8e-c7e8-4450-b6f7-7f1bdb09a18c"
      },
      "execution_count": 49,
      "outputs": [
        {
          "output_type": "stream",
          "name": "stdout",
          "text": [
            "Model: \"sequential_1\"\n",
            "_________________________________________________________________\n",
            " Layer (type)                Output Shape              Param #   \n",
            "=================================================================\n",
            " dense_3 (Dense)             (None, 32)                992       \n",
            "                                                                 \n",
            " dense_4 (Dense)             (None, 16)                528       \n",
            "                                                                 \n",
            " dense_5 (Dense)             (None, 1)                 17        \n",
            "                                                                 \n",
            "=================================================================\n",
            "Total params: 1,537\n",
            "Trainable params: 1,537\n",
            "Non-trainable params: 0\n",
            "_________________________________________________________________\n"
          ]
        }
      ]
    },
    {
      "cell_type": "markdown",
      "source": [
        "##Tune the Learning Rate"
      ],
      "metadata": {
        "id": "LnPfL3OUrNUg"
      }
    },
    {
      "cell_type": "code",
      "source": [
        "lr_schedule = tf.keras.callbacks.LearningRateScheduler(lambda epoch: 1e-8*10**(epoch/20))\n",
        "\n",
        "optimizer = tf.keras.optimizers.SGD(momentum=.9)\n",
        "\n",
        "model.compile(loss=tf.keras.losses.Huber(),\n",
        "              optimizer=optimizer,\n",
        "              metrics=['mae'])"
      ],
      "metadata": {
        "id": "aq76_G9mrEY4"
      },
      "execution_count": 50,
      "outputs": []
    },
    {
      "cell_type": "code",
      "source": [
        "# Train the model to find best learning rate\n",
        "history = model.fit(train_set, epochs=100, callbacks=[lr_schedule])"
      ],
      "metadata": {
        "colab": {
          "base_uri": "https://localhost:8080/"
        },
        "id": "SGR5Iu7Irw4W",
        "outputId": "b2830113-ef4e-49ad-fee3-5a65c367db50"
      },
      "execution_count": 51,
      "outputs": [
        {
          "output_type": "stream",
          "name": "stdout",
          "text": [
            "Epoch 1/100\n",
            "93/93 [==============================] - 2s 9ms/step - loss: 62.0645 - mae: 62.5597 - lr: 1.0000e-08\n",
            "Epoch 2/100\n",
            "93/93 [==============================] - 1s 8ms/step - loss: 61.7964 - mae: 62.2922 - lr: 1.1220e-08\n",
            "Epoch 3/100\n",
            "93/93 [==============================] - 1s 8ms/step - loss: 61.4948 - mae: 61.9911 - lr: 1.2589e-08\n",
            "Epoch 4/100\n",
            "93/93 [==============================] - 1s 9ms/step - loss: 61.1587 - mae: 61.6551 - lr: 1.4125e-08\n",
            "Epoch 5/100\n",
            "93/93 [==============================] - 1s 9ms/step - loss: 60.7834 - mae: 61.2795 - lr: 1.5849e-08\n",
            "Epoch 6/100\n",
            "93/93 [==============================] - 1s 8ms/step - loss: 60.3672 - mae: 60.8628 - lr: 1.7783e-08\n",
            "Epoch 7/100\n",
            "93/93 [==============================] - 1s 9ms/step - loss: 59.9080 - mae: 60.4037 - lr: 1.9953e-08\n",
            "Epoch 8/100\n",
            "93/93 [==============================] - 1s 9ms/step - loss: 59.4010 - mae: 59.8964 - lr: 2.2387e-08\n",
            "Epoch 9/100\n",
            "93/93 [==============================] - 1s 9ms/step - loss: 58.8449 - mae: 59.3403 - lr: 2.5119e-08\n",
            "Epoch 10/100\n",
            "93/93 [==============================] - 1s 9ms/step - loss: 58.2355 - mae: 58.7312 - lr: 2.8184e-08\n",
            "Epoch 11/100\n",
            "93/93 [==============================] - 1s 9ms/step - loss: 57.5707 - mae: 58.0665 - lr: 3.1623e-08\n",
            "Epoch 12/100\n",
            "93/93 [==============================] - 1s 9ms/step - loss: 56.8414 - mae: 57.3369 - lr: 3.5481e-08\n",
            "Epoch 13/100\n",
            "93/93 [==============================] - 1s 9ms/step - loss: 56.0514 - mae: 56.5474 - lr: 3.9811e-08\n",
            "Epoch 14/100\n",
            "93/93 [==============================] - 1s 9ms/step - loss: 55.1879 - mae: 55.6848 - lr: 4.4668e-08\n",
            "Epoch 15/100\n",
            "93/93 [==============================] - 1s 9ms/step - loss: 54.2422 - mae: 54.7382 - lr: 5.0119e-08\n",
            "Epoch 16/100\n",
            "93/93 [==============================] - 1s 9ms/step - loss: 53.2185 - mae: 53.7151 - lr: 5.6234e-08\n",
            "Epoch 17/100\n",
            "93/93 [==============================] - 1s 9ms/step - loss: 52.1040 - mae: 52.6008 - lr: 6.3096e-08\n",
            "Epoch 18/100\n",
            "93/93 [==============================] - 1s 9ms/step - loss: 50.8839 - mae: 51.3797 - lr: 7.0795e-08\n",
            "Epoch 19/100\n",
            "93/93 [==============================] - 1s 9ms/step - loss: 49.5856 - mae: 50.0824 - lr: 7.9433e-08\n",
            "Epoch 20/100\n",
            "93/93 [==============================] - 1s 9ms/step - loss: 48.2142 - mae: 48.7108 - lr: 8.9125e-08\n",
            "Epoch 21/100\n",
            "93/93 [==============================] - 1s 8ms/step - loss: 46.7382 - mae: 47.2352 - lr: 1.0000e-07\n",
            "Epoch 22/100\n",
            "93/93 [==============================] - 1s 9ms/step - loss: 45.1830 - mae: 45.6792 - lr: 1.1220e-07\n",
            "Epoch 23/100\n",
            "93/93 [==============================] - 1s 8ms/step - loss: 43.5275 - mae: 44.0245 - lr: 1.2589e-07\n",
            "Epoch 24/100\n",
            "93/93 [==============================] - 1s 9ms/step - loss: 41.7622 - mae: 42.2573 - lr: 1.4125e-07\n",
            "Epoch 25/100\n",
            "93/93 [==============================] - 1s 8ms/step - loss: 39.9466 - mae: 40.4417 - lr: 1.5849e-07\n",
            "Epoch 26/100\n",
            "93/93 [==============================] - 1s 9ms/step - loss: 38.1776 - mae: 38.6735 - lr: 1.7783e-07\n",
            "Epoch 27/100\n",
            "93/93 [==============================] - 1s 9ms/step - loss: 36.6520 - mae: 37.1479 - lr: 1.9953e-07\n",
            "Epoch 28/100\n",
            "93/93 [==============================] - 1s 9ms/step - loss: 35.3255 - mae: 35.8217 - lr: 2.2387e-07\n",
            "Epoch 29/100\n",
            "93/93 [==============================] - 1s 8ms/step - loss: 34.0660 - mae: 34.5624 - lr: 2.5119e-07\n",
            "Epoch 30/100\n",
            "93/93 [==============================] - 1s 9ms/step - loss: 32.8801 - mae: 33.3761 - lr: 2.8184e-07\n",
            "Epoch 31/100\n",
            "93/93 [==============================] - 1s 9ms/step - loss: 31.7669 - mae: 32.2628 - lr: 3.1623e-07\n",
            "Epoch 32/100\n",
            "93/93 [==============================] - 1s 9ms/step - loss: 30.6874 - mae: 31.1823 - lr: 3.5481e-07\n",
            "Epoch 33/100\n",
            "93/93 [==============================] - 1s 9ms/step - loss: 29.6406 - mae: 30.1367 - lr: 3.9811e-07\n",
            "Epoch 34/100\n",
            "93/93 [==============================] - 1s 9ms/step - loss: 28.5928 - mae: 29.0878 - lr: 4.4668e-07\n",
            "Epoch 35/100\n",
            "93/93 [==============================] - 1s 9ms/step - loss: 27.5612 - mae: 28.0567 - lr: 5.0119e-07\n",
            "Epoch 36/100\n",
            "93/93 [==============================] - 1s 9ms/step - loss: 26.5422 - mae: 27.0369 - lr: 5.6234e-07\n",
            "Epoch 37/100\n",
            "93/93 [==============================] - 1s 9ms/step - loss: 25.5738 - mae: 26.0686 - lr: 6.3096e-07\n",
            "Epoch 38/100\n",
            "93/93 [==============================] - 1s 8ms/step - loss: 24.6753 - mae: 25.1692 - lr: 7.0795e-07\n",
            "Epoch 39/100\n",
            "93/93 [==============================] - 1s 9ms/step - loss: 23.8675 - mae: 24.3616 - lr: 7.9433e-07\n",
            "Epoch 40/100\n",
            "93/93 [==============================] - 1s 9ms/step - loss: 23.1567 - mae: 23.6497 - lr: 8.9125e-07\n",
            "Epoch 41/100\n",
            "93/93 [==============================] - 1s 9ms/step - loss: 22.5419 - mae: 23.0353 - lr: 1.0000e-06\n",
            "Epoch 42/100\n",
            "93/93 [==============================] - 1s 8ms/step - loss: 21.9819 - mae: 22.4754 - lr: 1.1220e-06\n",
            "Epoch 43/100\n",
            "93/93 [==============================] - 1s 9ms/step - loss: 21.5031 - mae: 21.9971 - lr: 1.2589e-06\n",
            "Epoch 44/100\n",
            "93/93 [==============================] - 1s 8ms/step - loss: 21.0827 - mae: 21.5763 - lr: 1.4125e-06\n",
            "Epoch 45/100\n",
            "93/93 [==============================] - 1s 8ms/step - loss: 20.7367 - mae: 21.2302 - lr: 1.5849e-06\n",
            "Epoch 46/100\n",
            "93/93 [==============================] - 1s 9ms/step - loss: 20.3968 - mae: 20.8897 - lr: 1.7783e-06\n",
            "Epoch 47/100\n",
            "93/93 [==============================] - 1s 9ms/step - loss: 20.1145 - mae: 20.6070 - lr: 1.9953e-06\n",
            "Epoch 48/100\n",
            "93/93 [==============================] - 1s 9ms/step - loss: 19.8499 - mae: 20.3427 - lr: 2.2387e-06\n",
            "Epoch 49/100\n",
            "93/93 [==============================] - 1s 9ms/step - loss: 19.6198 - mae: 20.1131 - lr: 2.5119e-06\n",
            "Epoch 50/100\n",
            "93/93 [==============================] - 1s 9ms/step - loss: 19.3829 - mae: 19.8757 - lr: 2.8184e-06\n",
            "Epoch 51/100\n",
            "93/93 [==============================] - 1s 9ms/step - loss: 19.1854 - mae: 19.6773 - lr: 3.1623e-06\n",
            "Epoch 52/100\n",
            "93/93 [==============================] - 1s 9ms/step - loss: 18.9734 - mae: 19.4675 - lr: 3.5481e-06\n",
            "Epoch 53/100\n",
            "93/93 [==============================] - 1s 9ms/step - loss: 18.8278 - mae: 19.3213 - lr: 3.9811e-06\n",
            "Epoch 54/100\n",
            "93/93 [==============================] - 1s 9ms/step - loss: 18.6599 - mae: 19.1528 - lr: 4.4668e-06\n",
            "Epoch 55/100\n",
            "93/93 [==============================] - 1s 9ms/step - loss: 18.5540 - mae: 19.0467 - lr: 5.0119e-06\n",
            "Epoch 56/100\n",
            "93/93 [==============================] - 1s 9ms/step - loss: 18.4240 - mae: 18.9161 - lr: 5.6234e-06\n",
            "Epoch 57/100\n",
            "93/93 [==============================] - 1s 8ms/step - loss: 18.4287 - mae: 18.9213 - lr: 6.3096e-06\n",
            "Epoch 58/100\n",
            "93/93 [==============================] - 1s 9ms/step - loss: 18.3651 - mae: 18.8582 - lr: 7.0795e-06\n",
            "Epoch 59/100\n",
            "93/93 [==============================] - 1s 9ms/step - loss: 18.2004 - mae: 18.6931 - lr: 7.9433e-06\n",
            "Epoch 60/100\n",
            "93/93 [==============================] - 1s 8ms/step - loss: 18.0813 - mae: 18.5738 - lr: 8.9125e-06\n",
            "Epoch 61/100\n",
            "93/93 [==============================] - 1s 9ms/step - loss: 18.0829 - mae: 18.5744 - lr: 1.0000e-05\n",
            "Epoch 62/100\n",
            "93/93 [==============================] - 1s 9ms/step - loss: 18.0140 - mae: 18.5064 - lr: 1.1220e-05\n",
            "Epoch 63/100\n",
            "93/93 [==============================] - 1s 9ms/step - loss: 18.0368 - mae: 18.5308 - lr: 1.2589e-05\n",
            "Epoch 64/100\n",
            "93/93 [==============================] - 1s 9ms/step - loss: 17.8011 - mae: 18.2933 - lr: 1.4125e-05\n",
            "Epoch 65/100\n",
            "93/93 [==============================] - 1s 9ms/step - loss: 17.7490 - mae: 18.2408 - lr: 1.5849e-05\n",
            "Epoch 66/100\n",
            "93/93 [==============================] - 1s 9ms/step - loss: 17.6355 - mae: 18.1284 - lr: 1.7783e-05\n",
            "Epoch 67/100\n",
            "93/93 [==============================] - 1s 9ms/step - loss: 17.9321 - mae: 18.4232 - lr: 1.9953e-05\n",
            "Epoch 68/100\n",
            "93/93 [==============================] - 1s 8ms/step - loss: 17.7760 - mae: 18.2681 - lr: 2.2387e-05\n",
            "Epoch 69/100\n",
            "93/93 [==============================] - 1s 9ms/step - loss: 17.7269 - mae: 18.2175 - lr: 2.5119e-05\n",
            "Epoch 70/100\n",
            "93/93 [==============================] - 1s 9ms/step - loss: 17.3335 - mae: 17.8267 - lr: 2.8184e-05\n",
            "Epoch 71/100\n",
            "93/93 [==============================] - 1s 9ms/step - loss: 17.4196 - mae: 17.9114 - lr: 3.1623e-05\n",
            "Epoch 72/100\n",
            "93/93 [==============================] - 1s 8ms/step - loss: 17.3821 - mae: 17.8731 - lr: 3.5481e-05\n",
            "Epoch 73/100\n",
            "93/93 [==============================] - 1s 9ms/step - loss: 17.3943 - mae: 17.8848 - lr: 3.9811e-05\n",
            "Epoch 74/100\n",
            "93/93 [==============================] - 1s 9ms/step - loss: 17.3794 - mae: 17.8716 - lr: 4.4668e-05\n",
            "Epoch 75/100\n",
            "93/93 [==============================] - 1s 9ms/step - loss: 17.4845 - mae: 17.9752 - lr: 5.0119e-05\n",
            "Epoch 76/100\n",
            "93/93 [==============================] - 1s 9ms/step - loss: 17.2349 - mae: 17.7260 - lr: 5.6234e-05\n",
            "Epoch 77/100\n",
            "93/93 [==============================] - 1s 9ms/step - loss: 17.6321 - mae: 18.1231 - lr: 6.3096e-05\n",
            "Epoch 78/100\n",
            "93/93 [==============================] - 1s 9ms/step - loss: 17.9226 - mae: 18.4148 - lr: 7.0795e-05\n",
            "Epoch 79/100\n",
            "93/93 [==============================] - 1s 9ms/step - loss: 18.0641 - mae: 18.5558 - lr: 7.9433e-05\n",
            "Epoch 80/100\n",
            "93/93 [==============================] - 1s 9ms/step - loss: 17.2921 - mae: 17.7842 - lr: 8.9125e-05\n",
            "Epoch 81/100\n",
            "93/93 [==============================] - 1s 9ms/step - loss: 17.4684 - mae: 17.9589 - lr: 1.0000e-04\n",
            "Epoch 82/100\n",
            "93/93 [==============================] - 1s 9ms/step - loss: 17.4440 - mae: 17.9365 - lr: 1.1220e-04\n",
            "Epoch 83/100\n",
            "93/93 [==============================] - 1s 9ms/step - loss: 17.7751 - mae: 18.2678 - lr: 1.2589e-04\n",
            "Epoch 84/100\n",
            "93/93 [==============================] - 1s 9ms/step - loss: 18.8574 - mae: 19.3493 - lr: 1.4125e-04\n",
            "Epoch 85/100\n",
            "93/93 [==============================] - 1s 9ms/step - loss: 18.9411 - mae: 19.4338 - lr: 1.5849e-04\n",
            "Epoch 86/100\n",
            "93/93 [==============================] - 1s 9ms/step - loss: 18.8740 - mae: 19.3659 - lr: 1.7783e-04\n",
            "Epoch 87/100\n",
            "93/93 [==============================] - 1s 9ms/step - loss: 19.2249 - mae: 19.7184 - lr: 1.9953e-04\n",
            "Epoch 88/100\n",
            "93/93 [==============================] - 1s 9ms/step - loss: 19.8462 - mae: 20.3389 - lr: 2.2387e-04\n",
            "Epoch 89/100\n",
            "93/93 [==============================] - 1s 9ms/step - loss: 18.7165 - mae: 19.2097 - lr: 2.5119e-04\n",
            "Epoch 90/100\n",
            "93/93 [==============================] - 1s 8ms/step - loss: 20.3437 - mae: 20.8358 - lr: 2.8184e-04\n",
            "Epoch 91/100\n",
            "93/93 [==============================] - 1s 9ms/step - loss: 18.3820 - mae: 18.8751 - lr: 3.1623e-04\n",
            "Epoch 92/100\n",
            "93/93 [==============================] - 1s 9ms/step - loss: 22.0207 - mae: 22.5133 - lr: 3.5481e-04\n",
            "Epoch 93/100\n",
            "93/93 [==============================] - 1s 9ms/step - loss: 20.1776 - mae: 20.6704 - lr: 3.9811e-04\n",
            "Epoch 94/100\n",
            "93/93 [==============================] - 1s 9ms/step - loss: 19.5585 - mae: 20.0512 - lr: 4.4668e-04\n",
            "Epoch 95/100\n",
            "93/93 [==============================] - 1s 8ms/step - loss: 20.5424 - mae: 21.0351 - lr: 5.0119e-04\n",
            "Epoch 96/100\n",
            "93/93 [==============================] - 1s 9ms/step - loss: 25.3451 - mae: 25.8398 - lr: 5.6234e-04\n",
            "Epoch 97/100\n",
            "93/93 [==============================] - 1s 9ms/step - loss: 23.2296 - mae: 23.7241 - lr: 6.3096e-04\n",
            "Epoch 98/100\n",
            "93/93 [==============================] - 1s 9ms/step - loss: 23.2803 - mae: 23.7732 - lr: 7.0795e-04\n",
            "Epoch 99/100\n",
            "93/93 [==============================] - 1s 9ms/step - loss: 21.5158 - mae: 22.0080 - lr: 7.9433e-04\n",
            "Epoch 100/100\n",
            "93/93 [==============================] - 1s 9ms/step - loss: 27.0821 - mae: 27.5771 - lr: 8.9125e-04\n"
          ]
        }
      ]
    },
    {
      "cell_type": "markdown",
      "source": [
        "##Plot the learning rate and loss relationship"
      ],
      "metadata": {
        "id": "Pnst_0aLsOFV"
      }
    },
    {
      "cell_type": "code",
      "source": [
        "plt.figure(figsize=(10,6))\n",
        "plt.grid(True)\n",
        "plt.semilogx(history.history['lr'], history.history['loss'])\n",
        "# plt.tick_params('both', length=10, width=1, which='both')\n",
        "plt.axis([1e-8,1e-3, 0,100])"
      ],
      "metadata": {
        "colab": {
          "base_uri": "https://localhost:8080/",
          "height": 399
        },
        "id": "bM67hCt5sJrO",
        "outputId": "ebe12a9d-7188-430e-f75c-c47fe8feeef5"
      },
      "execution_count": 52,
      "outputs": [
        {
          "output_type": "execute_result",
          "data": {
            "text/plain": [
              "(1e-08, 0.001, 0.0, 100.0)"
            ]
          },
          "metadata": {},
          "execution_count": 52
        },
        {
          "output_type": "display_data",
          "data": {
            "text/plain": [
              "<Figure size 720x432 with 1 Axes>"
            ],
            "image/png": "[encoded data removed]"
          },
          "metadata": {
            "needs_background": "light"
          }
        }
      ]
    },
    {
      "cell_type": "markdown",
      "source": [
        "##Train the Model with choosen learning rate "
      ],
      "metadata": {
        "id": "r34udxKStP5H"
      }
    },
    {
      "cell_type": "code",
      "source": [
        "# Reset states generated by Keras\n",
        "tf.keras.backend.clear_session()\n",
        "\n",
        "# Build the Model\n",
        "model = tf.keras.models.Sequential([\n",
        "    tf.keras.layers.Dense(32, input_shape=[window_size], activation=\"relu\"), \n",
        "    tf.keras.layers.Dense(16, activation=\"relu\"),\n",
        "    tf.keras.layers.Dense(1)\n",
        "])"
      ],
      "metadata": {
        "id": "2oFBk64ps751"
      },
      "execution_count": 56,
      "outputs": []
    },
    {
      "cell_type": "code",
      "source": [
        "# Set the learning rate\n",
        "learning_rate = 1e-5\n",
        "\n",
        "# Set the optimizer \n",
        "optimizer = tf.keras.optimizers.SGD(learning_rate=learning_rate, momentum=0.9)\n",
        "\n",
        "# Set the training parameters\n",
        "model.compile(loss=tf.keras.losses.Huber(),\n",
        "              optimizer=optimizer,\n",
        "              metrics=[\"mae\"])\n",
        "\n",
        "# Train the model\n",
        "history = model.fit(train_set,epochs=100)"
      ],
      "metadata": {
        "colab": {
          "base_uri": "https://localhost:8080/"
        },
        "id": "NDztwxtitcPP",
        "outputId": "c5ec869c-6b3d-4e7f-8a1e-7581b6d9bde1"
      },
      "execution_count": 57,
      "outputs": [
        {
          "output_type": "stream",
          "name": "stdout",
          "text": [
            "Epoch 1/100\n",
            "93/93 [==============================] - 2s 9ms/step - loss: 41.0666 - mae: 41.5618\n",
            "Epoch 2/100\n",
            "93/93 [==============================] - 1s 9ms/step - loss: 22.5615 - mae: 23.0559\n",
            "Epoch 3/100\n",
            "93/93 [==============================] - 1s 8ms/step - loss: 21.0843 - mae: 21.5784\n",
            "Epoch 4/100\n",
            "93/93 [==============================] - 1s 9ms/step - loss: 20.2365 - mae: 20.7302\n",
            "Epoch 5/100\n",
            "93/93 [==============================] - 1s 8ms/step - loss: 20.0930 - mae: 20.5865\n",
            "Epoch 6/100\n",
            "93/93 [==============================] - 1s 8ms/step - loss: 19.8487 - mae: 20.3422\n",
            "Epoch 7/100\n",
            "93/93 [==============================] - 1s 9ms/step - loss: 19.1775 - mae: 19.6716\n",
            "Epoch 8/100\n",
            "93/93 [==============================] - 1s 8ms/step - loss: 19.0668 - mae: 19.5605\n",
            "Epoch 9/100\n",
            "93/93 [==============================] - 1s 9ms/step - loss: 18.8542 - mae: 19.3477\n",
            "Epoch 10/100\n",
            "93/93 [==============================] - 1s 9ms/step - loss: 18.5906 - mae: 19.0843\n",
            "Epoch 11/100\n",
            "93/93 [==============================] - 1s 8ms/step - loss: 18.5174 - mae: 19.0093\n",
            "Epoch 12/100\n",
            "93/93 [==============================] - 1s 9ms/step - loss: 18.3994 - mae: 18.8920\n",
            "Epoch 13/100\n",
            "93/93 [==============================] - 1s 8ms/step - loss: 18.6087 - mae: 19.1015\n",
            "Epoch 14/100\n",
            "93/93 [==============================] - 1s 9ms/step - loss: 18.2490 - mae: 18.7427\n",
            "Epoch 15/100\n",
            "93/93 [==============================] - 1s 8ms/step - loss: 18.3211 - mae: 18.8152\n",
            "Epoch 16/100\n",
            "93/93 [==============================] - 1s 9ms/step - loss: 17.9981 - mae: 18.4904\n",
            "Epoch 17/100\n",
            "93/93 [==============================] - 1s 9ms/step - loss: 18.1164 - mae: 18.6091\n",
            "Epoch 18/100\n",
            "93/93 [==============================] - 1s 9ms/step - loss: 17.9860 - mae: 18.4780\n",
            "Epoch 19/100\n",
            "93/93 [==============================] - 1s 8ms/step - loss: 17.9994 - mae: 18.4919\n",
            "Epoch 20/100\n",
            "93/93 [==============================] - 1s 9ms/step - loss: 17.9170 - mae: 18.4101\n",
            "Epoch 21/100\n",
            "93/93 [==============================] - 1s 9ms/step - loss: 17.8814 - mae: 18.3742\n",
            "Epoch 22/100\n",
            "93/93 [==============================] - 1s 8ms/step - loss: 17.7413 - mae: 18.2333\n",
            "Epoch 23/100\n",
            "93/93 [==============================] - 1s 8ms/step - loss: 17.8437 - mae: 18.3354\n",
            "Epoch 24/100\n",
            "93/93 [==============================] - 1s 9ms/step - loss: 17.5925 - mae: 18.0841\n",
            "Epoch 25/100\n",
            "93/93 [==============================] - 1s 9ms/step - loss: 17.5421 - mae: 18.0332\n",
            "Epoch 26/100\n",
            "93/93 [==============================] - 1s 8ms/step - loss: 17.4865 - mae: 17.9791\n",
            "Epoch 27/100\n",
            "93/93 [==============================] - 1s 9ms/step - loss: 17.4385 - mae: 17.9315\n",
            "Epoch 28/100\n",
            "93/93 [==============================] - 1s 9ms/step - loss: 17.4531 - mae: 17.9470\n",
            "Epoch 29/100\n",
            "93/93 [==============================] - 1s 9ms/step - loss: 17.4422 - mae: 17.9360\n",
            "Epoch 30/100\n",
            "93/93 [==============================] - 1s 9ms/step - loss: 17.4204 - mae: 17.9135\n",
            "Epoch 31/100\n",
            "93/93 [==============================] - 1s 9ms/step - loss: 17.4972 - mae: 17.9895\n",
            "Epoch 32/100\n",
            "93/93 [==============================] - 1s 9ms/step - loss: 17.2979 - mae: 17.7889\n",
            "Epoch 33/100\n",
            "93/93 [==============================] - 1s 8ms/step - loss: 17.5153 - mae: 18.0085\n",
            "Epoch 34/100\n",
            "93/93 [==============================] - 1s 9ms/step - loss: 17.3939 - mae: 17.8869\n",
            "Epoch 35/100\n",
            "93/93 [==============================] - 1s 9ms/step - loss: 17.3159 - mae: 17.8091\n",
            "Epoch 36/100\n",
            "93/93 [==============================] - 1s 9ms/step - loss: 17.4267 - mae: 17.9200\n",
            "Epoch 37/100\n",
            "93/93 [==============================] - 1s 9ms/step - loss: 17.2205 - mae: 17.7132\n",
            "Epoch 38/100\n",
            "93/93 [==============================] - 1s 8ms/step - loss: 17.2604 - mae: 17.7524\n",
            "Epoch 39/100\n",
            "93/93 [==============================] - 1s 9ms/step - loss: 17.2798 - mae: 17.7723\n",
            "Epoch 40/100\n",
            "93/93 [==============================] - 1s 9ms/step - loss: 17.1028 - mae: 17.5948\n",
            "Epoch 41/100\n",
            "93/93 [==============================] - 1s 9ms/step - loss: 17.1219 - mae: 17.6151\n",
            "Epoch 42/100\n",
            "93/93 [==============================] - 1s 9ms/step - loss: 17.1787 - mae: 17.6712\n",
            "Epoch 43/100\n",
            "93/93 [==============================] - 1s 8ms/step - loss: 17.1179 - mae: 17.6103\n",
            "Epoch 44/100\n",
            "93/93 [==============================] - 1s 9ms/step - loss: 17.0644 - mae: 17.5565\n",
            "Epoch 45/100\n",
            "93/93 [==============================] - 1s 9ms/step - loss: 17.0823 - mae: 17.5750\n",
            "Epoch 46/100\n",
            "93/93 [==============================] - 1s 9ms/step - loss: 17.0846 - mae: 17.5774\n",
            "Epoch 47/100\n",
            "93/93 [==============================] - 1s 9ms/step - loss: 17.1941 - mae: 17.6850\n",
            "Epoch 48/100\n",
            "93/93 [==============================] - 1s 8ms/step - loss: 17.1444 - mae: 17.6383\n",
            "Epoch 49/100\n",
            "93/93 [==============================] - 1s 9ms/step - loss: 17.1736 - mae: 17.6652\n",
            "Epoch 50/100\n",
            "93/93 [==============================] - 1s 9ms/step - loss: 17.0430 - mae: 17.5351\n",
            "Epoch 51/100\n",
            "93/93 [==============================] - 1s 9ms/step - loss: 16.9324 - mae: 17.4244\n",
            "Epoch 52/100\n",
            "93/93 [==============================] - 1s 9ms/step - loss: 17.0882 - mae: 17.5805\n",
            "Epoch 53/100\n",
            "93/93 [==============================] - 1s 9ms/step - loss: 16.9084 - mae: 17.4014\n",
            "Epoch 54/100\n",
            "93/93 [==============================] - 1s 9ms/step - loss: 17.1893 - mae: 17.6829\n",
            "Epoch 55/100\n",
            "93/93 [==============================] - 1s 9ms/step - loss: 17.0949 - mae: 17.5864\n",
            "Epoch 56/100\n",
            "93/93 [==============================] - 1s 9ms/step - loss: 16.9824 - mae: 17.4752\n",
            "Epoch 57/100\n",
            "93/93 [==============================] - 1s 9ms/step - loss: 16.9900 - mae: 17.4818\n",
            "Epoch 58/100\n",
            "93/93 [==============================] - 1s 9ms/step - loss: 17.1075 - mae: 17.5983\n",
            "Epoch 59/100\n",
            "93/93 [==============================] - 1s 9ms/step - loss: 17.0262 - mae: 17.5177\n",
            "Epoch 60/100\n",
            "93/93 [==============================] - 1s 9ms/step - loss: 16.9630 - mae: 17.4546\n",
            "Epoch 61/100\n",
            "93/93 [==============================] - 1s 8ms/step - loss: 17.0594 - mae: 17.5513\n",
            "Epoch 62/100\n",
            "93/93 [==============================] - 1s 9ms/step - loss: 16.9220 - mae: 17.4135\n",
            "Epoch 63/100\n",
            "93/93 [==============================] - 1s 9ms/step - loss: 16.9354 - mae: 17.4283\n",
            "Epoch 64/100\n",
            "93/93 [==============================] - 1s 9ms/step - loss: 17.1622 - mae: 17.6540\n",
            "Epoch 65/100\n",
            "93/93 [==============================] - 1s 9ms/step - loss: 16.8619 - mae: 17.3543\n",
            "Epoch 66/100\n",
            "93/93 [==============================] - 1s 9ms/step - loss: 17.0034 - mae: 17.4962\n",
            "Epoch 67/100\n",
            "93/93 [==============================] - 1s 9ms/step - loss: 16.8681 - mae: 17.3596\n",
            "Epoch 68/100\n",
            "93/93 [==============================] - 1s 10ms/step - loss: 16.8764 - mae: 17.3692\n",
            "Epoch 69/100\n",
            "93/93 [==============================] - 1s 9ms/step - loss: 16.8320 - mae: 17.3256\n",
            "Epoch 70/100\n",
            "93/93 [==============================] - 1s 9ms/step - loss: 16.8313 - mae: 17.3230\n",
            "Epoch 71/100\n",
            "93/93 [==============================] - 1s 9ms/step - loss: 16.8878 - mae: 17.3801\n",
            "Epoch 72/100\n",
            "93/93 [==============================] - 1s 8ms/step - loss: 17.0005 - mae: 17.4931\n",
            "Epoch 73/100\n",
            "93/93 [==============================] - 1s 9ms/step - loss: 16.8709 - mae: 17.3631\n",
            "Epoch 74/100\n",
            "93/93 [==============================] - 1s 9ms/step - loss: 16.8450 - mae: 17.3359\n",
            "Epoch 75/100\n",
            "93/93 [==============================] - 1s 9ms/step - loss: 16.8071 - mae: 17.3003\n",
            "Epoch 76/100\n",
            "93/93 [==============================] - 1s 9ms/step - loss: 16.8605 - mae: 17.3520\n",
            "Epoch 77/100\n",
            "93/93 [==============================] - 1s 9ms/step - loss: 16.8038 - mae: 17.2964\n",
            "Epoch 78/100\n",
            "93/93 [==============================] - 1s 9ms/step - loss: 16.7906 - mae: 17.2832\n",
            "Epoch 79/100\n",
            "93/93 [==============================] - 1s 9ms/step - loss: 16.8261 - mae: 17.3186\n",
            "Epoch 80/100\n",
            "93/93 [==============================] - 1s 9ms/step - loss: 16.7914 - mae: 17.2824\n",
            "Epoch 81/100\n",
            "93/93 [==============================] - 1s 9ms/step - loss: 16.8064 - mae: 17.2983\n",
            "Epoch 82/100\n",
            "93/93 [==============================] - 1s 8ms/step - loss: 16.8882 - mae: 17.3799\n",
            "Epoch 83/100\n",
            "93/93 [==============================] - 1s 9ms/step - loss: 16.7879 - mae: 17.2806\n",
            "Epoch 84/100\n",
            "93/93 [==============================] - 1s 9ms/step - loss: 16.8474 - mae: 17.3389\n",
            "Epoch 85/100\n",
            "93/93 [==============================] - 1s 9ms/step - loss: 16.8369 - mae: 17.3306\n",
            "Epoch 86/100\n",
            "93/93 [==============================] - 1s 9ms/step - loss: 16.7474 - mae: 17.2403\n",
            "Epoch 87/100\n",
            "93/93 [==============================] - 1s 8ms/step - loss: 16.8651 - mae: 17.3570\n",
            "Epoch 88/100\n",
            "93/93 [==============================] - 1s 9ms/step - loss: 16.6880 - mae: 17.1783\n",
            "Epoch 89/100\n",
            "93/93 [==============================] - 1s 9ms/step - loss: 16.7379 - mae: 17.2305\n",
            "Epoch 90/100\n",
            "93/93 [==============================] - 1s 9ms/step - loss: 16.8098 - mae: 17.3019\n",
            "Epoch 91/100\n",
            "93/93 [==============================] - 1s 9ms/step - loss: 16.7756 - mae: 17.2684\n",
            "Epoch 92/100\n",
            "93/93 [==============================] - 1s 9ms/step - loss: 16.8083 - mae: 17.3001\n",
            "Epoch 93/100\n",
            "93/93 [==============================] - 1s 9ms/step - loss: 16.9144 - mae: 17.4066\n",
            "Epoch 94/100\n",
            "93/93 [==============================] - 1s 9ms/step - loss: 16.7765 - mae: 17.2688\n",
            "Epoch 95/100\n",
            "93/93 [==============================] - 1s 9ms/step - loss: 16.8432 - mae: 17.3351\n",
            "Epoch 96/100\n",
            "93/93 [==============================] - 1s 9ms/step - loss: 16.7141 - mae: 17.2053\n",
            "Epoch 97/100\n",
            "93/93 [==============================] - 1s 8ms/step - loss: 16.8039 - mae: 17.2968\n",
            "Epoch 98/100\n",
            "93/93 [==============================] - 1s 9ms/step - loss: 16.7990 - mae: 17.2910\n",
            "Epoch 99/100\n",
            "93/93 [==============================] - 1s 9ms/step - loss: 16.7260 - mae: 17.2186\n",
            "Epoch 100/100\n",
            "93/93 [==============================] - 1s 9ms/step - loss: 16.6967 - mae: 17.1881\n"
          ]
        }
      ]
    },
    {
      "cell_type": "markdown",
      "source": [
        "##Model Prediction\n"
      ],
      "metadata": {
        "id": "OMLCO4pVtgqc"
      }
    },
    {
      "cell_type": "code",
      "source": [
        "def model_forecast(model, series, window_size, batch_size):\n",
        "    \"\"\"Uses an input model to generate predictions on data windows\n",
        "\n",
        "    Args:\n",
        "      model (TF Keras Model) - model that accepts data windows\n",
        "      series (array of float) - contains the values of the time series\n",
        "      window_size (int) - the number of time steps to include in the window\n",
        "      batch_size (int) - the batch size\n",
        "\n",
        "    Returns:\n",
        "      forecast (numpy array) - array containing predictions\n",
        "    \"\"\"\n",
        "\n",
        "    # Generate a TF Dataset from the series values\n",
        "    dataset = tf.data.Dataset.from_tensor_slices(series)\n",
        "\n",
        "    # Window the data but only take those with the specified size\n",
        "    dataset = dataset.window(window_size, shift=1, drop_remainder=True)\n",
        "\n",
        "    # Flatten the windows by putting its elements in a single batch\n",
        "    dataset = dataset.flat_map(lambda w: w.batch(window_size))\n",
        "    \n",
        "    # Create batches of windows\n",
        "    dataset = dataset.batch(batch_size).prefetch(1)\n",
        "    \n",
        "    # Get predictions on the entire dataset\n",
        "    forecast = model.predict(dataset)\n",
        "    \n",
        "    return forecast"
      ],
      "metadata": {
        "id": "pp8cSdibthY0"
      },
      "execution_count": 58,
      "outputs": []
    },
    {
      "cell_type": "code",
      "source": [
        "# Reduce the original series\n",
        "forecast_series = series[split_time-window_size:-1]\n",
        "\n",
        "# Use helper function to generate predictions\n",
        "forecast = model_forecast(model, forecast_series, window_size, batch_size)\n",
        "\n",
        "# Drop single dimensional axis\n",
        "results = forecast.squeeze()\n",
        "\n",
        "# Plot the results\n",
        "plot_series(time_valid, (x_valid, results))"
      ],
      "metadata": {
        "colab": {
          "base_uri": "https://localhost:8080/",
          "height": 374
        },
        "id": "W_Wd_vGft5L8",
        "outputId": "24efe2fd-c753-42e2-9b5a-64b992444f22"
      },
      "execution_count": 59,
      "outputs": [
        {
          "output_type": "display_data",
          "data": {
            "text/plain": [
              "<Figure size 720x432 with 1 Axes>"
            ],
            "image/png": "[encoded data removed]"
          },
          "metadata": {
            "needs_background": "light"
          }
        }
      ]
    },
    {
      "cell_type": "code",
      "source": [
        "# Compute the MAE\n",
        "print(tf.keras.metrics.mean_absolute_error(x_valid, results).numpy())\n"
      ],
      "metadata": {
        "colab": {
          "base_uri": "https://localhost:8080/"
        },
        "id": "FcEy7bCduPAp",
        "outputId": "f664602d-4fa1-4622-e055-4d5e3a895ab5"
      },
      "execution_count": 60,
      "outputs": [
        {
          "output_type": "stream",
          "name": "stdout",
          "text": [
            "14.783206\n"
          ]
        }
      ]
    }
  ]
}