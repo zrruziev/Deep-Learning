{
  "nbformat": 4,
  "nbformat_minor": 0,
  "metadata": {
    "colab": {
      "name": "C3_W1_Assignment.ipynb",
      "provenance": [],
      "authorship_tag": "ABX9TyP/PdCnTaQPDFY64cy1BJzB",
      "include_colab_link": true
    },
    "kernelspec": {
      "name": "python3",
      "display_name": "Python 3"
    },
    "language_info": {
      "name": "python"
    },
    "accelerator": "GPU"
  },
  "cells": [
    {
      "cell_type": "markdown",
      "metadata": {
        "id": "view-in-github",
        "colab_type": "text"
      },
      "source": [
        "<a href=\"https://colab.research.google.com/github/zrruziev/Deep_Learning_Practice/blob/main/TDC/C3_W1_Assignment.ipynb\" target=\"_parent\"><img src=\"https://colab.research.google.com/assets/colab-badge.svg\" alt=\"Open In Colab\"/></a>"
      ]
    },
    {
      "cell_type": "markdown",
      "source": [
        "##Download the BBC_News_Classification_Dataset"
      ],
      "metadata": {
        "id": "S6AYr7rbyE1v"
      }
    },
    {
      "cell_type": "code",
      "source": [
        "!wget --no-check-certificate \\\n",
        "    https://storage.googleapis.com/laurencemoroney-blog.appspot.com/bbc-text.csv "
      ],
      "metadata": {
        "colab": {
          "base_uri": "https://localhost:8080/"
        },
        "id": "eJdLDVxCyDi5",
        "outputId": "62b705b1-c518-4881-d60a-94695dd75064"
      },
      "execution_count": 55,
      "outputs": [
        {
          "output_type": "stream",
          "name": "stdout",
          "text": [
            "--2022-04-06 08:41:45--  https://storage.googleapis.com/laurencemoroney-blog.appspot.com/bbc-text.csv\n",
            "Resolving storage.googleapis.com (storage.googleapis.com)... 142.250.107.128, 173.194.202.128, 74.125.197.128, ...\n",
            "Connecting to storage.googleapis.com (storage.googleapis.com)|142.250.107.128|:443... connected.\n",
            "HTTP request sent, awaiting response... 200 OK\n",
            "Length: 5057493 (4.8M) [text/csv]\n",
            "Saving to: ‘bbc-text.csv’\n",
            "\n",
            "\rbbc-text.csv          0%[                    ]       0  --.-KB/s               \rbbc-text.csv        100%[===================>]   4.82M  --.-KB/s    in 0.02s   \n",
            "\n",
            "2022-04-06 08:41:45 (195 MB/s) - ‘bbc-text.csv’ saved [5057493/5057493]\n",
            "\n"
          ]
        }
      ]
    },
    {
      "cell_type": "markdown",
      "source": [
        "##Import Dependencies"
      ],
      "metadata": {
        "id": "vx_fpCkdBoDC"
      }
    },
    {
      "cell_type": "code",
      "execution_count": 56,
      "metadata": {
        "id": "zx3fLsFaBYLd"
      },
      "outputs": [],
      "source": [
        "import csv\n",
        "from tensorflow.keras.preprocessing.text import Tokenizer\n",
        "from tensorflow.keras.preprocessing.sequence import pad_sequences"
      ]
    },
    {
      "cell_type": "markdown",
      "source": [
        "##Show the header of the csv file and some of its data\n"
      ],
      "metadata": {
        "id": "A0FzR73r0PwI"
      }
    },
    {
      "cell_type": "code",
      "source": [
        "with open('bbc-text.csv', 'r') as csvfile:\n",
        "    print(f'First Line (header) of the data: \\n\\n{csvfile.readline()}')\n",
        "    print(f'Each data points look like this: \\n\\n{csvfile.readline()}')"
      ],
      "metadata": {
        "colab": {
          "base_uri": "https://localhost:8080/"
        },
        "id": "FAW_lv8KyRIV",
        "outputId": "35f99ffd-a497-44e6-d6c5-ae5a14a08ad5"
      },
      "execution_count": 57,
      "outputs": [
        {
          "output_type": "stream",
          "name": "stdout",
          "text": [
            "First Line (header) of the data: \n",
            "\n",
            "category,text\n",
            "\n",
            "Each data points look like this: \n",
            "\n",
            "tech,tv future in the hands of viewers with home theatre systems  plasma high-definition tvs  and digital video recorders moving into the living room  the way people watch tv will be radically different in five years  time.  that is according to an expert panel which gathered at the annual consumer electronics show in las vegas to discuss how these new technologies will impact one of our favourite pastimes. with the us leading the trend  programmes and other content will be delivered to viewers via home networks  through cable  satellite  telecoms companies  and broadband service providers to front rooms and portable devices.  one of the most talked-about technologies of ces has been digital and personal video recorders (dvr and pvr). these set-top boxes  like the us s tivo and the uk s sky+ system  allow people to record  store  play  pause and forward wind tv programmes when they want.  essentially  the technology allows for much more personalised tv. they are also being built-in to high-definition tv sets  which are big business in japan and the us  but slower to take off in europe because of the lack of high-definition programming. not only can people forward wind through adverts  they can also forget about abiding by network and channel schedules  putting together their own a-la-carte entertainment. but some us networks and cable and satellite companies are worried about what it means for them in terms of advertising revenues as well as  brand identity  and viewer loyalty to channels. although the us leads in this technology at the moment  it is also a concern that is being raised in europe  particularly with the growing uptake of services like sky+.  what happens here today  we will see in nine months to a years  time in the uk   adam hume  the bbc broadcast s futurologist told the bbc news website. for the likes of the bbc  there are no issues of lost advertising revenue yet. it is a more pressing issue at the moment for commercial uk broadcasters  but brand loyalty is important for everyone.  we will be talking more about content brands rather than network brands   said tim hanlon  from brand communications firm starcom mediavest.  the reality is that with broadband connections  anybody can be the producer of content.  he added:  the challenge now is that it is hard to promote a programme with so much choice.   what this means  said stacey jolna  senior vice president of tv guide tv group  is that the way people find the content they want to watch has to be simplified for tv viewers. it means that networks  in us terms  or channels could take a leaf out of google s book and be the search engine of the future  instead of the scheduler to help people find what they want to watch. this kind of channel model might work for the younger ipod generation which is used to taking control of their gadgets and what they play on them. but it might not suit everyone  the panel recognised. older generations are more comfortable with familiar schedules and channel brands because they know what they are getting. they perhaps do not want so much of the choice put into their hands  mr hanlon suggested.  on the other end  you have the kids just out of diapers who are pushing buttons already - everything is possible and available to them   said mr hanlon.  ultimately  the consumer will tell the market they want.   of the 50 000 new gadgets and technologies being showcased at ces  many of them are about enhancing the tv-watching experience. high-definition tv sets are everywhere and many new models of lcd (liquid crystal display) tvs have been launched with dvr capability built into them  instead of being external boxes. one such example launched at the show is humax s 26-inch lcd tv with an 80-hour tivo dvr and dvd recorder. one of the us s biggest satellite tv companies  directtv  has even launched its own branded dvr at the show with 100-hours of recording capability  instant replay  and a search function. the set can pause and rewind tv for up to 90 hours. and microsoft chief bill gates announced in his pre-show keynote speech a partnership with tivo  called tivotogo  which means people can play recorded programmes on windows pcs and mobile devices. all these reflect the increasing trend of freeing up multimedia so that people can watch what they want  when they want.\n",
            "\n"
          ]
        }
      ]
    },
    {
      "cell_type": "markdown",
      "source": [
        "##Read the csvfile and remove stopwords"
      ],
      "metadata": {
        "id": "8izf2arj0duZ"
      }
    },
    {
      "cell_type": "code",
      "source": [
        "def remove_stopwords(file):\n",
        "    stopwords = [ \"a\", \"about\", \"above\", \"after\", \"again\", \"against\", \"all\", \"am\", \"an\", \"and\", \"any\", \"are\", \"as\", \"at\", \"be\", \"because\", \"been\", \"before\", \"being\", \"below\", \"between\", \"both\", \"but\", \"by\", \"could\", \"did\", \"do\", \"does\", \"doing\", \"down\", \"during\", \"each\", \"few\", \"for\", \"from\", \"further\", \"had\", \"has\", \"have\", \"having\", \"he\", \"he'd\", \"he'll\", \"he's\", \"her\", \"here\", \"here's\", \"hers\", \"herself\", \"him\", \"himself\", \"his\", \"how\", \"how's\", \"i\", \"i'd\", \"i'll\", \"i'm\", \"i've\", \"if\", \"in\", \"into\", \"is\", \"it\", \"it's\", \"its\", \"itself\", \"let's\", \"me\", \"more\", \"most\", \"my\", \"myself\", \"nor\", \"of\", \"on\", \"once\", \"only\", \"or\", \"other\", \"ought\", \"our\", \"ours\", \"ourselves\", \"out\", \"over\", \"own\", \"same\", \"she\", \"she'd\", \"she'll\", \"she's\", \"should\", \"so\", \"some\", \"such\", \"than\", \"that\", \"that's\", \"the\", \"their\", \"theirs\", \"them\", \"themselves\", \"then\", \"there\", \"there's\", \"these\", \"they\", \"they'd\", \"they'll\", \"they're\", \"they've\", \"this\", \"those\", \"through\", \"to\", \"too\", \"under\", \"until\", \"up\", \"very\", \"was\", \"we\", \"we'd\", \"we'll\", \"we're\", \"we've\", \"were\", \"what\", \"what's\", \"when\", \"when's\", \"where\", \"where's\", \"which\", \"while\", \"who\", \"who's\", \"whom\", \"why\", \"why's\", \"with\", \"would\", \"you\", \"you'd\", \"you'll\", \"you're\", \"you've\", \"your\", \"yours\", \"yourself\", \"yourselves\" ]\n",
        "    sentences  = []    \n",
        "    labels = []\n",
        "    with open(file) as csvfile:\n",
        "        reader = csv.reader(csvfile, delimiter=',')\n",
        "        next(reader)\n",
        "        for row in reader:\n",
        "            labels.append(row[0])\n",
        "            sentence = row[1].lower()\n",
        "            for word in stopwords:\n",
        "                token = \" \" + word + \" \"\n",
        "                sentence = sentence.replace(token, \" \")\n",
        "            sentences.append(sentence)\n",
        "    return sentences, labels"
      ],
      "metadata": {
        "id": "FeVv1HhqymjQ"
      },
      "execution_count": 58,
      "outputs": []
    },
    {
      "cell_type": "markdown",
      "source": [
        "##Make sentences and labels Ready!"
      ],
      "metadata": {
        "id": "TCi7MPIu5Pld"
      }
    },
    {
      "cell_type": "code",
      "source": [
        "(sentences, labels) = remove_stopwords('bbc-text.csv')"
      ],
      "metadata": {
        "id": "PbnmJqW44gES"
      },
      "execution_count": 59,
      "outputs": []
    },
    {
      "cell_type": "code",
      "source": [
        "print(f'There are {len(sentences)} sentences in the dataset.')\n",
        "print(f'\\nFirst sentence has {len(sentences[0].split())} words (after removing stopwords.)')\n",
        "print(f'\\nThere are {len(labels)} labels in the dataset.')\n",
        "print(f'\\nThe first 5 labels are {labels[:5]}')"
      ],
      "metadata": {
        "colab": {
          "base_uri": "https://localhost:8080/"
        },
        "id": "aqu48vP_5jxP",
        "outputId": "2a7a4ee6-b81b-41fc-f731-26ed5e451414"
      },
      "execution_count": 60,
      "outputs": [
        {
          "output_type": "stream",
          "name": "stdout",
          "text": [
            "There are 2225 sentences in the dataset.\n",
            "\n",
            "First sentence has 436 words (after removing stopwords.)\n",
            "\n",
            "There are 2225 labels in the dataset.\n",
            "\n",
            "The first 5 labels are ['tech', 'business', 'sport', 'sport', 'entertainment']\n"
          ]
        }
      ]
    },
    {
      "cell_type": "markdown",
      "source": [
        "##Using Tokenizer for sentences"
      ],
      "metadata": {
        "id": "x_H1PRvlCH-H"
      }
    },
    {
      "cell_type": "code",
      "source": [
        "def fit_tokenizer(sentences):\n",
        "    tokenizer = Tokenizer(oov_token='<OOV>')\n",
        "    # tokenizer = Tokenizer()\n",
        "    tokenizer.fit_on_texts(sentences)\n",
        "    return tokenizer"
      ],
      "metadata": {
        "id": "1Nn7QvVB22PZ"
      },
      "execution_count": 61,
      "outputs": []
    },
    {
      "cell_type": "code",
      "source": [
        "tokenizer = fit_tokenizer(sentences)\n",
        "word_index = tokenizer.word_index\n",
        "\n",
        "print(f'Vocabulary contains {len(word_index)} words.\\n')\n",
        "print(f'<OOV> token included in vocabulary' if '<OOV>' in word_index else '<OOV> token NOT included in vocabulary')"
      ],
      "metadata": {
        "colab": {
          "base_uri": "https://localhost:8080/"
        },
        "id": "wn8lJ8IY7RTR",
        "outputId": "36a02c20-196a-44c8-c531-a2d919178985"
      },
      "execution_count": 62,
      "outputs": [
        {
          "output_type": "stream",
          "name": "stdout",
          "text": [
            "Vocabulary contains 29714 words.\n",
            "\n",
            "<OOV> token included in vocabulary\n"
          ]
        }
      ]
    },
    {
      "cell_type": "code",
      "source": [
        "def get_padded_sequences(tokenizer, sentences):\n",
        "    sequences = tokenizer.texts_to_sequences(sentences)\n",
        "    padded_sequences = pad_sequences(sequences, padding='post')\n",
        "    return padded_sequences\n",
        "\n"
      ],
      "metadata": {
        "id": "VbdRSxMD8HEv"
      },
      "execution_count": 63,
      "outputs": []
    },
    {
      "cell_type": "code",
      "source": [
        "padded_sequences = get_padded_sequences(tokenizer, sentences)\n",
        "\n",
        "print(f'First padded sequence looks like this: \\n\\n{padded_sequences[0]}\\n')\n",
        "print(f'Numpy array of all sequences has shape: {padded_sequences.shape}\\n')\n",
        "print(f'This means there are {padded_sequences.shape[0]} sequences in total and each one has a size of {padded_sequences.shape[1]}')"
      ],
      "metadata": {
        "colab": {
          "base_uri": "https://localhost:8080/"
        },
        "id": "EUFrLXyT8_Qb",
        "outputId": "7064d736-904f-45f2-a426-81fe03d22766"
      },
      "execution_count": 64,
      "outputs": [
        {
          "output_type": "stream",
          "name": "stdout",
          "text": [
            "First padded sequence looks like this: \n",
            "\n",
            "[  96  176 1158 ...    0    0    0]\n",
            "\n",
            "Numpy array of all sequences has shape: (2225, 2441)\n",
            "\n",
            "This means there are 2225 sequences in total and each one has a size of 2441\n"
          ]
        }
      ]
    },
    {
      "cell_type": "markdown",
      "source": [
        "##Using Tokenizer for labels"
      ],
      "metadata": {
        "id": "XweLShvPCQ4H"
      }
    },
    {
      "cell_type": "code",
      "source": [
        "def tokenize_labels(labels):\n",
        "    label_tokenizer = Tokenizer()\n",
        "    label_tokenizer.fit_on_texts(labels)\n",
        "    label_word_index = label_tokenizer.word_index\n",
        "    label_sequences = label_tokenizer.texts_to_sequences(labels)\n",
        "\n",
        "    return label_sequences, label_word_index"
      ],
      "metadata": {
        "id": "mlben44d9qZw"
      },
      "execution_count": 65,
      "outputs": []
    },
    {
      "cell_type": "code",
      "source": [
        "label_sequences, label_word_index = tokenize_labels(labels)\n",
        "\n",
        "print(f'Vocabulary of labels loks like this: {label_word_index}\\n')\n",
        "print(f'First ten sequences {label_sequences[:10]}')"
      ],
      "metadata": {
        "colab": {
          "base_uri": "https://localhost:8080/"
        },
        "id": "Cwc3Jm1sBIDu",
        "outputId": "b35eb150-ccb7-475c-93e4-d0cecbf1a4dd"
      },
      "execution_count": 66,
      "outputs": [
        {
          "output_type": "stream",
          "name": "stdout",
          "text": [
            "Vocabulary of labels loks like this: {'sport': 1, 'business': 2, 'politics': 3, 'tech': 4, 'entertainment': 5}\n",
            "\n",
            "First ten sequences [[4], [2], [1], [1], [5], [3], [3], [1], [1], [5]]\n"
          ]
        }
      ]
    }
  ]
}