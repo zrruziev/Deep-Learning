{
  "nbformat": 4,
  "nbformat_minor": 0,
  "metadata": {
    "colab": {
      "name": "C4_W3_Lab2.ipynb",
      "provenance": [],
      "authorship_tag": "ABX9TyOKASBIdNDPU7WKIMNT41tJ",
      "include_colab_link": true
    },
    "kernelspec": {
      "name": "python3",
      "display_name": "Python 3"
    },
    "language_info": {
      "name": "python"
    },
    "accelerator": "GPU"
  },
  "cells": [
    {
      "cell_type": "markdown",
      "metadata": {
        "id": "view-in-github",
        "colab_type": "text"
      },
      "source": [
        "<a href=\"https://colab.research.google.com/github/zrruziev/Deep_Learning_Practice/blob/main/TDC/C4_W3_Lab2.ipynb\" target=\"_parent\"><img src=\"https://colab.research.google.com/assets/colab-badge.svg\" alt=\"Open In Colab\"/></a>"
      ]
    },
    {
      "cell_type": "markdown",
      "source": [
        "##Imports\n"
      ],
      "metadata": {
        "id": "iYkiSOfM0Mg6"
      }
    },
    {
      "cell_type": "code",
      "execution_count": 1,
      "metadata": {
        "id": "3YJohmwWz7lE"
      },
      "outputs": [],
      "source": [
        "import tensorflow as tf\n",
        "import numpy as np\n",
        "import matplotlib.pyplot as plt"
      ]
    },
    {
      "cell_type": "markdown",
      "source": [
        "##Utilities\n"
      ],
      "metadata": {
        "id": "ADlA30kL0STV"
      }
    },
    {
      "cell_type": "code",
      "source": [
        "def plot_series(time, series, format=\"-\", start=0, end=None):\n",
        "    \"\"\"\n",
        "    Visualizes time series data\n",
        "\n",
        "    Args:\n",
        "      time (array of int) - contains the time steps\n",
        "      series (array of int) - contains the measurements for each time step\n",
        "      format - line style when plotting the graph\n",
        "      start - first time step to plot\n",
        "      end - last time step to plot\n",
        "    \"\"\"\n",
        "\n",
        "    # Setup dimensions of the graph figure\n",
        "    plt.figure(figsize=(10, 6))\n",
        "    \n",
        "    if type(series) is tuple:\n",
        "\n",
        "      for series_num in series:\n",
        "        # Plot the time series data\n",
        "        plt.plot(time[start:end], series_num[start:end], format)\n",
        "\n",
        "    else:\n",
        "      # Plot the time series data\n",
        "      plt.plot(time[start:end], series[start:end], format)\n",
        "\n",
        "    # Label the x-axis\n",
        "    plt.xlabel(\"Time\")\n",
        "\n",
        "    # Label the y-axis\n",
        "    plt.ylabel(\"Value\")\n",
        "\n",
        "    # Overlay a grid on the graph\n",
        "    plt.grid(True)\n",
        "\n",
        "    # Draw the graph on screen\n",
        "    plt.show()\n",
        "\n",
        "def trend(time, slope=0):\n",
        "    \"\"\"\n",
        "    Generates synthetic data that follows a straight line given a slope value.\n",
        "\n",
        "    Args:\n",
        "      time (array of int) - contains the time steps\n",
        "      slope (float) - determines the direction and steepness of the line\n",
        "\n",
        "    Returns:\n",
        "      series (array of float) - measurements that follow a straight line\n",
        "    \"\"\"\n",
        "\n",
        "    # Compute the linear series given the slope\n",
        "    series = slope * time\n",
        "\n",
        "    return series\n",
        "\n",
        "def seasonal_pattern(season_time):\n",
        "    \"\"\"\n",
        "    Just an arbitrary pattern, you can change it if you wish\n",
        "    \n",
        "    Args:\n",
        "      season_time (array of float) - contains the measurements per time step\n",
        "\n",
        "    Returns:\n",
        "      data_pattern (array of float) -  contains revised measurement values according \n",
        "                                  to the defined pattern\n",
        "    \"\"\"\n",
        "\n",
        "    # Generate the values using an arbitrary pattern\n",
        "    data_pattern = np.where(season_time < 0.4,\n",
        "                    np.cos(season_time * 2 * np.pi),\n",
        "                    1 / np.exp(3 * season_time))\n",
        "    \n",
        "    return data_pattern\n",
        "\n",
        "def seasonality(time, period, amplitude=1, phase=0):\n",
        "    \"\"\"\n",
        "    Repeats the same pattern at each period\n",
        "\n",
        "    Args:\n",
        "      time (array of int) - contains the time steps\n",
        "      period (int) - number of time steps before the pattern repeats\n",
        "      amplitude (int) - peak measured value in a period\n",
        "      phase (int) - number of time steps to shift the measured values\n",
        "\n",
        "    Returns:\n",
        "      data_pattern (array of float) - seasonal data scaled by the defined amplitude\n",
        "    \"\"\"\n",
        "    \n",
        "    # Define the measured values per period\n",
        "    season_time = ((time + phase) % period) / period\n",
        "\n",
        "    # Generates the seasonal data scaled by the defined amplitude\n",
        "    data_pattern = amplitude * seasonal_pattern(season_time)\n",
        "\n",
        "    return data_pattern\n",
        "\n",
        "def noise(time, noise_level=1, seed=None):\n",
        "    \"\"\"Generates a normally distributed noisy signal\n",
        "\n",
        "    Args:\n",
        "      time (array of int) - contains the time steps\n",
        "      noise_level (float) - scaling factor for the generated signal\n",
        "      seed (int) - number generator seed for repeatability\n",
        "\n",
        "    Returns:\n",
        "      noise (array of float) - the noisy signal\n",
        "    \"\"\"\n",
        "\n",
        "    # Initialize the random number generator\n",
        "    rnd = np.random.RandomState(seed)\n",
        "\n",
        "    # Generate a random number for each time step and scale by the noise level\n",
        "    noise = rnd.randn(len(time)) * noise_level\n",
        "    \n",
        "    return noise"
      ],
      "metadata": {
        "id": "joBpGGru0NOM"
      },
      "execution_count": 2,
      "outputs": []
    },
    {
      "cell_type": "markdown",
      "source": [
        "##Generate the Synthetic Data\n"
      ],
      "metadata": {
        "id": "4i323WJB0YxJ"
      }
    },
    {
      "cell_type": "code",
      "source": [
        "# Parameters\n",
        "time = np.arange(4 * 365 + 1, dtype=\"float32\")\n",
        "baseline = 10\n",
        "amplitude = 40\n",
        "slope = 0.05\n",
        "noise_level = 5\n",
        "\n",
        "# Create the series\n",
        "series = baseline + trend(time, slope) + seasonality(time, period=365, amplitude=amplitude)\n",
        "\n",
        "# Update with noise\n",
        "series += noise(time, noise_level, seed=42)\n",
        "\n",
        "# Plot the results\n",
        "plot_series(time, series)"
      ],
      "metadata": {
        "colab": {
          "base_uri": "https://localhost:8080/",
          "height": 388
        },
        "id": "338H6ccJ0Wyc",
        "outputId": "703e763e-d097-475d-a12f-f8491a22afb6"
      },
      "execution_count": 3,
      "outputs": [
        {
          "output_type": "display_data",
          "data": {
            "text/plain": [
              "<Figure size 720x432 with 1 Axes>"
            ],
            "image/png": "[encoded data removed]"
          },
          "metadata": {
            "needs_background": "light"
          }
        }
      ]
    },
    {
      "cell_type": "markdown",
      "source": [
        "##Split the Dataset\n"
      ],
      "metadata": {
        "id": "Dt_360bh0diS"
      }
    },
    {
      "cell_type": "code",
      "source": [
        "# Define the split time\n",
        "split_time = 1000\n",
        "\n",
        "# Get the train set \n",
        "time_train = time[:split_time]\n",
        "x_train = series[:split_time]\n",
        "\n",
        "# Get the validation set\n",
        "time_valid = time[split_time:]\n",
        "x_valid = series[split_time:]"
      ],
      "metadata": {
        "id": "e9lN7Lt70b3o"
      },
      "execution_count": 4,
      "outputs": []
    },
    {
      "cell_type": "markdown",
      "source": [
        "##Prepare Features and Labels\n"
      ],
      "metadata": {
        "id": "Qy7d6O8L0ico"
      }
    },
    {
      "cell_type": "code",
      "source": [
        "# Parameters\n",
        "window_size = 20\n",
        "batch_size = 32\n",
        "shuffle_buffer_size = 1000\n",
        "\n",
        "def windowed_dataset(series, window_size, batch_size, shuffle_buffer):\n",
        "    dataset = tf.data.Dataset.from_tensor_slices(series)\n",
        "    dataset = dataset.window(size=window_size+1, shift=1, drop_remainder=True)\n",
        "    dataset = dataset.flat_map(lambda w: w.batch(window_size+1))\n",
        "    dataset = dataset.map(lambda w: (w[:-1], w[-1]))\n",
        "    dataset = dataset.shuffle(shuffle_buffer)\n",
        "    dataset = dataset.batch(batch_size).prefetch(1)\n",
        "    return dataset"
      ],
      "metadata": {
        "id": "ufUL8Nnr0gii"
      },
      "execution_count": 5,
      "outputs": []
    },
    {
      "cell_type": "code",
      "source": [
        "dataset = windowed_dataset(x_train, window_size, batch_size, shuffle_buffer_size)"
      ],
      "metadata": {
        "id": "9r2bDHOK1nuu"
      },
      "execution_count": 6,
      "outputs": []
    },
    {
      "cell_type": "markdown",
      "source": [
        "##Build the Model"
      ],
      "metadata": {
        "id": "AkYoXnMtz5CF"
      }
    },
    {
      "cell_type": "code",
      "source": [
        "model_tune = tf.keras.models.Sequential([\n",
        "            tf.keras.layers.Lambda(lambda x: tf.expand_dims(x, axis=-1), input_shape=[window_size]),\n",
        "            tf.keras.layers.Bidirectional(tf.keras.layers.LSTM(32, return_sequences=True)),\n",
        "            tf.keras.layers.Bidirectional(tf.keras.layers.LSTM(32)),\n",
        "            tf.keras.layers.Dense(1),\n",
        "            tf.keras.layers.Lambda(lambda x: x*100.0)\n",
        "            ])\n",
        "\n",
        "model_tune.summary()"
      ],
      "metadata": {
        "colab": {
          "base_uri": "https://localhost:8080/"
        },
        "id": "2cdHxs9Yz7Pl",
        "outputId": "4d4d607a-9f45-455f-dbcd-55d53956e271"
      },
      "execution_count": 9,
      "outputs": [
        {
          "output_type": "stream",
          "name": "stdout",
          "text": [
            "Model: \"sequential_2\"\n",
            "_________________________________________________________________\n",
            " Layer (type)                Output Shape              Param #   \n",
            "=================================================================\n",
            " lambda_4 (Lambda)           (None, 20, 1)             0         \n",
            "                                                                 \n",
            " bidirectional_4 (Bidirectio  (None, 20, 64)           8704      \n",
            " nal)                                                            \n",
            "                                                                 \n",
            " bidirectional_5 (Bidirectio  (None, 64)               24832     \n",
            " nal)                                                            \n",
            "                                                                 \n",
            " dense_2 (Dense)             (None, 1)                 65        \n",
            "                                                                 \n",
            " lambda_5 (Lambda)           (None, 1)                 0         \n",
            "                                                                 \n",
            "=================================================================\n",
            "Total params: 33,601\n",
            "Trainable params: 33,601\n",
            "Non-trainable params: 0\n",
            "_________________________________________________________________\n"
          ]
        }
      ]
    },
    {
      "cell_type": "markdown",
      "source": [
        "##Tune the Learning Rate"
      ],
      "metadata": {
        "id": "wO5eUXBq1GrO"
      }
    },
    {
      "cell_type": "code",
      "source": [
        "lr_schedule = tf.keras.callbacks.LearningRateScheduler(lambda epoch: 1e-8*10**(epoch/20))\n",
        "\n",
        "optimizer = tf.keras.optimizers.SGD(momentum=.9)\n",
        "\n",
        "model_tune.compile(loss=tf.keras.losses.Huber(),\n",
        "                   optimizer=optimizer)\n",
        "\n",
        "history = model_tune.fit(dataset, epochs=100, callbacks=[lr_schedule])"
      ],
      "metadata": {
        "colab": {
          "base_uri": "https://localhost:8080/"
        },
        "id": "x9neiY0s0xWC",
        "outputId": "999b9d35-f421-410c-8dfa-93776f97f483"
      },
      "execution_count": 11,
      "outputs": [
        {
          "output_type": "stream",
          "name": "stdout",
          "text": [
            "Epoch 1/100\n",
            "31/31 [==============================] - 13s 24ms/step - loss: 101.6629 - lr: 1.0000e-08\n",
            "Epoch 2/100\n",
            "31/31 [==============================] - 1s 23ms/step - loss: 100.6102 - lr: 1.1220e-08\n",
            "Epoch 3/100\n",
            "31/31 [==============================] - 1s 23ms/step - loss: 99.3333 - lr: 1.2589e-08\n",
            "Epoch 4/100\n",
            "31/31 [==============================] - 1s 22ms/step - loss: 97.8905 - lr: 1.4125e-08\n",
            "Epoch 5/100\n",
            "31/31 [==============================] - 1s 23ms/step - loss: 96.2711 - lr: 1.5849e-08\n",
            "Epoch 6/100\n",
            "31/31 [==============================] - 1s 22ms/step - loss: 94.4486 - lr: 1.7783e-08\n",
            "Epoch 7/100\n",
            "31/31 [==============================] - 1s 22ms/step - loss: 92.3944 - lr: 1.9953e-08\n",
            "Epoch 8/100\n",
            "31/31 [==============================] - 1s 22ms/step - loss: 90.0862 - lr: 2.2387e-08\n",
            "Epoch 9/100\n",
            "31/31 [==============================] - 1s 22ms/step - loss: 87.4909 - lr: 2.5119e-08\n",
            "Epoch 10/100\n",
            "31/31 [==============================] - 1s 22ms/step - loss: 84.5646 - lr: 2.8184e-08\n",
            "Epoch 11/100\n",
            "31/31 [==============================] - 1s 22ms/step - loss: 81.2798 - lr: 3.1623e-08\n",
            "Epoch 12/100\n",
            "31/31 [==============================] - 1s 23ms/step - loss: 77.5887 - lr: 3.5481e-08\n",
            "Epoch 13/100\n",
            "31/31 [==============================] - 1s 22ms/step - loss: 73.4382 - lr: 3.9811e-08\n",
            "Epoch 14/100\n",
            "31/31 [==============================] - 1s 22ms/step - loss: 68.7785 - lr: 4.4668e-08\n",
            "Epoch 15/100\n",
            "31/31 [==============================] - 1s 22ms/step - loss: 63.5619 - lr: 5.0119e-08\n",
            "Epoch 16/100\n",
            "31/31 [==============================] - 1s 22ms/step - loss: 57.7339 - lr: 5.6234e-08\n",
            "Epoch 17/100\n",
            "31/31 [==============================] - 1s 23ms/step - loss: 51.2465 - lr: 6.3096e-08\n",
            "Epoch 18/100\n",
            "31/31 [==============================] - 1s 22ms/step - loss: 44.0460 - lr: 7.0795e-08\n",
            "Epoch 19/100\n",
            "31/31 [==============================] - 1s 22ms/step - loss: 36.1047 - lr: 7.9433e-08\n",
            "Epoch 20/100\n",
            "31/31 [==============================] - 1s 22ms/step - loss: 27.5594 - lr: 8.9125e-08\n",
            "Epoch 21/100\n",
            "31/31 [==============================] - 1s 22ms/step - loss: 19.2159 - lr: 1.0000e-07\n",
            "Epoch 22/100\n",
            "31/31 [==============================] - 1s 22ms/step - loss: 14.5899 - lr: 1.1220e-07\n",
            "Epoch 23/100\n",
            "31/31 [==============================] - 1s 22ms/step - loss: 13.2785 - lr: 1.2589e-07\n",
            "Epoch 24/100\n",
            "31/31 [==============================] - 1s 22ms/step - loss: 12.7840 - lr: 1.4125e-07\n",
            "Epoch 25/100\n",
            "31/31 [==============================] - 1s 22ms/step - loss: 12.3541 - lr: 1.5849e-07\n",
            "Epoch 26/100\n",
            "31/31 [==============================] - 1s 22ms/step - loss: 11.8714 - lr: 1.7783e-07\n",
            "Epoch 27/100\n",
            "31/31 [==============================] - 1s 22ms/step - loss: 11.3376 - lr: 1.9953e-07\n",
            "Epoch 28/100\n",
            "31/31 [==============================] - 1s 23ms/step - loss: 10.7543 - lr: 2.2387e-07\n",
            "Epoch 29/100\n",
            "31/31 [==============================] - 1s 22ms/step - loss: 10.1153 - lr: 2.5119e-07\n",
            "Epoch 30/100\n",
            "31/31 [==============================] - 1s 22ms/step - loss: 9.4642 - lr: 2.8184e-07\n",
            "Epoch 31/100\n",
            "31/31 [==============================] - 1s 22ms/step - loss: 8.8270 - lr: 3.1623e-07\n",
            "Epoch 32/100\n",
            "31/31 [==============================] - 1s 22ms/step - loss: 8.2316 - lr: 3.5481e-07\n",
            "Epoch 33/100\n",
            "31/31 [==============================] - 1s 22ms/step - loss: 7.8000 - lr: 3.9811e-07\n",
            "Epoch 34/100\n",
            "31/31 [==============================] - 1s 22ms/step - loss: 7.4297 - lr: 4.4668e-07\n",
            "Epoch 35/100\n",
            "31/31 [==============================] - 1s 23ms/step - loss: 7.2136 - lr: 5.0119e-07\n",
            "Epoch 36/100\n",
            "31/31 [==============================] - 1s 22ms/step - loss: 7.0770 - lr: 5.6234e-07\n",
            "Epoch 37/100\n",
            "31/31 [==============================] - 1s 23ms/step - loss: 6.9882 - lr: 6.3096e-07\n",
            "Epoch 38/100\n",
            "31/31 [==============================] - 1s 22ms/step - loss: 6.8814 - lr: 7.0795e-07\n",
            "Epoch 39/100\n",
            "31/31 [==============================] - 1s 22ms/step - loss: 6.7977 - lr: 7.9433e-07\n",
            "Epoch 40/100\n",
            "31/31 [==============================] - 1s 23ms/step - loss: 6.7231 - lr: 8.9125e-07\n",
            "Epoch 41/100\n",
            "31/31 [==============================] - 1s 22ms/step - loss: 6.6882 - lr: 1.0000e-06\n",
            "Epoch 42/100\n",
            "31/31 [==============================] - 1s 22ms/step - loss: 6.6028 - lr: 1.1220e-06\n",
            "Epoch 43/100\n",
            "31/31 [==============================] - 1s 23ms/step - loss: 6.4423 - lr: 1.2589e-06\n",
            "Epoch 44/100\n",
            "31/31 [==============================] - 1s 23ms/step - loss: 6.3639 - lr: 1.4125e-06\n",
            "Epoch 45/100\n",
            "31/31 [==============================] - 1s 23ms/step - loss: 6.2682 - lr: 1.5849e-06\n",
            "Epoch 46/100\n",
            "31/31 [==============================] - 1s 22ms/step - loss: 6.3842 - lr: 1.7783e-06\n",
            "Epoch 47/100\n",
            "31/31 [==============================] - 1s 23ms/step - loss: 6.0468 - lr: 1.9953e-06\n",
            "Epoch 48/100\n",
            "31/31 [==============================] - 1s 22ms/step - loss: 6.0026 - lr: 2.2387e-06\n",
            "Epoch 49/100\n",
            "31/31 [==============================] - 1s 22ms/step - loss: 5.9578 - lr: 2.5119e-06\n",
            "Epoch 50/100\n",
            "31/31 [==============================] - 1s 23ms/step - loss: 5.7860 - lr: 2.8184e-06\n",
            "Epoch 51/100\n",
            "31/31 [==============================] - 1s 23ms/step - loss: 5.7010 - lr: 3.1623e-06\n",
            "Epoch 52/100\n",
            "31/31 [==============================] - 1s 23ms/step - loss: 5.6609 - lr: 3.5481e-06\n",
            "Epoch 53/100\n",
            "31/31 [==============================] - 1s 22ms/step - loss: 5.6980 - lr: 3.9811e-06\n",
            "Epoch 54/100\n",
            "31/31 [==============================] - 1s 23ms/step - loss: 5.4681 - lr: 4.4668e-06\n",
            "Epoch 55/100\n",
            "31/31 [==============================] - 1s 23ms/step - loss: 5.4165 - lr: 5.0119e-06\n",
            "Epoch 56/100\n",
            "31/31 [==============================] - 1s 22ms/step - loss: 5.3101 - lr: 5.6234e-06\n",
            "Epoch 57/100\n",
            "31/31 [==============================] - 1s 22ms/step - loss: 5.1214 - lr: 6.3096e-06\n",
            "Epoch 58/100\n",
            "31/31 [==============================] - 1s 22ms/step - loss: 5.2518 - lr: 7.0795e-06\n",
            "Epoch 59/100\n",
            "31/31 [==============================] - 1s 22ms/step - loss: 5.0209 - lr: 7.9433e-06\n",
            "Epoch 60/100\n",
            "31/31 [==============================] - 1s 22ms/step - loss: 5.0150 - lr: 8.9125e-06\n",
            "Epoch 61/100\n",
            "31/31 [==============================] - 1s 22ms/step - loss: 5.0437 - lr: 1.0000e-05\n",
            "Epoch 62/100\n",
            "31/31 [==============================] - 1s 22ms/step - loss: 5.0148 - lr: 1.1220e-05\n",
            "Epoch 63/100\n",
            "31/31 [==============================] - 1s 22ms/step - loss: 5.1020 - lr: 1.2589e-05\n",
            "Epoch 64/100\n",
            "31/31 [==============================] - 1s 22ms/step - loss: 4.8402 - lr: 1.4125e-05\n",
            "Epoch 65/100\n",
            "31/31 [==============================] - 1s 22ms/step - loss: 5.0389 - lr: 1.5849e-05\n",
            "Epoch 66/100\n",
            "31/31 [==============================] - 1s 22ms/step - loss: 5.2710 - lr: 1.7783e-05\n",
            "Epoch 67/100\n",
            "31/31 [==============================] - 1s 22ms/step - loss: 6.2613 - lr: 1.9953e-05\n",
            "Epoch 68/100\n",
            "31/31 [==============================] - 1s 22ms/step - loss: 5.2796 - lr: 2.2387e-05\n",
            "Epoch 69/100\n",
            "31/31 [==============================] - 1s 22ms/step - loss: 8.1385 - lr: 2.5119e-05\n",
            "Epoch 70/100\n",
            "31/31 [==============================] - 1s 22ms/step - loss: 5.6179 - lr: 2.8184e-05\n",
            "Epoch 71/100\n",
            "31/31 [==============================] - 1s 22ms/step - loss: 5.8185 - lr: 3.1623e-05\n",
            "Epoch 72/100\n",
            "31/31 [==============================] - 1s 22ms/step - loss: 7.9140 - lr: 3.5481e-05\n",
            "Epoch 73/100\n",
            "31/31 [==============================] - 1s 22ms/step - loss: 6.5501 - lr: 3.9811e-05\n",
            "Epoch 74/100\n",
            "31/31 [==============================] - 1s 21ms/step - loss: 5.1374 - lr: 4.4668e-05\n",
            "Epoch 75/100\n",
            "31/31 [==============================] - 1s 22ms/step - loss: 6.2277 - lr: 5.0119e-05\n",
            "Epoch 76/100\n",
            "31/31 [==============================] - 1s 23ms/step - loss: 5.6632 - lr: 5.6234e-05\n",
            "Epoch 77/100\n",
            "31/31 [==============================] - 1s 22ms/step - loss: 8.7951 - lr: 6.3096e-05\n",
            "Epoch 78/100\n",
            "31/31 [==============================] - 1s 22ms/step - loss: 6.9464 - lr: 7.0795e-05\n",
            "Epoch 79/100\n",
            "31/31 [==============================] - 1s 22ms/step - loss: 7.9675 - lr: 7.9433e-05\n",
            "Epoch 80/100\n",
            "31/31 [==============================] - 1s 23ms/step - loss: 6.6117 - lr: 8.9125e-05\n",
            "Epoch 81/100\n",
            "31/31 [==============================] - 1s 22ms/step - loss: 6.0679 - lr: 1.0000e-04\n",
            "Epoch 82/100\n",
            "31/31 [==============================] - 1s 22ms/step - loss: 6.0595 - lr: 1.1220e-04\n",
            "Epoch 83/100\n",
            "31/31 [==============================] - 1s 22ms/step - loss: 10.5092 - lr: 1.2589e-04\n",
            "Epoch 84/100\n",
            "31/31 [==============================] - 1s 22ms/step - loss: 9.7954 - lr: 1.4125e-04\n",
            "Epoch 85/100\n",
            "31/31 [==============================] - 1s 22ms/step - loss: 9.3710 - lr: 1.5849e-04\n",
            "Epoch 86/100\n",
            "31/31 [==============================] - 1s 22ms/step - loss: 8.6104 - lr: 1.7783e-04\n",
            "Epoch 87/100\n",
            "31/31 [==============================] - 1s 22ms/step - loss: 6.4611 - lr: 1.9953e-04\n",
            "Epoch 88/100\n",
            "31/31 [==============================] - 1s 22ms/step - loss: 5.6678 - lr: 2.2387e-04\n",
            "Epoch 89/100\n",
            "31/31 [==============================] - 1s 22ms/step - loss: 6.4395 - lr: 2.5119e-04\n",
            "Epoch 90/100\n",
            "31/31 [==============================] - 1s 22ms/step - loss: 8.5880 - lr: 2.8184e-04\n",
            "Epoch 91/100\n",
            "31/31 [==============================] - 1s 22ms/step - loss: 10.8982 - lr: 3.1623e-04\n",
            "Epoch 92/100\n",
            "31/31 [==============================] - 1s 23ms/step - loss: 8.7196 - lr: 3.5481e-04\n",
            "Epoch 93/100\n",
            "31/31 [==============================] - 1s 22ms/step - loss: 8.3968 - lr: 3.9811e-04\n",
            "Epoch 94/100\n",
            "31/31 [==============================] - 1s 23ms/step - loss: 6.9526 - lr: 4.4668e-04\n",
            "Epoch 95/100\n",
            "31/31 [==============================] - 1s 22ms/step - loss: 8.4773 - lr: 5.0119e-04\n",
            "Epoch 96/100\n",
            "31/31 [==============================] - 1s 23ms/step - loss: 7.5990 - lr: 5.6234e-04\n",
            "Epoch 97/100\n",
            "31/31 [==============================] - 1s 22ms/step - loss: 10.9198 - lr: 6.3096e-04\n",
            "Epoch 98/100\n",
            "31/31 [==============================] - 1s 23ms/step - loss: 9.8805 - lr: 7.0795e-04\n",
            "Epoch 99/100\n",
            "31/31 [==============================] - 1s 23ms/step - loss: 11.8483 - lr: 7.9433e-04\n",
            "Epoch 100/100\n",
            "31/31 [==============================] - 1s 22ms/step - loss: 13.0291 - lr: 8.9125e-04\n"
          ]
        }
      ]
    },
    {
      "cell_type": "markdown",
      "source": [
        "##Find out best Learning Rate"
      ],
      "metadata": {
        "id": "YnJ-ZXD628zc"
      }
    },
    {
      "cell_type": "code",
      "source": [
        "lrs = 1e-8*(10**(np.arange(100)/20))\n",
        "\n",
        "plt.figure(figsize=(10,6))\n",
        "\n",
        "plt.grid(True)\n",
        "\n",
        "plt.semilogx(lrs, history.history[\"loss\"])\n",
        "\n",
        "plt.tick_params('both', length=10, width=1, which='both')\n",
        "\n",
        "plt.axis([1e-8, 1e-3, 0, 30])\n"
      ],
      "metadata": {
        "colab": {
          "base_uri": "https://localhost:8080/",
          "height": 406
        },
        "id": "b05eQ1MJ20Ao",
        "outputId": "94371b12-3bed-4eb8-9757-a6ba18d04603"
      },
      "execution_count": 18,
      "outputs": [
        {
          "output_type": "execute_result",
          "data": {
            "text/plain": [
              "(1e-08, 0.001, 0.0, 30.0)"
            ]
          },
          "metadata": {},
          "execution_count": 18
        },
        {
          "output_type": "display_data",
          "data": {
            "text/plain": [
              "<Figure size 720x432 with 1 Axes>"
            ],
            "image/png": "[encoded data removed]"
          },
          "metadata": {
            "needs_background": "light"
          }
        }
      ]
    },
    {
      "cell_type": "markdown",
      "source": [
        "##Train the Model with choosen Learning Rate"
      ],
      "metadata": {
        "id": "u9bo04_h4IOU"
      }
    },
    {
      "cell_type": "code",
      "source": [
        "# Reset states generated by Keras\n",
        "tf.keras.backend.clear_session()\n",
        "\n",
        "model = tf.keras.models.Sequential([\n",
        "        tf.keras.layers.Lambda(lambda x: tf.expand_dims(x, axis=-1), input_shape=[window_size]),\n",
        "        tf.keras.layers.Bidirectional(tf.keras.layers.LSTM(32, return_sequences=True)),\n",
        "        tf.keras.layers.Bidirectional(tf.keras.layers.LSTM(32)),\n",
        "        tf.keras.layers.Dense(1),\n",
        "        tf.keras.layers.Lambda(lambda x: x*100.0)\n",
        "        ])\n",
        "\n",
        "learning_rate = 1e-6\n",
        "\n",
        "optimizer = tf.keras.optimizers.SGD(learning_rate=learning_rate, momentum=.9)\n",
        "\n",
        "model.compile(loss=tf.keras.losses.Huber(),\n",
        "              optimizer=optimizer,\n",
        "              metrics=['mae'])\n",
        "\n",
        "tensorboard = tf.keras.callbacks.TensorBoard(log_dir='tb_logs')\n",
        "\n",
        "history = model.fit(dataset, epochs=100, callbacks=[tensorboard])"
      ],
      "metadata": {
        "colab": {
          "base_uri": "https://localhost:8080/"
        },
        "id": "XHmcgHQd3pPk",
        "outputId": "c68ad3d3-e425-4012-f643-23e5e8209860"
      },
      "execution_count": 20,
      "outputs": [
        {
          "output_type": "stream",
          "name": "stdout",
          "text": [
            "Epoch 1/100\n",
            "31/31 [==============================] - 8s 23ms/step - loss: 23.0810 - mae: 23.5772\n",
            "Epoch 2/100\n",
            "31/31 [==============================] - 1s 22ms/step - loss: 12.7543 - mae: 13.2485\n",
            "Epoch 3/100\n",
            "31/31 [==============================] - 1s 22ms/step - loss: 10.0952 - mae: 10.5841\n",
            "Epoch 4/100\n",
            "31/31 [==============================] - 1s 23ms/step - loss: 8.1618 - mae: 8.6457\n",
            "Epoch 5/100\n",
            "31/31 [==============================] - 1s 22ms/step - loss: 7.3196 - mae: 7.7987\n",
            "Epoch 6/100\n",
            "31/31 [==============================] - 1s 23ms/step - loss: 7.0704 - mae: 7.5501\n",
            "Epoch 7/100\n",
            "31/31 [==============================] - 1s 23ms/step - loss: 6.9431 - mae: 7.4247\n",
            "Epoch 8/100\n",
            "31/31 [==============================] - 1s 23ms/step - loss: 6.8224 - mae: 7.3032\n",
            "Epoch 9/100\n",
            "31/31 [==============================] - 1s 23ms/step - loss: 6.7334 - mae: 7.2144\n",
            "Epoch 10/100\n",
            "31/31 [==============================] - 1s 23ms/step - loss: 6.6097 - mae: 7.0896\n",
            "Epoch 11/100\n",
            "31/31 [==============================] - 1s 22ms/step - loss: 6.5398 - mae: 7.0190\n",
            "Epoch 12/100\n",
            "31/31 [==============================] - 1s 23ms/step - loss: 6.4905 - mae: 6.9700\n",
            "Epoch 13/100\n",
            "31/31 [==============================] - 1s 23ms/step - loss: 6.3864 - mae: 6.8656\n",
            "Epoch 14/100\n",
            "31/31 [==============================] - 1s 23ms/step - loss: 6.4120 - mae: 6.8898\n",
            "Epoch 15/100\n",
            "31/31 [==============================] - 1s 24ms/step - loss: 6.3897 - mae: 6.8696\n",
            "Epoch 16/100\n",
            "31/31 [==============================] - 1s 23ms/step - loss: 6.2578 - mae: 6.7355\n",
            "Epoch 17/100\n",
            "31/31 [==============================] - 1s 23ms/step - loss: 6.1408 - mae: 6.6216\n",
            "Epoch 18/100\n",
            "31/31 [==============================] - 1s 23ms/step - loss: 6.1043 - mae: 6.5854\n",
            "Epoch 19/100\n",
            "31/31 [==============================] - 1s 22ms/step - loss: 6.0534 - mae: 6.5314\n",
            "Epoch 20/100\n",
            "31/31 [==============================] - 1s 23ms/step - loss: 6.0016 - mae: 6.4801\n",
            "Epoch 21/100\n",
            "31/31 [==============================] - 1s 22ms/step - loss: 5.9637 - mae: 6.4439\n",
            "Epoch 22/100\n",
            "31/31 [==============================] - 1s 22ms/step - loss: 5.9548 - mae: 6.4330\n",
            "Epoch 23/100\n",
            "31/31 [==============================] - 1s 23ms/step - loss: 5.8756 - mae: 6.3530\n",
            "Epoch 24/100\n",
            "31/31 [==============================] - 1s 23ms/step - loss: 5.8244 - mae: 6.3039\n",
            "Epoch 25/100\n",
            "31/31 [==============================] - 1s 23ms/step - loss: 5.8121 - mae: 6.2908\n",
            "Epoch 26/100\n",
            "31/31 [==============================] - 1s 22ms/step - loss: 5.7466 - mae: 6.2233\n",
            "Epoch 27/100\n",
            "31/31 [==============================] - 1s 22ms/step - loss: 5.7345 - mae: 6.2121\n",
            "Epoch 28/100\n",
            "31/31 [==============================] - 1s 22ms/step - loss: 5.6717 - mae: 6.1480\n",
            "Epoch 29/100\n",
            "31/31 [==============================] - 1s 22ms/step - loss: 5.6704 - mae: 6.1472\n",
            "Epoch 30/100\n",
            "31/31 [==============================] - 1s 22ms/step - loss: 5.5909 - mae: 6.0700\n",
            "Epoch 31/100\n",
            "31/31 [==============================] - 1s 23ms/step - loss: 5.6193 - mae: 6.0977\n",
            "Epoch 32/100\n",
            "31/31 [==============================] - 1s 23ms/step - loss: 5.5654 - mae: 6.0440\n",
            "Epoch 33/100\n",
            "31/31 [==============================] - 1s 23ms/step - loss: 5.5353 - mae: 6.0130\n",
            "Epoch 34/100\n",
            "31/31 [==============================] - 1s 23ms/step - loss: 5.5269 - mae: 6.0078\n",
            "Epoch 35/100\n",
            "31/31 [==============================] - 1s 23ms/step - loss: 5.5068 - mae: 5.9820\n",
            "Epoch 36/100\n",
            "31/31 [==============================] - 1s 22ms/step - loss: 5.4619 - mae: 5.9380\n",
            "Epoch 37/100\n",
            "31/31 [==============================] - 1s 23ms/step - loss: 5.4497 - mae: 5.9275\n",
            "Epoch 38/100\n",
            "31/31 [==============================] - 1s 23ms/step - loss: 5.4372 - mae: 5.9134\n",
            "Epoch 39/100\n",
            "31/31 [==============================] - 1s 22ms/step - loss: 5.4071 - mae: 5.8822\n",
            "Epoch 40/100\n",
            "31/31 [==============================] - 1s 22ms/step - loss: 5.3786 - mae: 5.8575\n",
            "Epoch 41/100\n",
            "31/31 [==============================] - 1s 22ms/step - loss: 5.3759 - mae: 5.8540\n",
            "Epoch 42/100\n",
            "31/31 [==============================] - 1s 23ms/step - loss: 5.3721 - mae: 5.8521\n",
            "Epoch 43/100\n",
            "31/31 [==============================] - 1s 22ms/step - loss: 5.3889 - mae: 5.8703\n",
            "Epoch 44/100\n",
            "31/31 [==============================] - 1s 23ms/step - loss: 5.3495 - mae: 5.8235\n",
            "Epoch 45/100\n",
            "31/31 [==============================] - 1s 22ms/step - loss: 5.2813 - mae: 5.7596\n",
            "Epoch 46/100\n",
            "31/31 [==============================] - 1s 22ms/step - loss: 5.2701 - mae: 5.7474\n",
            "Epoch 47/100\n",
            "31/31 [==============================] - 1s 23ms/step - loss: 5.2488 - mae: 5.7261\n",
            "Epoch 48/100\n",
            "31/31 [==============================] - 1s 23ms/step - loss: 5.2265 - mae: 5.7046\n",
            "Epoch 49/100\n",
            "31/31 [==============================] - 1s 23ms/step - loss: 5.1788 - mae: 5.6552\n",
            "Epoch 50/100\n",
            "31/31 [==============================] - 1s 22ms/step - loss: 5.2168 - mae: 5.6944\n",
            "Epoch 51/100\n",
            "31/31 [==============================] - 1s 22ms/step - loss: 5.1817 - mae: 5.6591\n",
            "Epoch 52/100\n",
            "31/31 [==============================] - 1s 22ms/step - loss: 5.1782 - mae: 5.6558\n",
            "Epoch 53/100\n",
            "31/31 [==============================] - 1s 22ms/step - loss: 5.1754 - mae: 5.6494\n",
            "Epoch 54/100\n",
            "31/31 [==============================] - 1s 23ms/step - loss: 5.1216 - mae: 5.5985\n",
            "Epoch 55/100\n",
            "31/31 [==============================] - 1s 22ms/step - loss: 5.0991 - mae: 5.5762\n",
            "Epoch 56/100\n",
            "31/31 [==============================] - 1s 22ms/step - loss: 5.1391 - mae: 5.6109\n",
            "Epoch 57/100\n",
            "31/31 [==============================] - 1s 22ms/step - loss: 5.0632 - mae: 5.5415\n",
            "Epoch 58/100\n",
            "31/31 [==============================] - 1s 22ms/step - loss: 5.0942 - mae: 5.5711\n",
            "Epoch 59/100\n",
            "31/31 [==============================] - 1s 22ms/step - loss: 5.0788 - mae: 5.5569\n",
            "Epoch 60/100\n",
            "31/31 [==============================] - 1s 23ms/step - loss: 5.0313 - mae: 5.5079\n",
            "Epoch 61/100\n",
            "31/31 [==============================] - 1s 22ms/step - loss: 5.0366 - mae: 5.5193\n",
            "Epoch 62/100\n",
            "31/31 [==============================] - 1s 23ms/step - loss: 4.9879 - mae: 5.4656\n",
            "Epoch 63/100\n",
            "31/31 [==============================] - 1s 22ms/step - loss: 4.9780 - mae: 5.4549\n",
            "Epoch 64/100\n",
            "31/31 [==============================] - 1s 23ms/step - loss: 4.9688 - mae: 5.4492\n",
            "Epoch 65/100\n",
            "31/31 [==============================] - 1s 22ms/step - loss: 4.9969 - mae: 5.4739\n",
            "Epoch 66/100\n",
            "31/31 [==============================] - 1s 23ms/step - loss: 5.0053 - mae: 5.4848\n",
            "Epoch 67/100\n",
            "31/31 [==============================] - 1s 22ms/step - loss: 4.9227 - mae: 5.4014\n",
            "Epoch 68/100\n",
            "31/31 [==============================] - 1s 22ms/step - loss: 4.9212 - mae: 5.3983\n",
            "Epoch 69/100\n",
            "31/31 [==============================] - 1s 23ms/step - loss: 4.9484 - mae: 5.4242\n",
            "Epoch 70/100\n",
            "31/31 [==============================] - 1s 23ms/step - loss: 4.9111 - mae: 5.3879\n",
            "Epoch 71/100\n",
            "31/31 [==============================] - 1s 22ms/step - loss: 4.9237 - mae: 5.4024\n",
            "Epoch 72/100\n",
            "31/31 [==============================] - 1s 22ms/step - loss: 4.9667 - mae: 5.4474\n",
            "Epoch 73/100\n",
            "31/31 [==============================] - 1s 22ms/step - loss: 4.8821 - mae: 5.3567\n",
            "Epoch 74/100\n",
            "31/31 [==============================] - 1s 23ms/step - loss: 4.8481 - mae: 5.3272\n",
            "Epoch 75/100\n",
            "31/31 [==============================] - 1s 22ms/step - loss: 4.8876 - mae: 5.3639\n",
            "Epoch 76/100\n",
            "31/31 [==============================] - 1s 23ms/step - loss: 4.8210 - mae: 5.2987\n",
            "Epoch 77/100\n",
            "31/31 [==============================] - 1s 22ms/step - loss: 4.8364 - mae: 5.3134\n",
            "Epoch 78/100\n",
            "31/31 [==============================] - 1s 23ms/step - loss: 4.8159 - mae: 5.2927\n",
            "Epoch 79/100\n",
            "31/31 [==============================] - 1s 23ms/step - loss: 4.8473 - mae: 5.3283\n",
            "Epoch 80/100\n",
            "31/31 [==============================] - 1s 23ms/step - loss: 4.7991 - mae: 5.2760\n",
            "Epoch 81/100\n",
            "31/31 [==============================] - 1s 23ms/step - loss: 4.7576 - mae: 5.2335\n",
            "Epoch 82/100\n",
            "31/31 [==============================] - 1s 23ms/step - loss: 4.7613 - mae: 5.2379\n",
            "Epoch 83/100\n",
            "31/31 [==============================] - 1s 23ms/step - loss: 4.7561 - mae: 5.2356\n",
            "Epoch 84/100\n",
            "31/31 [==============================] - 1s 23ms/step - loss: 4.7843 - mae: 5.2636\n",
            "Epoch 85/100\n",
            "31/31 [==============================] - 1s 22ms/step - loss: 4.8928 - mae: 5.3684\n",
            "Epoch 86/100\n",
            "31/31 [==============================] - 1s 23ms/step - loss: 4.7607 - mae: 5.2407\n",
            "Epoch 87/100\n",
            "31/31 [==============================] - 1s 22ms/step - loss: 4.7475 - mae: 5.2237\n",
            "Epoch 88/100\n",
            "31/31 [==============================] - 1s 23ms/step - loss: 4.8599 - mae: 5.3381\n",
            "Epoch 89/100\n",
            "31/31 [==============================] - 1s 22ms/step - loss: 4.7425 - mae: 5.2200\n",
            "Epoch 90/100\n",
            "31/31 [==============================] - 1s 23ms/step - loss: 4.6998 - mae: 5.1765\n",
            "Epoch 91/100\n",
            "31/31 [==============================] - 1s 23ms/step - loss: 4.6976 - mae: 5.1758\n",
            "Epoch 92/100\n",
            "31/31 [==============================] - 1s 23ms/step - loss: 4.6912 - mae: 5.1664\n",
            "Epoch 93/100\n",
            "31/31 [==============================] - 1s 23ms/step - loss: 4.6903 - mae: 5.1699\n",
            "Epoch 94/100\n",
            "31/31 [==============================] - 1s 23ms/step - loss: 4.6988 - mae: 5.1759\n",
            "Epoch 95/100\n",
            "31/31 [==============================] - 1s 24ms/step - loss: 4.7280 - mae: 5.2062\n",
            "Epoch 96/100\n",
            "31/31 [==============================] - 1s 23ms/step - loss: 4.6716 - mae: 5.1469\n",
            "Epoch 97/100\n",
            "31/31 [==============================] - 1s 23ms/step - loss: 4.6802 - mae: 5.1559\n",
            "Epoch 98/100\n",
            "31/31 [==============================] - 1s 23ms/step - loss: 4.6726 - mae: 5.1464\n",
            "Epoch 99/100\n",
            "31/31 [==============================] - 1s 23ms/step - loss: 4.6411 - mae: 5.1172\n",
            "Epoch 100/100\n",
            "31/31 [==============================] - 1s 23ms/step - loss: 4.6738 - mae: 5.1535\n"
          ]
        }
      ]
    },
    {
      "cell_type": "markdown",
      "source": [
        "##Model Prediction"
      ],
      "metadata": {
        "id": "EFNv2jaX6522"
      }
    },
    {
      "cell_type": "code",
      "source": [
        "def model_forecast(model, series, window_size, batch_size):\n",
        "    dataset = tf.data.Dataset.from_tensor_slices(series)\n",
        "    dataset = dataset.window(size=window_size, shift=1, drop_remainder=True)\n",
        "    dataset = dataset.flat_map(lambda w: w.batch(window_size))\n",
        "    dataset = dataset.batch(batch_size).prefetch(1)\n",
        "    forecast = model.predict(dataset)\n",
        "    return forecast"
      ],
      "metadata": {
        "id": "2tOYeom66lIq"
      },
      "execution_count": 22,
      "outputs": []
    },
    {
      "cell_type": "code",
      "source": [
        "forecast_series = series[split_time-window_size:-1]\n",
        "\n",
        "forecast = model_forecast(model, forecast_series, window_size, batch_size)\n",
        "\n",
        "results = forecast.squeeze()\n",
        "\n",
        "plot_series(time_valid, (x_valid, results))"
      ],
      "metadata": {
        "colab": {
          "base_uri": "https://localhost:8080/",
          "height": 388
        },
        "id": "r1aLCxss8AF_",
        "outputId": "dbb1b91f-8fd7-4d88-d7b8-35bac40f5a13"
      },
      "execution_count": 23,
      "outputs": [
        {
          "output_type": "display_data",
          "data": {
            "text/plain": [
              "<Figure size 720x432 with 1 Axes>"
            ],
            "image/png": "[encoded data removed]"
          },
          "metadata": {
            "needs_background": "light"
          }
        }
      ]
    },
    {
      "cell_type": "code",
      "source": [
        "print(tf.keras.metrics.mean_squared_error(x_valid, results).numpy())\n",
        "print(tf.keras.metrics.mean_absolute_error(x_valid, results).numpy())"
      ],
      "metadata": {
        "colab": {
          "base_uri": "https://localhost:8080/"
        },
        "id": "hhINth3s8cG9",
        "outputId": "c8164109-ea7d-4c98-d13c-eca328e7b1a0"
      },
      "execution_count": 24,
      "outputs": [
        {
          "output_type": "stream",
          "name": "stdout",
          "text": [
            "95.21507\n",
            "7.0149293\n"
          ]
        }
      ]
    },
    {
      "cell_type": "markdown",
      "source": [
        "#(OPTIONAL)\n",
        "##Use Validation set in Training"
      ],
      "metadata": {
        "id": "vyBsk90L87nC"
      }
    },
    {
      "cell_type": "code",
      "source": [
        "val_set = windowed_dataset(x_valid, window_size, batch_size, shuffle_buffer_size)\n",
        "\n"
      ],
      "metadata": {
        "id": "J4M1w_0d8sor"
      },
      "execution_count": 25,
      "outputs": []
    },
    {
      "cell_type": "markdown",
      "source": [
        "##Train with validation set\n"
      ],
      "metadata": {
        "id": "XLGxldHp9RTA"
      }
    },
    {
      "cell_type": "code",
      "source": [
        "tf.keras.backend.clear_session()\n",
        "\n",
        "model = tf.keras.models.Sequential([\n",
        "        tf.keras.layers.Lambda(lambda x: tf.expand_dims(x, axis=-1), input_shape=[window_size]),\n",
        "        tf.keras.layers.Bidirectional(tf.keras.layers.LSTM(32, return_sequences=True)),\n",
        "        tf.keras.layers.Bidirectional(tf.keras.layers.LSTM(32)),\n",
        "        tf.keras.layers.Dense(1),\n",
        "        tf.keras.layers.Lambda(lambda x: x*100.0)\n",
        "        ])\n",
        "\n",
        "learning_rate = 1e-6\n",
        "\n",
        "optimizer = tf.keras.optimizers.SGD(learning_rate=learning_rate, momentum=.9)\n",
        "\n",
        "model.compile(loss=tf.keras.losses.Huber(),\n",
        "              optimizer=optimizer,\n",
        "              metrics=['mae'])\n",
        "\n",
        "history = model.fit(dataset, epochs=100, validation_data=val_set)"
      ],
      "metadata": {
        "colab": {
          "base_uri": "https://localhost:8080/"
        },
        "id": "FADzQOpz9PrU",
        "outputId": "448fe0b2-3ead-486b-8cd1-b70acda8a5bd"
      },
      "execution_count": 27,
      "outputs": [
        {
          "output_type": "stream",
          "name": "stdout",
          "text": [
            "Epoch 1/100\n",
            "31/31 [==============================] - 10s 89ms/step - loss: 22.2188 - mae: 22.7129 - val_loss: 33.6081 - val_mae: 34.1075\n",
            "Epoch 2/100\n",
            "31/31 [==============================] - 1s 30ms/step - loss: 17.6751 - mae: 18.1702 - val_loss: 32.5601 - val_mae: 33.0596\n",
            "Epoch 3/100\n",
            "31/31 [==============================] - 1s 30ms/step - loss: 15.2616 - mae: 15.7527 - val_loss: 27.5703 - val_mae: 28.0685\n",
            "Epoch 4/100\n",
            "31/31 [==============================] - 1s 31ms/step - loss: 12.8020 - mae: 13.2916 - val_loss: 24.0908 - val_mae: 24.5894\n",
            "Epoch 5/100\n",
            "31/31 [==============================] - 1s 30ms/step - loss: 10.6478 - mae: 11.1386 - val_loss: 21.2905 - val_mae: 21.7889\n",
            "Epoch 6/100\n",
            "31/31 [==============================] - 1s 31ms/step - loss: 9.1601 - mae: 9.6453 - val_loss: 17.4096 - val_mae: 17.9057\n",
            "Epoch 7/100\n",
            "31/31 [==============================] - 1s 30ms/step - loss: 8.3247 - mae: 8.8076 - val_loss: 16.4948 - val_mae: 16.9909\n",
            "Epoch 8/100\n",
            "31/31 [==============================] - 1s 30ms/step - loss: 7.8930 - mae: 8.3783 - val_loss: 14.9810 - val_mae: 15.4780\n",
            "Epoch 9/100\n",
            "31/31 [==============================] - 1s 30ms/step - loss: 7.5497 - mae: 8.0311 - val_loss: 13.2117 - val_mae: 13.7070\n",
            "Epoch 10/100\n",
            "31/31 [==============================] - 1s 30ms/step - loss: 7.3240 - mae: 7.8030 - val_loss: 14.2770 - val_mae: 14.7724\n",
            "Epoch 11/100\n",
            "31/31 [==============================] - 1s 31ms/step - loss: 7.2733 - mae: 7.7600 - val_loss: 12.8826 - val_mae: 13.3768\n",
            "Epoch 12/100\n",
            "31/31 [==============================] - 1s 30ms/step - loss: 7.0446 - mae: 7.5217 - val_loss: 12.0440 - val_mae: 12.5366\n",
            "Epoch 13/100\n",
            "31/31 [==============================] - 1s 30ms/step - loss: 6.8923 - mae: 7.3728 - val_loss: 12.5802 - val_mae: 13.0745\n",
            "Epoch 14/100\n",
            "31/31 [==============================] - 1s 30ms/step - loss: 6.9927 - mae: 7.4717 - val_loss: 9.3464 - val_mae: 9.8361\n",
            "Epoch 15/100\n",
            "31/31 [==============================] - 1s 31ms/step - loss: 6.9512 - mae: 7.4355 - val_loss: 10.1114 - val_mae: 10.6016\n",
            "Epoch 16/100\n",
            "31/31 [==============================] - 1s 30ms/step - loss: 6.8304 - mae: 7.3124 - val_loss: 9.7786 - val_mae: 10.2678\n",
            "Epoch 17/100\n",
            "31/31 [==============================] - 1s 30ms/step - loss: 6.6931 - mae: 7.1732 - val_loss: 9.4393 - val_mae: 9.9304\n",
            "Epoch 18/100\n",
            "31/31 [==============================] - 1s 30ms/step - loss: 6.6283 - mae: 7.1099 - val_loss: 9.6435 - val_mae: 10.1324\n",
            "Epoch 19/100\n",
            "31/31 [==============================] - 1s 30ms/step - loss: 6.5942 - mae: 7.0705 - val_loss: 9.3579 - val_mae: 9.8479\n",
            "Epoch 20/100\n",
            "31/31 [==============================] - 1s 30ms/step - loss: 6.5179 - mae: 6.9966 - val_loss: 8.3509 - val_mae: 8.8383\n",
            "Epoch 21/100\n",
            "31/31 [==============================] - 1s 30ms/step - loss: 6.4750 - mae: 6.9529 - val_loss: 8.4816 - val_mae: 8.9667\n",
            "Epoch 22/100\n",
            "31/31 [==============================] - 1s 30ms/step - loss: 6.3363 - mae: 6.8160 - val_loss: 9.0616 - val_mae: 9.5500\n",
            "Epoch 23/100\n",
            "31/31 [==============================] - 1s 30ms/step - loss: 6.2963 - mae: 6.7780 - val_loss: 8.3780 - val_mae: 8.8650\n",
            "Epoch 24/100\n",
            "31/31 [==============================] - 1s 31ms/step - loss: 6.2341 - mae: 6.7119 - val_loss: 8.0063 - val_mae: 8.4928\n",
            "Epoch 25/100\n",
            "31/31 [==============================] - 1s 31ms/step - loss: 6.1783 - mae: 6.6555 - val_loss: 8.4312 - val_mae: 8.9212\n",
            "Epoch 26/100\n",
            "31/31 [==============================] - 1s 30ms/step - loss: 6.1045 - mae: 6.5834 - val_loss: 8.0605 - val_mae: 8.5459\n",
            "Epoch 27/100\n",
            "31/31 [==============================] - 1s 30ms/step - loss: 6.0603 - mae: 6.5371 - val_loss: 7.7986 - val_mae: 8.2843\n",
            "Epoch 28/100\n",
            "31/31 [==============================] - 1s 31ms/step - loss: 6.0290 - mae: 6.5092 - val_loss: 7.9907 - val_mae: 8.4777\n",
            "Epoch 29/100\n",
            "31/31 [==============================] - 1s 30ms/step - loss: 5.9554 - mae: 6.4346 - val_loss: 8.2695 - val_mae: 8.7583\n",
            "Epoch 30/100\n",
            "31/31 [==============================] - 1s 30ms/step - loss: 5.9396 - mae: 6.4183 - val_loss: 8.1044 - val_mae: 8.5952\n",
            "Epoch 31/100\n",
            "31/31 [==============================] - 1s 30ms/step - loss: 5.9015 - mae: 6.3797 - val_loss: 7.5043 - val_mae: 7.9897\n",
            "Epoch 32/100\n",
            "31/31 [==============================] - 1s 30ms/step - loss: 5.8191 - mae: 6.2944 - val_loss: 7.3761 - val_mae: 7.8612\n",
            "Epoch 33/100\n",
            "31/31 [==============================] - 1s 31ms/step - loss: 5.8030 - mae: 6.2851 - val_loss: 6.9412 - val_mae: 7.4236\n",
            "Epoch 34/100\n",
            "31/31 [==============================] - 1s 30ms/step - loss: 5.7908 - mae: 6.2641 - val_loss: 7.8588 - val_mae: 8.3482\n",
            "Epoch 35/100\n",
            "31/31 [==============================] - 1s 30ms/step - loss: 5.7165 - mae: 6.1921 - val_loss: 7.1233 - val_mae: 7.6085\n",
            "Epoch 36/100\n",
            "31/31 [==============================] - 1s 31ms/step - loss: 5.6936 - mae: 6.1697 - val_loss: 7.3488 - val_mae: 7.8337\n",
            "Epoch 37/100\n",
            "31/31 [==============================] - 1s 30ms/step - loss: 5.6317 - mae: 6.1074 - val_loss: 7.1788 - val_mae: 7.6635\n",
            "Epoch 38/100\n",
            "31/31 [==============================] - 1s 31ms/step - loss: 5.6034 - mae: 6.0820 - val_loss: 7.3278 - val_mae: 7.8111\n",
            "Epoch 39/100\n",
            "31/31 [==============================] - 1s 31ms/step - loss: 5.5682 - mae: 6.0470 - val_loss: 7.1737 - val_mae: 7.6580\n",
            "Epoch 40/100\n",
            "31/31 [==============================] - 1s 30ms/step - loss: 5.5576 - mae: 6.0331 - val_loss: 7.5001 - val_mae: 7.9875\n",
            "Epoch 41/100\n",
            "31/31 [==============================] - 1s 30ms/step - loss: 5.5234 - mae: 6.0003 - val_loss: 7.4883 - val_mae: 7.9756\n",
            "Epoch 42/100\n",
            "31/31 [==============================] - 1s 31ms/step - loss: 5.4709 - mae: 5.9491 - val_loss: 7.1145 - val_mae: 7.5990\n",
            "Epoch 43/100\n",
            "31/31 [==============================] - 1s 31ms/step - loss: 5.4763 - mae: 5.9553 - val_loss: 7.7493 - val_mae: 8.2358\n",
            "Epoch 44/100\n",
            "31/31 [==============================] - 1s 32ms/step - loss: 5.5304 - mae: 6.0135 - val_loss: 6.9852 - val_mae: 7.4685\n",
            "Epoch 45/100\n",
            "31/31 [==============================] - 1s 32ms/step - loss: 5.3737 - mae: 5.8519 - val_loss: 7.1793 - val_mae: 7.6620\n",
            "Epoch 46/100\n",
            "31/31 [==============================] - 1s 32ms/step - loss: 5.3202 - mae: 5.7942 - val_loss: 6.8831 - val_mae: 7.3662\n",
            "Epoch 47/100\n",
            "31/31 [==============================] - 1s 30ms/step - loss: 5.2710 - mae: 5.7505 - val_loss: 7.5586 - val_mae: 8.0456\n",
            "Epoch 48/100\n",
            "31/31 [==============================] - 1s 31ms/step - loss: 5.2613 - mae: 5.7430 - val_loss: 6.7056 - val_mae: 7.1903\n",
            "Epoch 49/100\n",
            "31/31 [==============================] - 1s 30ms/step - loss: 5.2765 - mae: 5.7546 - val_loss: 6.8827 - val_mae: 7.3655\n",
            "Epoch 50/100\n",
            "31/31 [==============================] - 1s 31ms/step - loss: 5.2695 - mae: 5.7504 - val_loss: 8.3403 - val_mae: 8.8266\n",
            "Epoch 51/100\n",
            "31/31 [==============================] - 1s 31ms/step - loss: 5.1843 - mae: 5.6623 - val_loss: 7.3900 - val_mae: 7.8741\n",
            "Epoch 52/100\n",
            "31/31 [==============================] - 1s 31ms/step - loss: 5.1238 - mae: 5.6011 - val_loss: 7.0197 - val_mae: 7.5046\n",
            "Epoch 53/100\n",
            "31/31 [==============================] - 1s 30ms/step - loss: 5.1542 - mae: 5.6340 - val_loss: 6.8234 - val_mae: 7.3036\n",
            "Epoch 54/100\n",
            "31/31 [==============================] - 1s 30ms/step - loss: 5.0788 - mae: 5.5600 - val_loss: 7.6744 - val_mae: 8.1605\n",
            "Epoch 55/100\n",
            "31/31 [==============================] - 1s 30ms/step - loss: 5.1240 - mae: 5.6061 - val_loss: 7.3648 - val_mae: 7.8513\n",
            "Epoch 56/100\n",
            "31/31 [==============================] - 1s 31ms/step - loss: 5.2762 - mae: 5.7562 - val_loss: 6.4339 - val_mae: 6.9184\n",
            "Epoch 57/100\n",
            "31/31 [==============================] - 1s 31ms/step - loss: 5.1023 - mae: 5.5790 - val_loss: 7.0830 - val_mae: 7.5666\n",
            "Epoch 58/100\n",
            "31/31 [==============================] - 1s 31ms/step - loss: 5.1186 - mae: 5.5973 - val_loss: 6.8978 - val_mae: 7.3809\n",
            "Epoch 59/100\n",
            "31/31 [==============================] - 1s 30ms/step - loss: 5.0798 - mae: 5.5601 - val_loss: 6.8439 - val_mae: 7.3246\n",
            "Epoch 60/100\n",
            "31/31 [==============================] - 1s 30ms/step - loss: 5.0978 - mae: 5.5757 - val_loss: 6.6394 - val_mae: 7.1226\n",
            "Epoch 61/100\n",
            "31/31 [==============================] - 1s 31ms/step - loss: 4.9856 - mae: 5.4646 - val_loss: 7.4624 - val_mae: 7.9448\n",
            "Epoch 62/100\n",
            "31/31 [==============================] - 1s 30ms/step - loss: 5.0867 - mae: 5.5612 - val_loss: 6.2529 - val_mae: 6.7378\n",
            "Epoch 63/100\n",
            "31/31 [==============================] - 1s 31ms/step - loss: 5.0740 - mae: 5.5520 - val_loss: 7.2506 - val_mae: 7.7354\n",
            "Epoch 64/100\n",
            "31/31 [==============================] - 1s 30ms/step - loss: 4.9200 - mae: 5.3966 - val_loss: 7.1466 - val_mae: 7.6311\n",
            "Epoch 65/100\n",
            "31/31 [==============================] - 1s 31ms/step - loss: 4.8686 - mae: 5.3442 - val_loss: 6.4848 - val_mae: 6.9696\n",
            "Epoch 66/100\n",
            "31/31 [==============================] - 1s 30ms/step - loss: 4.8562 - mae: 5.3350 - val_loss: 6.5671 - val_mae: 7.0488\n",
            "Epoch 67/100\n",
            "31/31 [==============================] - 1s 30ms/step - loss: 4.8178 - mae: 5.2922 - val_loss: 7.2460 - val_mae: 7.7290\n",
            "Epoch 68/100\n",
            "31/31 [==============================] - 1s 30ms/step - loss: 4.8375 - mae: 5.3143 - val_loss: 6.0684 - val_mae: 6.5535\n",
            "Epoch 69/100\n",
            "31/31 [==============================] - 1s 31ms/step - loss: 4.7821 - mae: 5.2579 - val_loss: 7.1831 - val_mae: 7.6646\n",
            "Epoch 70/100\n",
            "31/31 [==============================] - 1s 31ms/step - loss: 4.8135 - mae: 5.2940 - val_loss: 6.0721 - val_mae: 6.5571\n",
            "Epoch 71/100\n",
            "31/31 [==============================] - 1s 30ms/step - loss: 4.7494 - mae: 5.2280 - val_loss: 6.3088 - val_mae: 6.7919\n",
            "Epoch 72/100\n",
            "31/31 [==============================] - 1s 30ms/step - loss: 4.7780 - mae: 5.2493 - val_loss: 6.4496 - val_mae: 6.9307\n",
            "Epoch 73/100\n",
            "31/31 [==============================] - 1s 31ms/step - loss: 4.7668 - mae: 5.2483 - val_loss: 7.0477 - val_mae: 7.5288\n",
            "Epoch 74/100\n",
            "31/31 [==============================] - 1s 31ms/step - loss: 4.7044 - mae: 5.1817 - val_loss: 6.9276 - val_mae: 7.4111\n",
            "Epoch 75/100\n",
            "31/31 [==============================] - 1s 30ms/step - loss: 4.7104 - mae: 5.1878 - val_loss: 6.4703 - val_mae: 6.9501\n",
            "Epoch 76/100\n",
            "31/31 [==============================] - 1s 30ms/step - loss: 4.7284 - mae: 5.2074 - val_loss: 6.3201 - val_mae: 6.7996\n",
            "Epoch 77/100\n",
            "31/31 [==============================] - 1s 30ms/step - loss: 4.6728 - mae: 5.1507 - val_loss: 6.4908 - val_mae: 6.9710\n",
            "Epoch 78/100\n",
            "31/31 [==============================] - 1s 30ms/step - loss: 4.6716 - mae: 5.1483 - val_loss: 6.3456 - val_mae: 6.8258\n",
            "Epoch 79/100\n",
            "31/31 [==============================] - 1s 30ms/step - loss: 4.7350 - mae: 5.2136 - val_loss: 6.2714 - val_mae: 6.7522\n",
            "Epoch 80/100\n",
            "31/31 [==============================] - 1s 31ms/step - loss: 4.6869 - mae: 5.1635 - val_loss: 6.3615 - val_mae: 6.8400\n",
            "Epoch 81/100\n",
            "31/31 [==============================] - 1s 30ms/step - loss: 4.6594 - mae: 5.1360 - val_loss: 6.3169 - val_mae: 6.7963\n",
            "Epoch 82/100\n",
            "31/31 [==============================] - 1s 30ms/step - loss: 4.6869 - mae: 5.1646 - val_loss: 5.9379 - val_mae: 6.4220\n",
            "Epoch 83/100\n",
            "31/31 [==============================] - 1s 30ms/step - loss: 4.6975 - mae: 5.1759 - val_loss: 6.1194 - val_mae: 6.6042\n",
            "Epoch 84/100\n",
            "31/31 [==============================] - 1s 30ms/step - loss: 4.7259 - mae: 5.2037 - val_loss: 6.3468 - val_mae: 6.8320\n",
            "Epoch 85/100\n",
            "31/31 [==============================] - 1s 30ms/step - loss: 4.6961 - mae: 5.1744 - val_loss: 6.6093 - val_mae: 7.0916\n",
            "Epoch 86/100\n",
            "31/31 [==============================] - 1s 31ms/step - loss: 4.6191 - mae: 5.0963 - val_loss: 6.7677 - val_mae: 7.2512\n",
            "Epoch 87/100\n",
            "31/31 [==============================] - 1s 30ms/step - loss: 4.6610 - mae: 5.1348 - val_loss: 5.8426 - val_mae: 6.3254\n",
            "Epoch 88/100\n",
            "31/31 [==============================] - 1s 31ms/step - loss: 4.6824 - mae: 5.1598 - val_loss: 6.7226 - val_mae: 7.2048\n",
            "Epoch 89/100\n",
            "31/31 [==============================] - 1s 30ms/step - loss: 4.5993 - mae: 5.0757 - val_loss: 6.7551 - val_mae: 7.2353\n",
            "Epoch 90/100\n",
            "31/31 [==============================] - 1s 30ms/step - loss: 4.5969 - mae: 5.0767 - val_loss: 6.1401 - val_mae: 6.6209\n",
            "Epoch 91/100\n",
            "31/31 [==============================] - 1s 30ms/step - loss: 4.5597 - mae: 5.0379 - val_loss: 5.8776 - val_mae: 6.3652\n",
            "Epoch 92/100\n",
            "31/31 [==============================] - 1s 30ms/step - loss: 4.6469 - mae: 5.1210 - val_loss: 5.9554 - val_mae: 6.4405\n",
            "Epoch 93/100\n",
            "31/31 [==============================] - 1s 30ms/step - loss: 4.6207 - mae: 5.0980 - val_loss: 7.0690 - val_mae: 7.5501\n",
            "Epoch 94/100\n",
            "31/31 [==============================] - 1s 30ms/step - loss: 4.5794 - mae: 5.0578 - val_loss: 6.5645 - val_mae: 7.0460\n",
            "Epoch 95/100\n",
            "31/31 [==============================] - 1s 30ms/step - loss: 4.5961 - mae: 5.0726 - val_loss: 5.8852 - val_mae: 6.3724\n",
            "Epoch 96/100\n",
            "31/31 [==============================] - 1s 30ms/step - loss: 4.5699 - mae: 5.0451 - val_loss: 5.8829 - val_mae: 6.3672\n",
            "Epoch 97/100\n",
            "31/31 [==============================] - 1s 30ms/step - loss: 4.5798 - mae: 5.0611 - val_loss: 5.7534 - val_mae: 6.2365\n",
            "Epoch 98/100\n",
            "31/31 [==============================] - 1s 30ms/step - loss: 4.6879 - mae: 5.1662 - val_loss: 5.8027 - val_mae: 6.2872\n",
            "Epoch 99/100\n",
            "31/31 [==============================] - 1s 30ms/step - loss: 4.6310 - mae: 5.1069 - val_loss: 5.9857 - val_mae: 6.4683\n",
            "Epoch 100/100\n",
            "31/31 [==============================] - 1s 30ms/step - loss: 4.5668 - mae: 5.0442 - val_loss: 6.2537 - val_mae: 6.7340\n"
          ]
        }
      ]
    },
    {
      "cell_type": "code",
      "source": [
        ""
      ],
      "metadata": {
        "id": "K5LyeNPJ-rst"
      },
      "execution_count": null,
      "outputs": []
    }
  ]
}